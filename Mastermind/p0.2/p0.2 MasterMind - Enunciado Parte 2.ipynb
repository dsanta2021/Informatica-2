{
 "cells": [
  {
   "cell_type": "markdown",
   "metadata": {},
   "source": [
    "# Práctica 0.2 – Python MasterMind"
   ]
  },
  {
   "cell_type": "markdown",
   "metadata": {},
   "source": [
    "## Completando `MasterMindGame`: identificando aciertos y semiaciertos"
   ]
  },
  {
   "cell_type": "markdown",
   "metadata": {},
   "source": [
    "### Ejercicio 3\n",
    "\n",
    "Implementa `countExactMatches`, una función que añadiremos a `MasterMindGame` para completar el juego.\n",
    "\n",
    "Esta es la especificación que debe cumplir:\n",
    "\n",
    "* Debe aceptar como único argumento un array de `MasterMindColor`, que No almacenaremos en una variable de clase como `secretCode`.\n",
    "* Debe devolver un `int` con el número de aciertos entre la combinación indicada y el código secreto.\n",
    "* No es necesario verificar que la longitud de la clave coincide con la de la combinación que se suministra (aunque si quieres lo puedes hacer)."
   ]
  },
  {
   "cell_type": "code",
   "execution_count": 44,
   "metadata": {},
   "outputs": [],
   "source": [
    "import random\n",
    "\n",
    "#esqueleto inicial\n",
    "class MasterMindGame:\n",
    "\n",
    "    #declaramos las variables que vamos a utilizar\n",
    "    \n",
    "    MMC = {} #diccionario de colores válidos.   \n",
    "\n",
    "    secretCode = [] #código secreto que tenemos que adivinar.\n",
    "\n",
    "    validColors = \"rgybkw\" #colores mastermind permitidos    \n",
    "    \n",
    "    maxTurns = 10 #máximo número de turnos para acertar la clave.\n",
    "    currentTurn = 0 #turno actual.\n",
    "    \n",
    "    \n",
    "    #construimos la función para iniciar la clase\n",
    "    def __init__(self, combiCode:str = \"nocombiCode\"):\n",
    "        #iniciamos el diccionario de colores\n",
    "        self.MMC[\"red\"] = \"🔴\"\n",
    "        self.MMC[\"green\"] = \"🟢\"\n",
    "        self.MMC[\"yellow\"] = \"🟡\"\n",
    "        self.MMC[\"blue\"] = \"🔵\"\n",
    "        self.MMC[\"black\"] = \"⚫\"\n",
    "        self.MMC[\"white\"] = \"⚪\"\n",
    "    \n",
    "    def randomCode(self): #genera un código aleatorio\n",
    "        return 0\n",
    "                \n",
    "    def MasterMindColor(self): #convertir cadenas en colores\n",
    "        return 0\n",
    "        \n",
    "    def toMasterMindColorCombination (self): #obtener una cadena de colores mastermind\n",
    "        return 0       \n",
    "\n",
    "\n",
    "    #Tu código va aquí\n",
    "    #Recibe un array de colores MasterMind y devuelve los aciertos comparando con secretcode\n",
    "    def countExactMatches(self, mmcombi: list) -> int:\n",
    "        cmatches = 0\n",
    "        return cmatches"
   ]
  },
  {
   "cell_type": "markdown",
   "metadata": {},
   "source": [
    "Como en los casos anteriores, la siguiente celda mostrará mensajes (o no compilará) si tu implementación no es correcta."
   ]
  },
  {
   "cell_type": "code",
   "execution_count": 50,
   "metadata": {},
   "outputs": [
    {
     "name": "stdout",
     "output_type": "stream",
     "text": [
      "Probando secret code aleatorio []\n",
      "La clave secreta aleatoria coincide con la clave secreta.\n",
      "Probando secret code RGGB []\n",
      "La clave secreta suministrada coincide con la clave secreta.\n"
     ]
    },
    {
     "ename": "TypeError",
     "evalue": "toMasterMindColorCombination() takes 1 positional argument but 2 were given",
     "output_type": "error",
     "traceback": [
      "\u001b[0;31m---------------------------------------------------------------------------\u001b[0m",
      "\u001b[0;31mTypeError\u001b[0m                                 Traceback (most recent call last)",
      "Input \u001b[0;32mIn [50]\u001b[0m, in \u001b[0;36m<cell line: 34>\u001b[0;34m()\u001b[0m\n\u001b[1;32m     31\u001b[0m     \u001b[38;5;28;01melse\u001b[39;00m:\n\u001b[1;32m     32\u001b[0m         \u001b[38;5;28mprint\u001b[39m(\u001b[38;5;124mf\u001b[39m\u001b[38;5;124m\"\u001b[39m\u001b[38;5;124mLa combinación \u001b[39m\u001b[38;5;132;01m{\u001b[39;00mguess\u001b[38;5;132;01m}\u001b[39;00m\u001b[38;5;124m tiene \u001b[39m\u001b[38;5;132;01m{\u001b[39;00mnMatches\u001b[38;5;132;01m}\u001b[39;00m\u001b[38;5;124m aciertos que coincide con lo esperado \u001b[39m\u001b[38;5;132;01m{\u001b[39;00mexpected\u001b[38;5;132;01m}\u001b[39;00m\u001b[38;5;124m aciertos para la clave \u001b[39m\u001b[38;5;132;01m{\u001b[39;00mcode\u001b[38;5;132;01m}\u001b[39;00m\u001b[38;5;124m\"\u001b[39m)\n\u001b[0;32m---> 34\u001b[0m \u001b[43mcompareMatches\u001b[49m\u001b[43m(\u001b[49m\u001b[38;5;124;43m\"\u001b[39;49m\u001b[38;5;124;43mRGGB\u001b[39;49m\u001b[38;5;124;43m\"\u001b[39;49m\u001b[43m,\u001b[49m\u001b[43m \u001b[49m\u001b[38;5;124;43m\"\u001b[39;49m\u001b[38;5;124;43mRGGB\u001b[39;49m\u001b[38;5;124;43m\"\u001b[39;49m\u001b[43m,\u001b[49m\u001b[43m \u001b[49m\u001b[38;5;241;43m4\u001b[39;49m\u001b[43m)\u001b[49m\n\u001b[1;32m     36\u001b[0m compareMatches(\u001b[38;5;124m\"\u001b[39m\u001b[38;5;124mRGGB\u001b[39m\u001b[38;5;124m\"\u001b[39m, \u001b[38;5;124m\"\u001b[39m\u001b[38;5;124mKKKK\u001b[39m\u001b[38;5;124m\"\u001b[39m, \u001b[38;5;241m0\u001b[39m)\n\u001b[1;32m     37\u001b[0m compareMatches(\u001b[38;5;124m\"\u001b[39m\u001b[38;5;124mRGGB\u001b[39m\u001b[38;5;124m\"\u001b[39m, \u001b[38;5;124m\"\u001b[39m\u001b[38;5;124mGGGG\u001b[39m\u001b[38;5;124m\"\u001b[39m, \u001b[38;5;241m2\u001b[39m)\n",
      "Input \u001b[0;32mIn [50]\u001b[0m, in \u001b[0;36mcompareMatches\u001b[0;34m(code, guess, expected)\u001b[0m\n\u001b[1;32m     22\u001b[0m \u001b[38;5;28;01mdef\u001b[39;00m \u001b[38;5;21mcompareMatches\u001b[39m(code: \u001b[38;5;28mstr\u001b[39m, guess: \u001b[38;5;28mstr\u001b[39m, expected: \u001b[38;5;28mint\u001b[39m):\n\u001b[1;32m     23\u001b[0m     game \u001b[38;5;241m=\u001b[39m MasterMindGame(code)\n\u001b[0;32m---> 25\u001b[0m     colors \u001b[38;5;241m=\u001b[39m \u001b[43mgame\u001b[49m\u001b[38;5;241;43m.\u001b[39;49m\u001b[43mtoMasterMindColorCombination\u001b[49m\u001b[43m(\u001b[49m\u001b[43mguess\u001b[49m\u001b[43m)\u001b[49m\n\u001b[1;32m     27\u001b[0m     nMatches \u001b[38;5;241m=\u001b[39m game\u001b[38;5;241m.\u001b[39mcountExactMatches(colors)\n\u001b[1;32m     29\u001b[0m     \u001b[38;5;28;01mif\u001b[39;00m expected \u001b[38;5;241m!=\u001b[39m nMatches:\n",
      "\u001b[0;31mTypeError\u001b[0m: toMasterMindColorCombination() takes 1 positional argument but 2 were given"
     ]
    }
   ],
   "source": [
    "#Confía pero comprueba, Raymond Reddington en The Black List.\n",
    "\n",
    "testGame = MasterMindGame()\n",
    "\n",
    "print('Probando secret code aleatorio', testGame.secretCode)\n",
    "\n",
    "if testGame.countExactMatches(testGame.secretCode) != len(testGame.secretCode):\n",
    "    print(\"Cuando se genera una clave secreta aleatoria, todos los colores deberían coincidir.\")\n",
    "else:\n",
    "    print(\"La clave secreta aleatoria coincide con la clave secreta.\")\n",
    "\n",
    "testGame = MasterMindGame(\"RGGB\")\n",
    "\n",
    "print('Probando secret code RGGB', testGame.secretCode)\n",
    "\n",
    "if testGame.countExactMatches(testGame.secretCode) != len(testGame.secretCode):\n",
    "    print(\"Cuando se suministra la clave secreta, todos los colores deberían coincidir.\")\n",
    "else:\n",
    "    print(\"La clave secreta suministrada coincide con la clave secreta.\")\n",
    "\n",
    "\n",
    "def compareMatches(code: str, guess: str, expected: int):\n",
    "    game = MasterMindGame(code)\n",
    "\n",
    "    colors = game.toMasterMindColorCombination(guess)\n",
    "\n",
    "    nMatches = game.countExactMatches(colors)\n",
    "\n",
    "    if expected != nMatches:\n",
    "        print(f\"La combinación {guess} debería tener {expected} aciertos con la clave {code} y tenemos {nMatches}\")\n",
    "    else:\n",
    "        print(f\"La combinación {guess} tiene {nMatches} aciertos que coincide con lo esperado {expected} aciertos para la clave {code}\")\n",
    "\n",
    "compareMatches(\"RGGB\", \"RGGB\", 4)\n",
    "\n",
    "compareMatches(\"RGGB\", \"KKKK\", 0)\n",
    "compareMatches(\"RGGB\", \"GGGG\", 2)\n",
    "compareMatches(\"RGGB\", \"RBBB\", 2)\n",
    "compareMatches(\"RGGB\", \"GRRG\", 0)\n",
    "compareMatches(\"RGGB\", \"KGBY\", 1)\n",
    "compareMatches(\"RGGB\", \"GGBG\", 1)\n"
   ]
  },
  {
   "cell_type": "markdown",
   "metadata": {},
   "source": [
    "### Ejercicio 4\n",
    "\n",
    "Implementa `countPartialMatches`, una función que vamos a añadir a `MasterMindGame` para completar el juego. \n",
    "\n",
    "Debe funcionar de la misma forma que `countExactMatches`, pero contando los _semiaciertos_ en lugar de los aciertos. \n"
   ]
  },
  {
   "cell_type": "code",
   "execution_count": 48,
   "metadata": {},
   "outputs": [],
   "source": [
    "#esqueleto inicial\n",
    "class MasterMindGame:\n",
    "\n",
    "    #declaramos las variables que vamos a utilizar\n",
    "    \n",
    "    MMC = {} #diccionario de colores válidos.   \n",
    "\n",
    "    secretCode = [] #código secreto que tenemos que adivinar.\n",
    "\n",
    "    validColors = \"rgybkw\" #colores mastermind permitidos    \n",
    "    \n",
    "    maxTurns = 10 #máximo número de turnos para acertar la clave.\n",
    "    currentTurn = 0 #turno actual.\n",
    "    \n",
    "    \n",
    "    #construimos la función para iniciar la clase\n",
    "    def __init__(self, combiCode:str = \"nocombiCode\"):\n",
    "        #iniciamos el diccionario de colores\n",
    "        self.MMC[\"red\"] = \"🔴\"\n",
    "        self.MMC[\"green\"] = \"🟢\"\n",
    "        self.MMC[\"yellow\"] = \"🟡\"\n",
    "        self.MMC[\"blue\"] = \"🔵\"\n",
    "        self.MMC[\"black\"] = \"⚫\"\n",
    "        self.MMC[\"white\"] = \"⚪\"\n",
    "    \n",
    "    def randomCode(self): #genera un código aleatorio\n",
    "        return 0\n",
    "                \n",
    "    def MasterMindColor(self): #convertir cadenas en colores\n",
    "        return 0\n",
    "        \n",
    "    def toMasterMindColorCombination (self): #obtener una cadena de colores mastermind\n",
    "        return 0       \n",
    "\n",
    "\n",
    "    #Tu código va aquí\n",
    "    #Recibe un array de colores MasterMind y devuelve los aciertos comparando con secretcode\n",
    "    def countExactMatches(self, mmcombi: list) -> int:\n",
    "        cmatches = 0\n",
    "        return cmatches\n",
    "\n",
    "\n",
    "    #Tu código va aquí\n",
    "    #Recibe un array de colores MasterMInd y devuelve los semiaciertos comparando con secretcode\n",
    "    def countPartialMatches(self, mmcombi: list) -> int:\n",
    "        smatches = 0\n",
    "        return smatches"
   ]
  },
  {
   "cell_type": "markdown",
   "metadata": {},
   "source": [
    "La siguiente celda mostrará mensajes (o no compilará) si tu implementación no es correcta."
   ]
  },
  {
   "cell_type": "code",
   "execution_count": 49,
   "metadata": {},
   "outputs": [
    {
     "name": "stdout",
     "output_type": "stream",
     "text": [
      "Probando secret code aleatorio []\n",
      "La clave secreta aleatoria coincide con la clave secreta.\n",
      "Probando secret code RGGB []\n",
      "La clave secreta suministrada coincide con la clave secreta.\n"
     ]
    },
    {
     "ename": "TypeError",
     "evalue": "toMasterMindColorCombination() takes 1 positional argument but 2 were given",
     "output_type": "error",
     "traceback": [
      "\u001b[0;31m---------------------------------------------------------------------------\u001b[0m",
      "\u001b[0;31mTypeError\u001b[0m                                 Traceback (most recent call last)",
      "Input \u001b[0;32mIn [49]\u001b[0m, in \u001b[0;36m<cell line: 33>\u001b[0;34m()\u001b[0m\n\u001b[1;32m     30\u001b[0m     \u001b[38;5;28;01melse\u001b[39;00m:\n\u001b[1;32m     31\u001b[0m         \u001b[38;5;28mprint\u001b[39m(\u001b[38;5;124mf\u001b[39m\u001b[38;5;124m\"\u001b[39m\u001b[38;5;124mLa combinación \u001b[39m\u001b[38;5;132;01m{\u001b[39;00mguess\u001b[38;5;132;01m}\u001b[39;00m\u001b[38;5;124m tiene \u001b[39m\u001b[38;5;132;01m{\u001b[39;00mnMatches\u001b[38;5;132;01m}\u001b[39;00m\u001b[38;5;124m semiaciertos que coincide con lo esperado \u001b[39m\u001b[38;5;132;01m{\u001b[39;00mexpected\u001b[38;5;132;01m}\u001b[39;00m\u001b[38;5;124m semiaciertos para la clave \u001b[39m\u001b[38;5;132;01m{\u001b[39;00mcode\u001b[38;5;132;01m}\u001b[39;00m\u001b[38;5;124m\"\u001b[39m)\n\u001b[0;32m---> 33\u001b[0m \u001b[43mcomparePartialMatches\u001b[49m\u001b[43m(\u001b[49m\u001b[38;5;124;43m\"\u001b[39;49m\u001b[38;5;124;43mRGGB\u001b[39;49m\u001b[38;5;124;43m\"\u001b[39;49m\u001b[43m,\u001b[49m\u001b[43m \u001b[49m\u001b[38;5;124;43m\"\u001b[39;49m\u001b[38;5;124;43mRGGB\u001b[39;49m\u001b[38;5;124;43m\"\u001b[39;49m\u001b[43m,\u001b[49m\u001b[43m \u001b[49m\u001b[38;5;241;43m0\u001b[39;49m\u001b[43m)\u001b[49m\n\u001b[1;32m     35\u001b[0m comparePartialMatches(\u001b[38;5;124m\"\u001b[39m\u001b[38;5;124mRGGB\u001b[39m\u001b[38;5;124m\"\u001b[39m, \u001b[38;5;124m\"\u001b[39m\u001b[38;5;124mKKKK\u001b[39m\u001b[38;5;124m\"\u001b[39m, \u001b[38;5;241m0\u001b[39m)\n\u001b[1;32m     36\u001b[0m comparePartialMatches(\u001b[38;5;124m\"\u001b[39m\u001b[38;5;124mRGGB\u001b[39m\u001b[38;5;124m\"\u001b[39m, \u001b[38;5;124m\"\u001b[39m\u001b[38;5;124mGGGG\u001b[39m\u001b[38;5;124m\"\u001b[39m, \u001b[38;5;241m0\u001b[39m)\n",
      "Input \u001b[0;32mIn [49]\u001b[0m, in \u001b[0;36mcomparePartialMatches\u001b[0;34m(code, guess, expected)\u001b[0m\n\u001b[1;32m     21\u001b[0m \u001b[38;5;28;01mdef\u001b[39;00m \u001b[38;5;21mcomparePartialMatches\u001b[39m(code: \u001b[38;5;28mstr\u001b[39m, guess: \u001b[38;5;28mstr\u001b[39m, expected: \u001b[38;5;28mint\u001b[39m):\n\u001b[1;32m     22\u001b[0m     game \u001b[38;5;241m=\u001b[39m MasterMindGame(code)\n\u001b[0;32m---> 24\u001b[0m     colors \u001b[38;5;241m=\u001b[39m \u001b[43mgame\u001b[49m\u001b[38;5;241;43m.\u001b[39;49m\u001b[43mtoMasterMindColorCombination\u001b[49m\u001b[43m(\u001b[49m\u001b[43mguess\u001b[49m\u001b[43m)\u001b[49m\n\u001b[1;32m     26\u001b[0m     nMatches \u001b[38;5;241m=\u001b[39m game\u001b[38;5;241m.\u001b[39mcountPartialMatches(colors)\n\u001b[1;32m     28\u001b[0m     \u001b[38;5;28;01mif\u001b[39;00m expected \u001b[38;5;241m!=\u001b[39m nMatches:\n",
      "\u001b[0;31mTypeError\u001b[0m: toMasterMindColorCombination() takes 1 positional argument but 2 were given"
     ]
    }
   ],
   "source": [
    "#Confía pero comprueba, Raymond Reddington en The Black List.\n",
    "\n",
    "testGame = MasterMindGame()\n",
    "\n",
    "print('Probando secret code aleatorio', testGame.secretCode)\n",
    "\n",
    "if testGame.countExactMatches(testGame.secretCode) != len(testGame.secretCode):\n",
    "    print(\"Cuando se genera una clave secreta aleatoria, todos los colores deberían coincidir.\")\n",
    "else:\n",
    "    print(\"La clave secreta aleatoria coincide con la clave secreta.\")\n",
    "\n",
    "testGame = MasterMindGame(\"RGGB\")\n",
    "\n",
    "print('Probando secret code RGGB', testGame.secretCode)\n",
    "\n",
    "if testGame.countExactMatches(testGame.secretCode) != len(testGame.secretCode):\n",
    "    print(\"Cuando se suministra la clave secreta, todos los colores deberían coincidir.\")\n",
    "else:\n",
    "    print(\"La clave secreta suministrada coincide con la clave secreta.\")\n",
    "\n",
    "def comparePartialMatches(code: str, guess: str, expected: int):\n",
    "    game = MasterMindGame(code)\n",
    "\n",
    "    colors = game.toMasterMindColorCombination(guess)\n",
    "\n",
    "    nMatches = game.countPartialMatches(colors)\n",
    "\n",
    "    if expected != nMatches:\n",
    "        print(f\"La combinación {guess} debería tener {expected} semiaciertos con la clave {code} y tenemos {nMatches}\")\n",
    "    else:\n",
    "        print(f\"La combinación {guess} tiene {nMatches} semiaciertos que coincide con lo esperado {expected} semiaciertos para la clave {code}\")\n",
    "\n",
    "comparePartialMatches(\"RGGB\", \"RGGB\", 0)\n",
    "\n",
    "comparePartialMatches(\"RGGB\", \"KKKK\", 0)\n",
    "comparePartialMatches(\"RGGB\", \"GGGG\", 0)\n",
    "comparePartialMatches(\"RGGB\", \"RBBB\", 0)\n",
    "comparePartialMatches(\"RGGB\", \"GRRG\", 3)\n",
    "comparePartialMatches(\"RGGB\", \"KGBY\", 1)\n",
    "comparePartialMatches(\"RGGB\", \"GGBG\", 2)"
   ]
  },
  {
   "cell_type": "code",
   "execution_count": null,
   "metadata": {},
   "outputs": [],
   "source": []
  }
 ],
 "metadata": {
  "kernelspec": {
   "display_name": "Python 3 (ipykernel)",
   "language": "python",
   "name": "python3"
  },
  "language_info": {
   "codemirror_mode": {
    "name": "ipython",
    "version": 3
   },
   "file_extension": ".py",
   "mimetype": "text/x-python",
   "name": "python",
   "nbconvert_exporter": "python",
   "pygments_lexer": "ipython3",
   "version": "3.10.6"
  }
 },
 "nbformat": 4,
 "nbformat_minor": 4
}
