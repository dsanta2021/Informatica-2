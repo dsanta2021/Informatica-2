{
 "cells": [
  {
   "cell_type": "markdown",
   "metadata": {},
   "source": [
    "# Práctica 0.3 – Python MasterMind"
   ]
  },
  {
   "cell_type": "markdown",
   "metadata": {},
   "source": [
    "## Completando `MasterMindGame`: procesando el turno"
   ]
  },
  {
   "cell_type": "markdown",
   "metadata": {},
   "source": [
    "### Ejercicio 5"
   ]
  },
  {
   "cell_type": "markdown",
   "metadata": {},
   "source": [
    "Para terminar la implementación del juego, ya sólo tenemos que implementar una función que gestione un nuevo turno. \n",
    "\n",
    "Para eso hay que implementar el método que `newTurn` modo que cumpla la siguiente especificación:\n",
    "\n",
    "* Si la combinación indicada en `guess` no representa una combinación de colores válida, `newTurn` debe imprimir el siguiente mensaje de error y no hacer nada más: `\"Combinación incorrecta. Por favor, prueba de nuevo.\"`.\n",
    "* Si la combinación tiene un número de colores distinto al del código secreto, `newTurn` debe imprimir el siguiente mensaje de error y no hacer nada más: `\"Debes hacer una apuesta con \\(secretCode.count) colores. Por favor, prueba de nuevo.\"`.\n",
    "* Si se ha alcanzado el número máximo de turnos, o el jugador ha adivinado la clave en un turno anterior, `newTurn` debe imprimir el siguiente mensaje de error y no hacer nada más: `\"El juego ha terminado.\"`.\n",
    "* En los demás casos, `newTurn` hará lo siguiente:\n",
    "  - Sumar 1 al número de turno.\n",
    "  - Mostrar la combinación seleccionada por el usuario.\n",
    "  - Indicar el número de aciertos y semiaciertos.\n",
    "  - Si el jugador ha ganado, mostrará el mensaje `Has ganado en el turno x !`, y actualizará el estado de la partida para que no se puedan realizar más turnos.\n",
    "  - Si el jugador ha perdido, mostrará el mensaje `Lo siento, has perdido. Otra vez será.`."
   ]
  },
  {
   "cell_type": "markdown",
   "metadata": {},
   "source": [
    "### Ejercicio 6"
   ]
  },
  {
   "cell_type": "markdown",
   "metadata": {},
   "source": [
    "En lugar de darte nosotros el código para probar si tu implementación es correcta, en este caso debes crearlo tú mismo. \n",
    "\n",
    "Lo mejor es que leas el enunciado del Ejercicio 5, y después crees el código de prueba utilizando lo que se describe en la especificación. \n",
    "\n",
    "No necesitas que el código funcione para saber cómo tiene que funcionar. \n",
    "\n",
    "Trata de ser lo más exhaustivo posible. \n",
    "\n",
    "Guíate en el código de pruebas que hemos suministrado para los casos anteriores."
   ]
  },
  {
   "cell_type": "code",
   "execution_count": null,
   "metadata": {},
   "outputs": [],
   "source": [
    "#Tu código va aquí\n",
    "class MasterMindGame:\n",
    "    pass"
   ]
  },
  {
   "cell_type": "markdown",
   "metadata": {},
   "source": [
    "## Una partida de ejemplo"
   ]
  },
  {
   "cell_type": "markdown",
   "metadata": {},
   "source": [
    "A continuación se muestra un ejemplo de una partida completa una vez terminada la implementación:"
   ]
  },
  {
   "cell_type": "code",
   "execution_count": 29,
   "metadata": {},
   "outputs": [],
   "source": [
    "testGame = MasterMindGame()"
   ]
  },
  {
   "cell_type": "code",
   "execution_count": 30,
   "metadata": {},
   "outputs": [
    {
     "name": "stdout",
     "output_type": "stream",
     "text": [
      "Turno 1.\r\n",
      "Tu combinación: [🔴, 🔴, 🔵, 🔵]\r\n",
      "Aciertos: 1\r\n",
      "Semiaciertos: 1\r\n"
     ]
    }
   ],
   "source": [
    "testGame.newTurn(\"RRBB\")"
   ]
  },
  {
   "cell_type": "code",
   "execution_count": 31,
   "metadata": {},
   "outputs": [
    {
     "name": "stdout",
     "output_type": "stream",
     "text": [
      "Turno 2.\r\n",
      "Tu combinación: [🔴, 🔴, 🟢, 🟢]\r\n",
      "Aciertos: 1\r\n",
      "Semiaciertos: 1\r\n"
     ]
    }
   ],
   "source": [
    "testGame.newTurn(\"RRGG\")"
   ]
  },
  {
   "cell_type": "code",
   "execution_count": 32,
   "metadata": {},
   "outputs": [
    {
     "name": "stdout",
     "output_type": "stream",
     "text": [
      "Debes hacer una apuesta con 4 colores. Por favor, prueba de nuevo.\r\n"
     ]
    }
   ],
   "source": [
    "testGame.newTurn(\"🔴🔴🔴🔴🔴🔴🔴\")"
   ]
  },
  {
   "cell_type": "code",
   "execution_count": 33,
   "metadata": {},
   "outputs": [
    {
     "name": "stdout",
     "output_type": "stream",
     "text": [
      "Turno 3.\r\n",
      "Tu combinación: [🔵, 🔵, ⚫, ⚫]\r\n",
      "Aciertos: 0\r\n",
      "Semiaciertos: 0\r\n"
     ]
    }
   ],
   "source": [
    "testGame.newTurn(\"BBKK\")"
   ]
  },
  {
   "cell_type": "code",
   "execution_count": 34,
   "metadata": {},
   "outputs": [
    {
     "name": "stdout",
     "output_type": "stream",
     "text": [
      "Turno 4.\r\n",
      "Tu combinación: [🔴, 🟡, 🟡, 🔴]\r\n",
      "Aciertos: 3\r\n",
      "Semiaciertos: 0\r\n"
     ]
    }
   ],
   "source": [
    "testGame.newTurn(\"RYYR\")"
   ]
  },
  {
   "cell_type": "code",
   "execution_count": 35,
   "metadata": {},
   "outputs": [
    {
     "name": "stdout",
     "output_type": "stream",
     "text": [
      "Turno 5.\r\n",
      "Tu combinación: [🔴, 🟡, ⚪, 🔴]\r\n",
      "Has ganado en el turno 5!\r\n"
     ]
    }
   ],
   "source": [
    "testGame.newTurn(\"🔴🟡⚪🔴\")"
   ]
  },
  {
   "cell_type": "code",
   "execution_count": 36,
   "metadata": {},
   "outputs": [
    {
     "name": "stdout",
     "output_type": "stream",
     "text": [
      "El juego ha terminado.\r\n"
     ]
    }
   ],
   "source": [
    "testGame.newTurn(\"🔴🟡⚪🔴\")"
   ]
  }
 ],
 "metadata": {
  "kernelspec": {
   "display_name": "Python 3 (ipykernel)",
   "language": "python",
   "name": "python3"
  },
  "language_info": {
   "codemirror_mode": {
    "name": "ipython",
    "version": 3
   },
   "file_extension": ".py",
   "mimetype": "text/x-python",
   "name": "python",
   "nbconvert_exporter": "python",
   "pygments_lexer": "ipython3",
   "version": "3.10.6"
  }
 },
 "nbformat": 4,
 "nbformat_minor": 4
}
