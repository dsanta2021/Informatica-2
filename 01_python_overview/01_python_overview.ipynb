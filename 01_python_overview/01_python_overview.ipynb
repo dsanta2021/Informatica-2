{
 "cells": [
  {
   "cell_type": "markdown",
   "metadata": {
    "pycharm": {
     "name": "#%% md\n"
    }
   },
   "source": [
    "# Introducción a Python"
   ]
  },
  {
   "cell_type": "markdown",
   "metadata": {
    "pycharm": {
     "name": "#%% md\n"
    }
   },
   "source": [
    "Python es un lenguaje de programación interpretado de alto nivel y multiplataforma (Windows, MacOS,Linux). \n",
    "\n",
    "Creado por Guido van Rossum (1991).\n",
    "\n",
    "Es sencillo de aprender y de entender. \n",
    "\n",
    "Los archivos de python tienen la extensión .py\n",
    "\n",
    "Estos archivos de texto que son interpretados por el compilador que los ejecuta. \n",
    "\n",
    "Python dispone de un entorno interactivo y muchos módulos para todo tipo de aplicaciones."
   ]
  },
  {
   "cell_type": "markdown",
   "metadata": {
    "pycharm": {
     "name": "#%% md\n"
    }
   },
   "source": [
    "1. [Variables, constantes, tipos](#Variables,-constantes,-tipos)\n",
    "2. [Funciones](#Funciones)\n",
    "3. [Colecciones](#Colecciones)\n",
    "4. [Control de flujo, bucles, rangos](#Control-de-flujo,-bucles,-rangos)\n",
    "5. [Filtros y transformaciones funcionales](#Filtros-y-transformaciones-funcionales)"
   ]
  },
  {
   "cell_type": "markdown",
   "metadata": {
    "pycharm": {
     "name": "#%% md\n"
    }
   },
   "source": [
    "## Variables, constantes, tipos"
   ]
  },
  {
   "cell_type": "markdown",
   "metadata": {
    "pycharm": {
     "name": "#%% md\n"
    }
   },
   "source": [
    "Como sabréis de otros lenguajes, una **variable** es una \"caja\" que contiene un valor."
   ]
  },
  {
   "cell_type": "code",
   "execution_count": 1,
   "metadata": {
    "pycharm": {
     "name": "#%%\n"
    }
   },
   "outputs": [],
   "source": [
    "a = 42\n",
    "b = 5.5\n",
    "s = \"Hello, world!\""
   ]
  },
  {
   "cell_type": "code",
   "execution_count": 2,
   "metadata": {
    "pycharm": {
     "name": "#%%\n"
    }
   },
   "outputs": [
    {
     "name": "stdout",
     "output_type": "stream",
     "text": [
      "Hello, world!\n"
     ]
    }
   ],
   "source": [
    "print(s)"
   ]
  },
  {
   "cell_type": "code",
   "execution_count": 3,
   "metadata": {
    "pycharm": {
     "name": "#%%\n"
    }
   },
   "outputs": [
    {
     "name": "stdout",
     "output_type": "stream",
     "text": [
      "7\n"
     ]
    }
   ],
   "source": [
    "b = 7\n",
    "print(b)"
   ]
  },
  {
   "cell_type": "code",
   "execution_count": 4,
   "metadata": {
    "pycharm": {
     "name": "#%%\n"
    }
   },
   "outputs": [
    {
     "name": "stdout",
     "output_type": "stream",
     "text": [
      "44\n"
     ]
    }
   ],
   "source": [
    "a = 44\n",
    "print(a)"
   ]
  },
  {
   "cell_type": "markdown",
   "metadata": {
    "pycharm": {
     "name": "#%% md\n"
    }
   },
   "source": [
    "Un tipo de dato es el conjunto de valores y el conjunto de operaciones definidas en esos valores.\n",
    "\n",
    "Python tiene un gran número de tipos de datos incorporados tales como Números (Integer, Float, Boolean, Complex Number), String, List, Tuple, Set, Dictionary y File.\n",
    "\n",
    "Otros tipos de datos de alto nivel, tales como Decimal y Fraction, están soportados por módulos externos."
   ]
  },
  {
   "cell_type": "code",
   "execution_count": 5,
   "metadata": {
    "pycharm": {
     "name": "#%%\n"
    }
   },
   "outputs": [],
   "source": [
    "a = 42                    # `a` es de tipo Int (entero)\n",
    "b = 5.5                   # `b` es de tipo Float (coma flotante)\n",
    "s = \"Hello, world!\"       # `s` es un String."
   ]
  },
  {
   "cell_type": "code",
   "execution_count": 6,
   "metadata": {
    "pycharm": {
     "name": "#%%\n"
    },
    "scrolled": true
   },
   "outputs": [
    {
     "name": "stdout",
     "output_type": "stream",
     "text": [
      "<class 'float'>\n"
     ]
    }
   ],
   "source": [
    "print(type(b))"
   ]
  },
  {
   "cell_type": "code",
   "execution_count": 7,
   "metadata": {
    "pycharm": {
     "name": "#%%\n"
    },
    "scrolled": true
   },
   "outputs": [
    {
     "name": "stdout",
     "output_type": "stream",
     "text": [
      "<class 'str'>\n"
     ]
    }
   ],
   "source": [
    "print(type(s))"
   ]
  },
  {
   "cell_type": "markdown",
   "metadata": {
    "pycharm": {
     "name": "#%% md\n"
    }
   },
   "source": [
    "Python es un lenguaje de tipado dinámico, es decir, el tipo de dato de una variable puede cambiar en tiempo de ejecución. \n",
    "\n",
    "Gracias a esta caracteristica, una variable puede comenzar teniendo un tipo de dato y cambiar en cualquier momento a otro tipo de dato. \n",
    "\n",
    "Otra característica importante es la inferencia de tipos. \n",
    "\n",
    "Al decir a = 5 o a = \"Hola mundo\", Python es capaz de inferir el tipo de dato de una variable a partir del valor que se le está asignando.\n",
    "\n",
    "Es decir, python es capaz de asignar el tipo de variable apropiado en función del valor que estamos asignando a la variable."
   ]
  },
  {
   "cell_type": "markdown",
   "metadata": {
    "pycharm": {
     "name": "#%% md\n"
    }
   },
   "source": [
    "Por eso en Python es posible hacer la conversión automática de tipos cuando hacemos una operación en la que se mezclan variables de tipos diferentes."
   ]
  },
  {
   "cell_type": "code",
   "execution_count": 8,
   "metadata": {
    "pycharm": {
     "name": "#%%\n"
    }
   },
   "outputs": [],
   "source": [
    "x = 7    # int\n",
    "y = 5.0  # float"
   ]
  },
  {
   "cell_type": "code",
   "execution_count": 9,
   "metadata": {
    "pycharm": {
     "name": "#%%\n"
    },
    "scrolled": true
   },
   "outputs": [
    {
     "name": "stdout",
     "output_type": "stream",
     "text": [
      "<class 'float'>\n",
      "12.0\n"
     ]
    }
   ],
   "source": [
    "z = x + y    # El compiliador analiza y selecciona el mejor tipo\n",
    "print (type(z))\n",
    "print(z)"
   ]
  },
  {
   "cell_type": "markdown",
   "metadata": {
    "pycharm": {
     "name": "#%% md\n"
    }
   },
   "source": [
    "La conversión también se puede hacer explícita."
   ]
  },
  {
   "cell_type": "code",
   "execution_count": 10,
   "metadata": {
    "pycharm": {
     "name": "#%%\n"
    },
    "scrolled": true
   },
   "outputs": [
    {
     "name": "stdout",
     "output_type": "stream",
     "text": [
      "12.0\n"
     ]
    }
   ],
   "source": [
    "z = float(x) + y  # Esto permite controlar los cambios de tipo y es importante en otros lenguajes de programación\n",
    "print(z)"
   ]
  },
  {
   "cell_type": "markdown",
   "metadata": {
    "pycharm": {
     "name": "#%% md\n"
    }
   },
   "source": [
    "El operador `+`, además de para sumar, suele servir para _concatenar_ o _añadir_ elementos a un conjunto, como veremos después. \n",
    "\n",
    "En el caso de cadenas de texto también funciona, pero tenemos que convertir todo a cadenas, como siempre:"
   ]
  },
  {
   "cell_type": "code",
   "execution_count": 11,
   "metadata": {
    "pycharm": {
     "name": "#%%\n"
    },
    "scrolled": false
   },
   "outputs": [
    {
     "name": "stdout",
     "output_type": "stream",
     "text": [
      "El total es: 12.0\n"
     ]
    }
   ],
   "source": [
    "s = \"El total es: \"\n",
    "s = s + str(z)         # `+`: concatenate\n",
    "print(s)"
   ]
  },
  {
   "cell_type": "markdown",
   "metadata": {
    "pycharm": {
     "name": "#%% md\n"
    }
   },
   "source": [
    "La forma de presentar un string puede cambiar formateando la salida:"
   ]
  },
  {
   "cell_type": "code",
   "execution_count": 12,
   "metadata": {
    "pycharm": {
     "name": "#%%\n"
    },
    "scrolled": false
   },
   "outputs": [
    {
     "name": "stdout",
     "output_type": "stream",
     "text": [
      "Total:  12.0\n",
      "Total: 12.0\n",
      "Total: 12.0\n"
     ]
    }
   ],
   "source": [
    "print (\"Total: \", z)\n",
    "print (\"Total: {}\".format(z))\n",
    "print(f\"Total: {z}\")"
   ]
  },
  {
   "cell_type": "markdown",
   "metadata": {
    "pycharm": {
     "name": "#%% md\n"
    }
   },
   "source": [
    "¿Cuál es la diferencia que observas entre los diferentes métodos de print?"
   ]
  },
  {
   "cell_type": "code",
   "execution_count": 13,
   "metadata": {
    "pycharm": {
     "name": "#%%\n"
    },
    "scrolled": true
   },
   "outputs": [
    {
     "name": "stdout",
     "output_type": "stream",
     "text": [
      "cos(π/4): 0.7071067811865476\n"
     ]
    }
   ],
   "source": [
    "import math as mat                        # Módulo con funciones matemáticas\n",
    "\n",
    "print(f\"cos(π/4): {mat.cos(mat.pi/4)}\")"
   ]
  },
  {
   "cell_type": "code",
   "execution_count": 14,
   "metadata": {
    "pycharm": {
     "name": "#%%\n"
    }
   },
   "outputs": [
    {
     "name": "stdout",
     "output_type": "stream",
     "text": [
      "3.141592653589793\n"
     ]
    }
   ],
   "source": [
    "print(mat.pi)"
   ]
  },
  {
   "cell_type": "markdown",
   "metadata": {},
   "source": [
    "### Ejercicio V1"
   ]
  },
  {
   "cell_type": "markdown",
   "metadata": {},
   "source": [
    "Vamos a practicar en el terminal asignando valores de variables y haciendo operaciones sencillas."
   ]
  },
  {
   "cell_type": "code",
   "execution_count": 15,
   "metadata": {},
   "outputs": [
    {
     "data": {
      "text/plain": [
       "4.0"
      ]
     },
     "execution_count": 15,
     "metadata": {},
     "output_type": "execute_result"
    }
   ],
   "source": [
    "a = 6\n",
    "b = 8\n",
    "c = 7\n",
    "\n",
    "(a+b)/c*2"
   ]
  },
  {
   "cell_type": "code",
   "execution_count": 16,
   "metadata": {},
   "outputs": [
    {
     "data": {
      "text/plain": [
       "25"
      ]
     },
     "execution_count": 16,
     "metadata": {},
     "output_type": "execute_result"
    }
   ],
   "source": [
    "I = 7\n",
    "T = 3\n",
    "P = 2\n",
    "\n",
    "I*I-4*T*P\n"
   ]
  },
  {
   "cell_type": "code",
   "execution_count": 17,
   "metadata": {},
   "outputs": [
    {
     "data": {
      "text/plain": [
       "7"
      ]
     },
     "execution_count": 17,
     "metadata": {},
     "output_type": "execute_result"
    }
   ],
   "source": [
    "A = 6\n",
    "B = 2\n",
    "C = 3\n",
    "\n",
    "A-B+C"
   ]
  },
  {
   "cell_type": "markdown",
   "metadata": {
    "pycharm": {
     "name": "#%% md\n"
    }
   },
   "source": [
    "## Funciones"
   ]
  },
  {
   "cell_type": "markdown",
   "metadata": {
    "pycharm": {
     "name": "#%% md\n"
    }
   },
   "source": [
    "En el ejemplo anterior, `math.cos` es una función estándar que calcula el coseno del número que se le indica como parámetro. \n",
    "\n",
    "`print`, que también hemos visto, es otra función que muestra en la salida estándar el string que se le suministra.\n",
    "\n",
    "Algunos ejemplos básicos de funciones en Python:"
   ]
  },
  {
   "cell_type": "code",
   "execution_count": 18,
   "metadata": {
    "pycharm": {
     "name": "#%%\n"
    }
   },
   "outputs": [
    {
     "name": "stdout",
     "output_type": "stream",
     "text": [
      "Hello!\n"
     ]
    }
   ],
   "source": [
    "# Función sin parámetros de entrada ni resultado\n",
    "def greet():\n",
    "    print(\"Hello!\")\n",
    "\n",
    "# Invocación\n",
    "greet()"
   ]
  },
  {
   "cell_type": "code",
   "execution_count": 19,
   "metadata": {
    "pycharm": {
     "name": "#%%\n"
    }
   },
   "outputs": [],
   "source": [
    "# Función con un parámetro de entrada que es un String\n",
    "def greet1(name: str):\n",
    "    print(f\"Hello, {name}!\")\n"
   ]
  },
  {
   "cell_type": "markdown",
   "metadata": {
    "pycharm": {
     "name": "#%% md\n"
    }
   },
   "source": [
    "**¿Cómo invoco la función `greet1`?**"
   ]
  },
  {
   "cell_type": "code",
   "execution_count": 20,
   "metadata": {
    "pycharm": {
     "name": "#%%\n"
    }
   },
   "outputs": [
    {
     "name": "stdout",
     "output_type": "stream",
     "text": [
      "Hello, Andrés!\n"
     ]
    }
   ],
   "source": [
    "greet1(\"Andrés\")"
   ]
  },
  {
   "cell_type": "code",
   "execution_count": 21,
   "metadata": {
    "pycharm": {
     "name": "#%%\n"
    }
   },
   "outputs": [
    {
     "name": "stdout",
     "output_type": "stream",
     "text": [
      "Hello, Jose! Today is Wednesday.\n"
     ]
    }
   ],
   "source": [
    "def greet2(name: str, day: str) :\n",
    "    print(f\"Hello, {name}! Today is {day}.\") #f delante de la cadena que queremos escribir para controlar el formato\n",
    "                                            # en este caso, queremos sustituir {name} y {day} por los valores\n",
    "                                            # de los parámetros de entrada de la función name y day\n",
    "\n",
    "greet2(\"Jose\", \"Wednesday\")"
   ]
  },
  {
   "cell_type": "markdown",
   "metadata": {
    "pycharm": {
     "name": "#%% md\n"
    }
   },
   "source": [
    "Como ya hemos dicho antes, si llamamos a la función con un tipo que no es el que espera, Python hará el cambio de tipo automáticamente siempre que pueda."
   ]
  },
  {
   "cell_type": "code",
   "execution_count": 22,
   "metadata": {
    "pycharm": {
     "name": "#%%\n"
    }
   },
   "outputs": [
    {
     "name": "stdout",
     "output_type": "stream",
     "text": [
      "Hello, Jose! Today is 3.0.\n"
     ]
    }
   ],
   "source": [
    "greet2(\"Jose\", float(3)) # 3 es un número entero que lo estamos pasando como un float. De ahí que aparezca 3.0"
   ]
  },
  {
   "cell_type": "markdown",
   "metadata": {
    "pycharm": {
     "name": "#%% md\n"
    }
   },
   "source": [
    "Se pueden indicar valores por defecto para los parámetros:"
   ]
  },
  {
   "cell_type": "code",
   "execution_count": 23,
   "metadata": {
    "pycharm": {
     "name": "#%%\n"
    }
   },
   "outputs": [
    {
     "name": "stdout",
     "output_type": "stream",
     "text": [
      "Hello, Jose! Today is Wednesday.\n",
      "Hello, Pedro! Today is Monday.\n"
     ]
    }
   ],
   "source": [
    "def greet3(name, day = \"Monday\") :\n",
    "    print(f\"Hello, {name}! Today is {day}.\")\n",
    "\n",
    "\n",
    "greet3(\"Jose\", \"Wednesday\")\n",
    "greet3(\"Pedro\")"
   ]
  },
  {
   "cell_type": "markdown",
   "metadata": {
    "pycharm": {
     "name": "#%% md\n"
    }
   },
   "source": [
    "Es muy habitual que las funciones devuelvan valores. \n",
    "\n",
    "Normalmente usando la palabra reservada **return** la función devolvería los valores. \n",
    "\n",
    "Además se puede definir qué tipos se van a devolver, para esto se expresa con la \"flecha\" `->`. \n",
    "\n",
    "A continuación vamos a hacer una nueva versión de la función de saludo que devuelva el `String` en lugar de imprimirlo:"
   ]
  },
  {
   "cell_type": "code",
   "execution_count": 24,
   "metadata": {
    "pycharm": {
     "name": "#%%\n"
    },
    "scrolled": false
   },
   "outputs": [
    {
     "name": "stdout",
     "output_type": "stream",
     "text": [
      "Hello, Pedro! Today is Monday.\n"
     ]
    }
   ],
   "source": [
    "def greeting(name:str, day:str = \"Monday\") -> str:\n",
    "    return f\"Hello, {name}! Today is {day}.\"\n",
    "\n",
    "\n",
    "print(greeting(\"Pedro\"))"
   ]
  },
  {
   "cell_type": "code",
   "execution_count": 25,
   "metadata": {
    "pycharm": {
     "name": "#%%\n"
    }
   },
   "outputs": [],
   "source": [
    "theGreeting = greeting(\"Pedro\")"
   ]
  },
  {
   "cell_type": "code",
   "execution_count": 26,
   "metadata": {
    "pycharm": {
     "name": "#%%\n"
    }
   },
   "outputs": [
    {
     "name": "stdout",
     "output_type": "stream",
     "text": [
      "Hello, Pedro! Today is Monday.\n"
     ]
    }
   ],
   "source": [
    "print(theGreeting)"
   ]
  },
  {
   "cell_type": "code",
   "execution_count": 27,
   "metadata": {
    "pycharm": {
     "name": "#%%\n"
    }
   },
   "outputs": [
    {
     "name": "stdout",
     "output_type": "stream",
     "text": [
      "Hello, Pedro! Today is Monday.\n"
     ]
    }
   ],
   "source": [
    "print(greeting(\"Pedro\"))"
   ]
  },
  {
   "cell_type": "markdown",
   "metadata": {
    "pycharm": {
     "name": "#%% md\n"
    }
   },
   "source": [
    "En los ejemplos anteriores hemos \"llamado\" (invocado) a las funciones utilizando valores literales (datos concretos, como la cadena \"Pedro\").\n",
    "\n",
    "Naturalmente, podemos invocar una función enviándole una variable que contenga un valor."
   ]
  },
  {
   "cell_type": "code",
   "execution_count": 28,
   "metadata": {
    "pycharm": {
     "name": "#%%\n"
    }
   },
   "outputs": [
    {
     "name": "stdout",
     "output_type": "stream",
     "text": [
      "Hello, Peter! Today is Monday.\n"
     ]
    }
   ],
   "source": [
    "oneName = \"Peter\"\n",
    "print(greeting(oneName))"
   ]
  },
  {
   "cell_type": "markdown",
   "metadata": {
    "pycharm": {
     "name": "#%% md\n"
    }
   },
   "source": [
    "* Asignamos a la variable `oneName` el valor `\"Peter\"`.\n",
    "* Cuando llamamos a la función `greeting`, el valor de `oneName` se copia en el valor del parámetro `name` de la función.\n",
    "* En la función utilizamos `name`, que es el nombre en el que se nos envía el dato. **No debemos usar `oneName` desde dentro de la función**, pues entonces sólo serviría para ese dato."
   ]
  },
  {
   "cell_type": "markdown",
   "metadata": {
    "pycharm": {
     "name": "#%% md\n"
    }
   },
   "source": [
    "### Ejercicio F1\n",
    "\n",
    "Escribe una función que calcule el cuadrado de un número entero. \n",
    "\n",
    "La que vamos a escribir función debe cumplir la siguiente especificación:\n",
    "* Su nombre debe ser `square`.\n",
    "* Debe aceptar un único argumento llamado `number`, de tipo `Int`.\n",
    "* Debe devolver un `Int`, que será el cuadrado del número suministrado."
   ]
  },
  {
   "cell_type": "code",
   "execution_count": 29,
   "metadata": {
    "pycharm": {
     "name": "#%%\n"
    }
   },
   "outputs": [],
   "source": [
    "# Escribe aquí tu código\n",
    "def square(n):\n",
    "    return n**2\n",
    "\n"
   ]
  },
  {
   "cell_type": "code",
   "execution_count": 30,
   "metadata": {},
   "outputs": [
    {
     "name": "stdout",
     "output_type": "stream",
     "text": [
      "9\n"
     ]
    }
   ],
   "source": [
    "print(square(3))"
   ]
  },
  {
   "cell_type": "markdown",
   "metadata": {
    "pycharm": {
     "name": "#%% md\n"
    }
   },
   "source": [
    "Puedes utilizar la siguiente celda para comprabar si tu implementación es correcta:"
   ]
  },
  {
   "cell_type": "code",
   "execution_count": 31,
   "metadata": {
    "pycharm": {
     "name": "#%%\n"
    }
   },
   "outputs": [
    {
     "name": "stdout",
     "output_type": "stream",
     "text": [
      "4\n",
      "144\n",
      "1\n"
     ]
    }
   ],
   "source": [
    "print((2**2))  # 4\n",
    "print((12**2)) # 144\n",
    "print((1**2))  # 1"
   ]
  },
  {
   "cell_type": "markdown",
   "metadata": {
    "pycharm": {
     "name": "#%% md\n"
    }
   },
   "source": [
    "Las funciones, técnicamente, sólo pueden devolver un único valor. \n",
    "\n",
    "Sin embargo, en Python existe el tipo \"tupla\" que representa una secuencia de valores. \n",
    "\n",
    "Es válido que una función devuelva una tupla, que no es más que una lista de tipos entre paréntesis:"
   ]
  },
  {
   "cell_type": "code",
   "execution_count": 32,
   "metadata": {
    "pycharm": {
     "name": "#%%\n"
    }
   },
   "outputs": [
    {
     "name": "stdout",
     "output_type": "stream",
     "text": [
      "(21, 'Javier')\n"
     ]
    }
   ],
   "source": [
    "# Función que devuelve una tupla con dos valores\n",
    "def readPersonFromDatabase() :\n",
    "    return (21, \"Javier\")   # Siempre hay que poner las tuplas en paréntesis\n",
    "\n",
    "\n",
    "person = readPersonFromDatabase()\n",
    "print(person)"
   ]
  },
  {
   "cell_type": "markdown",
   "metadata": {
    "pycharm": {
     "name": "#%% md\n"
    }
   },
   "source": [
    "¿Cómo accedemos a cada uno de los elementos de la tupla? Una forma es referirnos a los elementos por su posición, comenzando en el 0:"
   ]
  },
  {
   "cell_type": "code",
   "execution_count": 33,
   "metadata": {
    "pycharm": {
     "name": "#%%\n"
    }
   },
   "outputs": [
    {
     "name": "stdout",
     "output_type": "stream",
     "text": [
      "21\n"
     ]
    }
   ],
   "source": [
    "print(person[0])"
   ]
  },
  {
   "cell_type": "code",
   "execution_count": 34,
   "metadata": {
    "pycharm": {
     "name": "#%%\n"
    }
   },
   "outputs": [
    {
     "name": "stdout",
     "output_type": "stream",
     "text": [
      "Javier\n"
     ]
    }
   ],
   "source": [
    "print(person[1])"
   ]
  },
  {
   "cell_type": "code",
   "execution_count": 35,
   "metadata": {
    "pycharm": {
     "name": "#%%\n"
    }
   },
   "outputs": [
    {
     "name": "stdout",
     "output_type": "stream",
     "text": [
      "Age: 21, Name: Javier\n"
     ]
    }
   ],
   "source": [
    "print(f\"Age: {person[0]}, Name: {person[1]}\")"
   ]
  },
  {
   "cell_type": "markdown",
   "metadata": {
    "pycharm": {
     "name": "#%% md\n"
    }
   },
   "source": [
    "### Funciones anidadas"
   ]
  },
  {
   "cell_type": "markdown",
   "metadata": {
    "pycharm": {
     "name": "#%% md\n"
    }
   },
   "source": [
    "Las funciones pueden **anidarse** dentro de otras funciones. \n",
    "\n",
    "Una función anidada sólo es visible desde dentro de la función donde se encuentra. \n",
    "\n",
    "Esta es una forma retorcida de calcular el siguiente valor de un número entero:"
   ]
  },
  {
   "cell_type": "code",
   "execution_count": 36,
   "metadata": {
    "pycharm": {
     "name": "#%%\n"
    }
   },
   "outputs": [
    {
     "name": "stdout",
     "output_type": "stream",
     "text": [
      "5\n"
     ]
    }
   ],
   "source": [
    "def printIncrement(n):\n",
    "    def addOne(n):\n",
    "        return n + 1    \n",
    "    print(addOne(n))\n",
    "\n",
    "\n",
    "printIncrement(4)"
   ]
  },
  {
   "cell_type": "markdown",
   "metadata": {
    "pycharm": {
     "name": "#%% md\n"
    }
   },
   "source": [
    "Las funciones también son **tipos de primer orden** (es decir, tipos como cualquier otro). \n",
    "\n",
    "Esto significa que una función puede aceptar como argumento o devolver otra función:"
   ]
  },
  {
   "cell_type": "code",
   "execution_count": 37,
   "metadata": {
    "pycharm": {
     "name": "#%%\n"
    }
   },
   "outputs": [
    {
     "name": "stdout",
     "output_type": "stream",
     "text": [
      "42\n"
     ]
    }
   ],
   "source": [
    "def makeIncrementer() -> int:\n",
    "    def addOne(n: int) -> int:\n",
    "        return n + 1    \n",
    "    return addOne\n",
    "\n",
    "incrementer = makeIncrementer()\n",
    "print(incrementer(41))"
   ]
  },
  {
   "cell_type": "code",
   "execution_count": 38,
   "metadata": {
    "pycharm": {
     "name": "#%%\n"
    },
    "scrolled": true
   },
   "outputs": [
    {
     "name": "stdout",
     "output_type": "stream",
     "text": [
      "1\n"
     ]
    }
   ],
   "source": [
    "print(incrementer(0))"
   ]
  },
  {
   "cell_type": "code",
   "execution_count": 39,
   "metadata": {
    "pycharm": {
     "name": "#%%\n"
    }
   },
   "outputs": [
    {
     "name": "stdout",
     "output_type": "stream",
     "text": [
      "<class 'function'>\n"
     ]
    }
   ],
   "source": [
    "print(type(incrementer))"
   ]
  },
  {
   "cell_type": "markdown",
   "metadata": {
    "pycharm": {
     "name": "#%% md\n"
    }
   },
   "source": [
    "`makeIncrementer()` devuelve **una función** (lo que se indica con los paréntesis en el resultado). \n",
    "\n",
    "Dicha función acepta como argumento un `Int`, y devuelve (`->`) otro `Int`."
   ]
  },
  {
   "cell_type": "markdown",
   "metadata": {
    "pycharm": {
     "name": "#%% md\n"
    }
   },
   "source": [
    "Las funciones anidadas \"ven\" el contexto de la función donde fueron declaradas. \n",
    "\n",
    "Este contexto se \"arrastra\" con la función cuando ésta se devuelve. \n",
    "\n",
    "Observa cómo la función anidada `add` del siguiente ejemplo es capaz de hacer referencia al argumento `base` de la función `makeAdder`. \n",
    "\n",
    "Si llamamos a `makeAdder` con diferentes valores, obtendremos funciones que aplican la suma a esos números:"
   ]
  },
  {
   "cell_type": "code",
   "execution_count": 40,
   "metadata": {
    "pycharm": {
     "name": "#%%\n"
    },
    "scrolled": true
   },
   "outputs": [
    {
     "name": "stdout",
     "output_type": "stream",
     "text": [
      "7\n",
      "10\n"
     ]
    }
   ],
   "source": [
    "def makeAdder(base):\n",
    "    x = 7\n",
    "    def add(n):\n",
    "        return base + n\n",
    "    \n",
    "    return add\n",
    "\n",
    "\n",
    "adder = makeAdder(5)\n",
    "print(adder(2))\n",
    "print(adder(5))"
   ]
  },
  {
   "cell_type": "code",
   "execution_count": 41,
   "metadata": {},
   "outputs": [
    {
     "name": "stdout",
     "output_type": "stream",
     "text": [
      "12\n",
      "13\n"
     ]
    }
   ],
   "source": [
    "adder = makeAdder(9)\n",
    "print(adder(3))\n",
    "print(adder(4))"
   ]
  },
  {
   "cell_type": "code",
   "execution_count": 42,
   "metadata": {
    "pycharm": {
     "name": "#%%\n"
    }
   },
   "outputs": [
    {
     "name": "stdout",
     "output_type": "stream",
     "text": [
      "1\n",
      "4\n"
     ]
    }
   ],
   "source": [
    "decrementer = makeAdder(-1)\n",
    "print(decrementer(2))\n",
    "print(decrementer(5))"
   ]
  },
  {
   "cell_type": "markdown",
   "metadata": {
    "pycharm": {
     "name": "#%% md\n"
    }
   },
   "source": [
    "Este tipo de funciones también se denominan _**closures**_, puesto que \"envuelven\" o capturan las variables del contexto donde se definen."
   ]
  },
  {
   "cell_type": "markdown",
   "metadata": {
    "pycharm": {
     "name": "#%% md\n"
    }
   },
   "source": [
    "### Ejercicio F2\n",
    "\n",
    "Escribe una función para calcular si un año es bisiesto, es decir tiene un día más 366 (29 de Febrero). \n",
    "\n",
    "La que vamos a escribir función debe cumplir la siguiente especificación:\n",
    "* Si el año es uniformemente divisible por 4.\n",
    "* Si el año es uniformemente divisible por 100.\n",
    "* Si el año es uniformemente divisible por 400.\n",
    "* El año es un año bisiesto (tiene 366 días).\n",
    "* El año no es un año bisiesto (tiene 365 días)."
   ]
  },
  {
   "cell_type": "code",
   "execution_count": 43,
   "metadata": {},
   "outputs": [
    {
     "name": "stdout",
     "output_type": "stream",
     "text": [
      "400 Sí es bisiesto 400%4: 0\n",
      "1000 No es bisiesto 1000%100: 0\n",
      "4000 Sí es bisiesto 4000%400: 0\n"
     ]
    }
   ],
   "source": [
    "# Pistas\n",
    "print(f\"400 Sí es bisiesto 400%4: {400%4}\")\n",
    "print(f\"1000 No es bisiesto 1000%100: {1000%100}\")\n",
    "print(f\"4000 Sí es bisiesto 4000%400: {4000%400}\")"
   ]
  },
  {
   "cell_type": "code",
   "execution_count": 44,
   "metadata": {},
   "outputs": [],
   "source": [
    "# Escribe aquí tu código\n",
    "def calcularBisiesto (year):\n",
    "    if year%4 == 0 or year%100 == 0 or year%400 == 0:\n",
    "        print('El año', year,'SI es bisiesto')\n",
    "    else:\n",
    "        print('El año',year,'NO es bisiesto')"
   ]
  },
  {
   "cell_type": "code",
   "execution_count": 45,
   "metadata": {},
   "outputs": [
    {
     "name": "stdout",
     "output_type": "stream",
     "text": [
      "El año 2022 NO es bisiesto\n",
      "El año 2021 NO es bisiesto\n",
      "El año 2019 NO es bisiesto\n",
      "El año 400 SI es bisiesto\n",
      "El año 1000 SI es bisiesto\n",
      "El año 4000 SI es bisiesto\n",
      "El año 12 SI es bisiesto\n"
     ]
    }
   ],
   "source": [
    "calcularBisiesto(2022)\n",
    "calcularBisiesto(2021)\n",
    "calcularBisiesto(2019)\n",
    "calcularBisiesto(400)\n",
    "calcularBisiesto(1000)\n",
    "calcularBisiesto(4000)\n",
    "calcularBisiesto(12)"
   ]
  },
  {
   "cell_type": "markdown",
   "metadata": {
    "pycharm": {
     "name": "#%% md\n"
    }
   },
   "source": [
    "## Colecciones"
   ]
  },
  {
   "cell_type": "markdown",
   "metadata": {
    "pycharm": {
     "name": "#%% md\n"
    }
   },
   "source": [
    "Además de las _tuplas_ que ya hemos visto, en Python hay tres tipos agregados incorporados en la biblioteca estándar del lenguaje:\n",
    "* Listas\n",
    "* Sets\n",
    "* Diccionarios\n",
    "\n",
    "Estos tipos se conocen con el nombre genérico de _colecciones_, y su propósito es almacenar conjuntos de elementos."
   ]
  },
  {
   "cell_type": "markdown",
   "metadata": {
    "pycharm": {
     "name": "#%% md\n"
    }
   },
   "source": [
    "### Listas"
   ]
  },
  {
   "cell_type": "markdown",
   "metadata": {
    "pycharm": {
     "name": "#%% md\n"
    }
   },
   "source": [
    "Las listas son secuencias de tipos homogéneos; es decir, los elementos que contienen son del mismo tipo. \n",
    "\n",
    "Su característica principal es la _indexación_: cada elemento tiene asociado un índice de _acceso directo_ mediante el que se puede acceder a su valor."
   ]
  },
  {
   "cell_type": "code",
   "execution_count": 47,
   "metadata": {
    "pycharm": {
     "name": "#%%\n"
    }
   },
   "outputs": [],
   "source": [
    "someOddNumbers = [7, 5, 3, 1]   # list of int, initialized with some values.\n",
    "aFewValues = []                 # list empty created with []\n",
    "lessValues = list()             # list empty created with list()"
   ]
  },
  {
   "cell_type": "code",
   "execution_count": 48,
   "metadata": {
    "pycharm": {
     "name": "#%%\n"
    }
   },
   "outputs": [
    {
     "name": "stdout",
     "output_type": "stream",
     "text": [
      "<class 'list'>\n"
     ]
    }
   ],
   "source": [
    "print(type(aFewValues))"
   ]
  },
  {
   "cell_type": "code",
   "execution_count": 49,
   "metadata": {
    "pycharm": {
     "name": "#%%\n"
    }
   },
   "outputs": [
    {
     "name": "stdout",
     "output_type": "stream",
     "text": [
      "<class 'list'>\n"
     ]
    }
   ],
   "source": [
    "print(type(someOddNumbers))"
   ]
  },
  {
   "cell_type": "markdown",
   "metadata": {
    "pycharm": {
     "name": "#%% md\n"
    }
   },
   "source": [
    "Algunas operaciones con arrays."
   ]
  },
  {
   "cell_type": "code",
   "execution_count": 50,
   "metadata": {
    "pycharm": {
     "name": "#%%\n"
    }
   },
   "outputs": [
    {
     "name": "stdout",
     "output_type": "stream",
     "text": [
      "7\n"
     ]
    }
   ],
   "source": [
    "print(someOddNumbers[0])           # Indexación"
   ]
  },
  {
   "cell_type": "code",
   "execution_count": 51,
   "metadata": {
    "pycharm": {
     "name": "#%%\n"
    }
   },
   "outputs": [
    {
     "name": "stdout",
     "output_type": "stream",
     "text": [
      "3\n"
     ]
    }
   ],
   "source": [
    "print(someOddNumbers[2])"
   ]
  },
  {
   "cell_type": "code",
   "execution_count": 52,
   "metadata": {
    "pycharm": {
     "name": "#%%\n"
    }
   },
   "outputs": [
    {
     "name": "stdout",
     "output_type": "stream",
     "text": [
      "4\n"
     ]
    }
   ],
   "source": [
    "print(len(someOddNumbers))"
   ]
  },
  {
   "cell_type": "code",
   "execution_count": 53,
   "metadata": {
    "pycharm": {
     "name": "#%%\n"
    }
   },
   "outputs": [
    {
     "name": "stdout",
     "output_type": "stream",
     "text": [
      "1\n"
     ]
    }
   ],
   "source": [
    "print(someOddNumbers[len(someOddNumbers)-1])"
   ]
  },
  {
   "cell_type": "code",
   "execution_count": 54,
   "metadata": {
    "pycharm": {
     "name": "#%%\n"
    }
   },
   "outputs": [
    {
     "ename": "IndexError",
     "evalue": "list index out of range",
     "output_type": "error",
     "traceback": [
      "\u001b[0;31m---------------------------------------------------------------------------\u001b[0m",
      "\u001b[0;31mIndexError\u001b[0m                                Traceback (most recent call last)",
      "\u001b[0;32m/tmp/ipykernel_100774/3254392525.py\u001b[0m in \u001b[0;36m<module>\u001b[0;34m\u001b[0m\n\u001b[0;32m----> 1\u001b[0;31m \u001b[0mprint\u001b[0m\u001b[0;34m(\u001b[0m\u001b[0msomeOddNumbers\u001b[0m\u001b[0;34m[\u001b[0m\u001b[0;36m10\u001b[0m\u001b[0;34m]\u001b[0m\u001b[0;34m)\u001b[0m\u001b[0;34m\u001b[0m\u001b[0;34m\u001b[0m\u001b[0m\n\u001b[0m",
      "\u001b[0;31mIndexError\u001b[0m: list index out of range"
     ]
    }
   ],
   "source": [
    "print(someOddNumbers[10])"
   ]
  },
  {
   "cell_type": "markdown",
   "metadata": {
    "pycharm": {
     "name": "#%% md\n"
    }
   },
   "source": [
    "El último ejemplo dá error ¿Por qué?"
   ]
  },
  {
   "cell_type": "code",
   "execution_count": 55,
   "metadata": {
    "pycharm": {
     "name": "#%%\n"
    }
   },
   "outputs": [],
   "source": [
    "#responde aquí\n"
   ]
  },
  {
   "cell_type": "code",
   "execution_count": 56,
   "metadata": {
    "pycharm": {
     "name": "#%%\n"
    },
    "scrolled": false
   },
   "outputs": [
    {
     "name": "stdout",
     "output_type": "stream",
     "text": [
      "[7, 5, 3, 1, 9]\n"
     ]
    }
   ],
   "source": [
    "someOddNumbers = someOddNumbers + [9]           # Append another array\n",
    "print(someOddNumbers)"
   ]
  },
  {
   "cell_type": "code",
   "execution_count": 58,
   "metadata": {
    "pycharm": {
     "name": "#%%\n"
    }
   },
   "outputs": [
    {
     "name": "stdout",
     "output_type": "stream",
     "text": [
      "[7, 5, 3, 1, 9, 11, 11]\n",
      "7\n",
      "5\n",
      "3\n",
      "1\n",
      "9\n",
      "11\n",
      "11\n",
      "\n",
      "7\n",
      "5\n",
      "3\n",
      "1\n",
      "9\n",
      "11\n",
      "11\n"
     ]
    }
   ],
   "source": [
    "someOddNumbers.append(11)     # Append a single element. The array is mutated.\n",
    "print(someOddNumbers)\n",
    "\n",
    "\n",
    "#Para recorrer un array\n",
    "\n",
    "for i in range (len(someOddNumbers)):\n",
    "    print (someOddNumbers[i])\n",
    "\n",
    "print()\n",
    "    #También:\n",
    "for i in someOddNumbers:\n",
    "    print(i)\n",
    "\n"
   ]
  },
  {
   "cell_type": "code",
   "execution_count": 59,
   "metadata": {
    "pycharm": {
     "name": "#%%\n"
    }
   },
   "outputs": [
    {
     "name": "stdout",
     "output_type": "stream",
     "text": [
      "True\n"
     ]
    }
   ],
   "source": [
    "print(3 in someOddNumbers)"
   ]
  },
  {
   "cell_type": "code",
   "execution_count": 60,
   "metadata": {
    "pycharm": {
     "name": "#%%\n"
    }
   },
   "outputs": [
    {
     "name": "stdout",
     "output_type": "stream",
     "text": [
      "0\n"
     ]
    }
   ],
   "source": [
    "print(someOddNumbers.count(2)) # Cuenta cuántos 2 aparecen en la lista"
   ]
  },
  {
   "cell_type": "code",
   "execution_count": 61,
   "metadata": {
    "pycharm": {
     "name": "#%%\n"
    }
   },
   "outputs": [
    {
     "name": "stdout",
     "output_type": "stream",
     "text": [
      "2\n"
     ]
    }
   ],
   "source": [
    "print(someOddNumbers.index(3))"
   ]
  },
  {
   "cell_type": "code",
   "execution_count": 62,
   "metadata": {
    "pycharm": {
     "name": "#%%\n"
    }
   },
   "outputs": [
    {
     "ename": "ValueError",
     "evalue": "2 is not in list",
     "output_type": "error",
     "traceback": [
      "\u001b[0;31m---------------------------------------------------------------------------\u001b[0m",
      "\u001b[0;31mValueError\u001b[0m                                Traceback (most recent call last)",
      "\u001b[0;32m/tmp/ipykernel_100774/161609368.py\u001b[0m in \u001b[0;36m<module>\u001b[0;34m\u001b[0m\n\u001b[0;32m----> 1\u001b[0;31m \u001b[0msomeOddNumbers\u001b[0m\u001b[0;34m.\u001b[0m\u001b[0mindex\u001b[0m\u001b[0;34m(\u001b[0m\u001b[0;36m2\u001b[0m\u001b[0;34m)\u001b[0m\u001b[0;34m\u001b[0m\u001b[0;34m\u001b[0m\u001b[0m\n\u001b[0m",
      "\u001b[0;31mValueError\u001b[0m: 2 is not in list"
     ]
    }
   ],
   "source": [
    "someOddNumbers.index(2)"
   ]
  },
  {
   "cell_type": "markdown",
   "metadata": {
    "pycharm": {
     "name": "#%% md\n"
    }
   },
   "source": [
    "En este caso estamos buscando el índice del elemento 2, que no está incluido en la lista."
   ]
  },
  {
   "cell_type": "code",
   "execution_count": 63,
   "metadata": {
    "pycharm": {
     "name": "#%%\n"
    }
   },
   "outputs": [
    {
     "name": "stdout",
     "output_type": "stream",
     "text": [
      "[7, 5, 3, 1, 9, 11, 11, 7, 5, 3, 1, 9, 11, 11]\n"
     ]
    }
   ],
   "source": [
    "print(someOddNumbers + someOddNumbers)"
   ]
  },
  {
   "cell_type": "markdown",
   "metadata": {
    "pycharm": {
     "name": "#%% md\n"
    }
   },
   "source": [
    "Los elementos pueden estar repetidos."
   ]
  },
  {
   "cell_type": "markdown",
   "metadata": {
    "pycharm": {
     "name": "#%% md\n"
    }
   },
   "source": [
    "### Iteración"
   ]
  },
  {
   "cell_type": "code",
   "execution_count": 64,
   "metadata": {
    "pycharm": {
     "name": "#%%\n"
    }
   },
   "outputs": [
    {
     "name": "stdout",
     "output_type": "stream",
     "text": [
      "7 14\n",
      "5 10\n",
      "3 6\n",
      "1 2\n",
      "9 18\n",
      "11 22\n",
      "11 22\n"
     ]
    }
   ],
   "source": [
    "for v in someOddNumbers:\n",
    "    print(v, v * 2)\n"
   ]
  },
  {
   "cell_type": "code",
   "execution_count": 65,
   "metadata": {
    "pycharm": {
     "name": "#%%\n"
    }
   },
   "outputs": [
    {
     "name": "stdout",
     "output_type": "stream",
     "text": [
      "[7, 5, 3, 1, 9, 11, 11]\n",
      "11 22\n",
      "11 22\n",
      "9 18\n",
      "1 2\n",
      "3 6\n",
      "5 10\n",
      "7 14\n"
     ]
    }
   ],
   "source": [
    "print (someOddNumbers)\n",
    "someOddNumbers.reverse()\n",
    "for v in someOddNumbers:\n",
    "    print(v, v * 2)"
   ]
  },
  {
   "cell_type": "code",
   "execution_count": 66,
   "metadata": {
    "pycharm": {
     "name": "#%%\n"
    }
   },
   "outputs": [
    {
     "name": "stdout",
     "output_type": "stream",
     "text": [
      "1 2\n",
      "3 6\n",
      "5 10\n",
      "7 14\n",
      "9 18\n",
      "11 22\n",
      "11 22\n"
     ]
    }
   ],
   "source": [
    "for v in sorted(someOddNumbers):\n",
    "    print(v, v * 2)\n"
   ]
  },
  {
   "cell_type": "code",
   "execution_count": 67,
   "metadata": {
    "pycharm": {
     "name": "#%%\n"
    }
   },
   "outputs": [
    {
     "name": "stdout",
     "output_type": "stream",
     "text": [
      "[1, 3, 5, 7, 9, 11, 11]\n",
      "7\n"
     ]
    }
   ],
   "source": [
    "print(sorted(someOddNumbers))\n",
    "print(len(someOddNumbers))\n",
    "\n",
    "\n"
   ]
  },
  {
   "cell_type": "markdown",
   "metadata": {
    "pycharm": {
     "name": "#%% md\n"
    }
   },
   "source": [
    "----"
   ]
  },
  {
   "cell_type": "markdown",
   "metadata": {
    "pycharm": {
     "name": "#%% md\n"
    }
   },
   "source": [
    "### Ejercicio A1\n",
    "\n",
    "Escribe una función que reciba como parámetro un array de números enteros, y devuelva la suma de los mismos."
   ]
  },
  {
   "cell_type": "code",
   "execution_count": 71,
   "metadata": {
    "pycharm": {
     "name": "#%%\n"
    }
   },
   "outputs": [],
   "source": [
    "# Escribe aquí tu código\n",
    "def sumaEnteros (array: list):\n",
    "    x = 0\n",
    "    for i in range(len(array)):\n",
    "        x = x + array[i]\n",
    "    return x\n",
    "\n",
    "#También:\n",
    "def SumaEnteros(arrayEnteros: list):\n",
    "    total = 0\n",
    "    for i in arrayEnteros:\n",
    "        total = total + i\n",
    "    return total\n"
   ]
  },
  {
   "cell_type": "markdown",
   "metadata": {
    "pycharm": {
     "name": "#%% md\n"
    }
   },
   "source": [
    "Si tu función está bien, las siguientes celdas darán el resultado esperado:"
   ]
  },
  {
   "cell_type": "code",
   "execution_count": 72,
   "metadata": {
    "pycharm": {
     "name": "#%%\n"
    }
   },
   "outputs": [
    {
     "name": "stdout",
     "output_type": "stream",
     "text": [
      "6\n",
      "6\n"
     ]
    }
   ],
   "source": [
    "print(sumaEnteros([1, 2, 3]))   # 6\n",
    "print(SumaEnteros([1, 2, 3]))   # 6"
   ]
  },
  {
   "cell_type": "code",
   "execution_count": 73,
   "metadata": {
    "pycharm": {
     "name": "#%%\n"
    }
   },
   "outputs": [
    {
     "name": "stdout",
     "output_type": "stream",
     "text": [
      "0\n",
      "0\n"
     ]
    }
   ],
   "source": [
    "print(sumaEnteros([-1, 0, 1]))  # 0\n",
    "print(SumaEnteros([-1, 0, 1]))  # 0"
   ]
  },
  {
   "cell_type": "markdown",
   "metadata": {
    "pycharm": {
     "name": "#%% md\n"
    }
   },
   "source": [
    "### Ejercicio A2\n",
    "\n",
    "Escribe una función que reciba como parámetro un array de números enteros, y devuelva su media como un `float`."
   ]
  },
  {
   "cell_type": "code",
   "execution_count": 74,
   "metadata": {
    "pycharm": {
     "name": "#%%\n"
    }
   },
   "outputs": [],
   "source": [
    "# Escribe aquí tu código\n",
    "def mediaEnteros(array: list)-> float:\n",
    "    x = 0\n",
    "    for i in range(len(array)):\n",
    "        x = (x + array[i])\n",
    "    return x/(len(array))\n"
   ]
  },
  {
   "cell_type": "code",
   "execution_count": 75,
   "metadata": {
    "pycharm": {
     "name": "#%%\n"
    },
    "scrolled": true
   },
   "outputs": [
    {
     "name": "stdout",
     "output_type": "stream",
     "text": [
      "2.0\n"
     ]
    }
   ],
   "source": [
    "print(mediaEnteros([1, 2, 3]))   # 2.0"
   ]
  },
  {
   "cell_type": "code",
   "execution_count": 76,
   "metadata": {
    "pycharm": {
     "name": "#%%\n"
    }
   },
   "outputs": [
    {
     "name": "stdout",
     "output_type": "stream",
     "text": [
      "3.5\n"
     ]
    }
   ],
   "source": [
    "print(mediaEnteros([1, 2, 3, 4, 5, 6]))   # 3.5"
   ]
  },
  {
   "cell_type": "markdown",
   "metadata": {
    "pycharm": {
     "name": "#%% md\n"
    }
   },
   "source": [
    "### Ejercicio A3\n",
    "\n",
    "Escribe una función que reciba como parámetro un array de números enteros, y devuelva el elemento que tiene el valor máximo.\n",
    "\n",
    "_Nota_: posiblemente tengas que usar `if` para comparar valores. \n",
    "\n",
    "Su funcionamiento es muy parecido al de otros lenguajes de programación.\n",
    "\n",
    "_Nota_: llama a la función `myMax`, porque `max` ya está definido en Python."
   ]
  },
  {
   "cell_type": "code",
   "execution_count": 77,
   "metadata": {
    "pycharm": {
     "name": "#%%\n"
    }
   },
   "outputs": [
    {
     "name": "stdout",
     "output_type": "stream",
     "text": [
      "5\n"
     ]
    }
   ],
   "source": [
    "print(max(1,2,5,0))"
   ]
  },
  {
   "cell_type": "code",
   "execution_count": 78,
   "metadata": {
    "pycharm": {
     "name": "#%%\n"
    }
   },
   "outputs": [],
   "source": [
    "# Escribe aquí tu código\n",
    "def myMax(array: list):\n",
    "    x = 0\n",
    "    for i in array:\n",
    "        if i > x:\n",
    "            x = i\n",
    "    return x"
   ]
  },
  {
   "cell_type": "code",
   "execution_count": 79,
   "metadata": {
    "pycharm": {
     "name": "#%%\n"
    },
    "scrolled": true
   },
   "outputs": [
    {
     "name": "stdout",
     "output_type": "stream",
     "text": [
      "9\n",
      "9\n"
     ]
    }
   ],
   "source": [
    "print(myMax([6, 0, -7, 1, 9, 2]))   # 9\n",
    "print(max([6, 0, -7, 1, 9, 2]))"
   ]
  },
  {
   "cell_type": "markdown",
   "metadata": {
    "pycharm": {
     "name": "#%% md\n"
    }
   },
   "source": [
    "### Ejercicio A4\n",
    "Ahora que ya sabes como calcular el valor máximo de un array de números enteros.\n",
    "\n",
    "Escribe una función que reciba como parámetro un array de números enteros, y devuelva el elemento que tiene el valor mínimo.\n"
   ]
  },
  {
   "cell_type": "code",
   "execution_count": 80,
   "metadata": {},
   "outputs": [],
   "source": [
    "# Escribe aquí tu código\n",
    "def myMin(array: list):\n",
    "    x = array[0]\n",
    "    for i in array:\n",
    "        if i < x:\n",
    "            x = i\n",
    "    return x\n"
   ]
  },
  {
   "cell_type": "code",
   "execution_count": 81,
   "metadata": {
    "scrolled": true
   },
   "outputs": [
    {
     "name": "stdout",
     "output_type": "stream",
     "text": [
      "-7\n"
     ]
    }
   ],
   "source": [
    "print(myMin([6, 0, -7, 1, 9, 2]))   # -7"
   ]
  },
  {
   "cell_type": "markdown",
   "metadata": {},
   "source": [
    "----"
   ]
  },
  {
   "cell_type": "markdown",
   "metadata": {
    "pycharm": {
     "name": "#%% md\n"
    }
   },
   "source": [
    "En el caso de las variables que almacenan valores primitivos \"normales\", como `Int` o `String`, si asigno una variable a otra se duplica el contenido.\n",
    "\n",
    "En cambio con las listas no es lo mismo, si asigno un lista a una variable o lo envío como parámetro a una función, las dos variables apuntan a la misma dirección de memoria.  \n",
    "\n",
    "### Ejemplo:"
   ]
  },
  {
   "cell_type": "markdown",
   "metadata": {
    "pycharm": {
     "name": "#%% md\n"
    }
   },
   "source": [
    "Si creamos una variable de tipo lista con un conjunto de datos lo que se produce es lo siguiente:\n",
    "<img src=imagenes/imagen1.png>\n",
    "\n",
    "Cuando asignamos la variable **colors** a **b** (b = colors) se produce lo siguiente:\n",
    "<img src=imagenes/imagen2.png>\n",
    "\n",
    "\n",
    "### Ejemplo de código:"
   ]
  },
  {
   "cell_type": "code",
   "execution_count": 82,
   "metadata": {
    "pycharm": {
     "name": "#%%\n"
    }
   },
   "outputs": [
    {
     "name": "stdout",
     "output_type": "stream",
     "text": [
      "Array modificado: [1, 2, 3, 4]\n",
      "Array original: [1, 2, 3, 4]\n"
     ]
    }
   ],
   "source": [
    "unArray = [1, 2, 3]    # Declaro con `var` para poder modificar\n",
    "otroArray = unArray    # Asigno a otra variable (funcionaría igual al llamar a una función)\n",
    "otroArray.append(4)        # Añado un elemento\n",
    "\n",
    "print(f\"Array modificado: {otroArray}\")\n",
    "print(f\"Array original: {unArray}\")"
   ]
  },
  {
   "cell_type": "markdown",
   "metadata": {
    "pycharm": {
     "name": "#%% md\n"
    }
   },
   "source": [
    "### Diccionarios"
   ]
  },
  {
   "cell_type": "markdown",
   "metadata": {
    "pycharm": {
     "name": "#%% md\n"
    }
   },
   "source": [
    "Los diccionarios, que en otros lenguajes pueden tener otros nombres como _mapas_ o _arrays asociativos_, son un conjunto de parejas _**nombre**_ y _**valor**_. \n",
    "\n",
    "El _nombre_ es usualmente un String, pero no tiene por qué. \n",
    "\n",
    "Por este motivo se le llama generalmente **`clave`** en lugar de _nombre_.\n",
    "\n",
    "Los diccionarios se utilizan muchísimo para relacionar datos entre sí. \n",
    "\n",
    "Por ejemplo, en una aplicación de contactos, la _clave_ podría ser el nombre de la persona y el _valor_ su número de teléfono. \n",
    "\n",
    "Un sistema de DNS podría implementarse también con un gran diccionario: a cada nombre de servidor se le asocia su dirección IP. \n",
    "\n",
    "Para crear un diccionario vacío podemos usar varios métodos"
   ]
  },
  {
   "cell_type": "code",
   "execution_count": 83,
   "metadata": {
    "pycharm": {
     "name": "#%%\n"
    }
   },
   "outputs": [
    {
     "name": "stdout",
     "output_type": "stream",
     "text": [
      "<class 'dict'> <class 'dict'>\n"
     ]
    }
   ],
   "source": [
    " dns = {}\n",
    " other_dns = dict ()\n",
    " print (type(dns), type(other_dns))"
   ]
  },
  {
   "cell_type": "markdown",
   "metadata": {
    "pycharm": {
     "name": "#%% md\n"
    }
   },
   "source": [
    "Si suponemos que ambos datos (nombre de servidor y dirección IP) fueran Strings, declararíamos el tipo del diccionario correspondiente así:"
   ]
  },
  {
   "cell_type": "code",
   "execution_count": 84,
   "metadata": {
    "pycharm": {
     "name": "#%%\n"
    }
   },
   "outputs": [],
   "source": [
    "dns[\"www.urjc.es\"] = \"212.128.240.50\"\n",
    "dns[\"google.com\"] = \"172.217.17.14\"\n",
    "dns[\"stanford.edu\"] = \"171.67.215.200\""
   ]
  },
  {
   "cell_type": "code",
   "execution_count": 85,
   "metadata": {
    "pycharm": {
     "name": "#%%\n"
    }
   },
   "outputs": [
    {
     "name": "stdout",
     "output_type": "stream",
     "text": [
      "172.217.17.14\n"
     ]
    }
   ],
   "source": [
    "print(dns[\"google.com\"])"
   ]
  },
  {
   "cell_type": "markdown",
   "metadata": {
    "pycharm": {
     "name": "#%% md\n"
    }
   },
   "source": [
    "No hay ningún orden asociado a las claves. \n",
    "\n",
    "Podemos iterar por un diccionario, pero nos llegarán los resultados en un orden arbitrario. \n",
    "\n",
    "Lo único que se garantiza es que este orden será el mismo mientras no hagamos modificaciones en el diccionario.\n",
    "\n",
    "La iteración devuelve _tuplas_ con las claves y los valores:"
   ]
  },
  {
   "cell_type": "code",
   "execution_count": 86,
   "metadata": {
    "pycharm": {
     "name": "#%%\n"
    }
   },
   "outputs": [
    {
     "name": "stdout",
     "output_type": "stream",
     "text": [
      "www.urjc.es => 212.128.240.50\n",
      "google.com => 172.217.17.14\n",
      "stanford.edu => 171.67.215.200\n"
     ]
    }
   ],
   "source": [
    "def printDnsDictionary(dns):\n",
    "    for key, value in dns.items():\n",
    "        print(f\"{key} => {value}\")\n",
    "        #print(key,'-->', value)\n",
    "    \n",
    "\n",
    "printDnsDictionary(dns)"
   ]
  },
  {
   "cell_type": "markdown",
   "metadata": {
    "pycharm": {
     "name": "#%% md\n"
    }
   },
   "source": [
    "Las operaciones básicas en diccionarios son:\n",
    "* Añadir pares clave-valor. Se modifican los valores anteriores en caso de repetición de la clave.\n",
    "* Consultar el valor asociado a una clave. \n",
    "* Eliminar elementos, que veremos a continuación."
   ]
  },
  {
   "cell_type": "code",
   "execution_count": 87,
   "metadata": {
    "pycharm": {
     "name": "#%%\n"
    }
   },
   "outputs": [
    {
     "name": "stdout",
     "output_type": "stream",
     "text": [
      "www.urjc.es => 212.128.240.50\n",
      "stanford.edu => 171.67.215.200\n"
     ]
    }
   ],
   "source": [
    "dns.pop(\"google.com\")\n",
    "\n",
    "printDnsDictionary(dns)\n"
   ]
  },
  {
   "cell_type": "markdown",
   "metadata": {
    "pycharm": {
     "name": "#%% md\n"
    }
   },
   "source": [
    "**Nota:** \n",
    "\n",
    "En estos notebooks se pueden obtener sugerencias si no sabemos o no recordamos cómo se llama una propiedad. \n",
    "\n",
    "Por ejemplo, si escribimos `dns.p` y pulsamos la tecla tabulador, veremos una lista de sugerencias). \n",
    "\n",
    "No sólo se muestra la opción pop, sino también se muestra la función popitem que devuelve la pareja clave valor arbitaria del diccionario. \n"
   ]
  },
  {
   "cell_type": "markdown",
   "metadata": {
    "pycharm": {
     "name": "#%% md\n"
    }
   },
   "source": [
    "Como hemos indicado, el tipo de las claves y el tipo de los valores asociados a esas claves no tienen por qué coincidir."
   ]
  },
  {
   "cell_type": "code",
   "execution_count": 88,
   "metadata": {
    "pycharm": {
     "name": "#%%\n"
    }
   },
   "outputs": [
    {
     "name": "stdout",
     "output_type": "stream",
     "text": [
      "{'Manuel': 30, 'Pablo': 25, 'Javier': 20}\n"
     ]
    }
   ],
   "source": [
    "ages = {\"Manuel\":30} # Forma de definir el primer elemento de un diccionario\n",
    "ages[\"Pablo\"] = 25\n",
    "ages[\"Javier\"] = 20\n",
    "\n",
    "print (ages)"
   ]
  },
  {
   "cell_type": "markdown",
   "metadata": {
    "pycharm": {
     "name": "#%% md\n"
    }
   },
   "source": [
    "En este caso la clave es un `String` y el valor asociado a cada una es un `Int`."
   ]
  },
  {
   "cell_type": "markdown",
   "metadata": {
    "pycharm": {
     "name": "#%% md\n"
    }
   },
   "source": [
    "Podemos, incluso, asociar \"varios\" valores usando tuplas u otros tipos agregados."
   ]
  },
  {
   "cell_type": "code",
   "execution_count": 89,
   "metadata": {
    "pycharm": {
     "name": "#%%\n"
    }
   },
   "outputs": [],
   "source": [
    "contacts = {}"
   ]
  },
  {
   "cell_type": "code",
   "execution_count": 90,
   "metadata": {
    "pycharm": {
     "name": "#%%\n"
    }
   },
   "outputs": [],
   "source": [
    "contacts[\"Pablo\"] = [25, \"pablo@xxxxx.com\"]\n",
    "contacts[\"Javier\"] = [20, \"javier@yyyyy.com\"]"
   ]
  },
  {
   "cell_type": "code",
   "execution_count": 91,
   "metadata": {
    "pycharm": {
     "name": "#%%\n"
    }
   },
   "outputs": [
    {
     "name": "stdout",
     "output_type": "stream",
     "text": [
      "Pablo is 25 years old and can be contacted at pablo@xxxxx.com.\n",
      "Javier is 20 years old and can be contacted at javier@yyyyy.com.\n"
     ]
    }
   ],
   "source": [
    "for (name, (age, email)) in contacts.items():\n",
    "    print(f\"{name} is {age} years old and can be contacted at {email}.\")\n"
   ]
  },
  {
   "cell_type": "markdown",
   "metadata": {
    "pycharm": {
     "name": "#%% md\n"
    }
   },
   "source": [
    "La enumeración `for ... in` devuelve una tupla de dos elementos: el primero es la clave y el segundo el valor. \n",
    "\n",
    "En este caso, el valor es _otra tupla_ con la edad y la dirección de correo electrónico. \n",
    "\n",
    "Para poder iterar todos los elementos del dicionario, se debe llamar a la función items() que permite acceder a la vista de todas las claves con sus valores asociados. \n",
    "\n",
    "También existen otras dos vistas: \n",
    "* keys() que devuelve la vista de todas las claves del diccionario.\n",
    "* values() que devuelve las vistas de los valores contenidos en el diccionario."
   ]
  },
  {
   "cell_type": "markdown",
   "metadata": {
    "pycharm": {
     "name": "#%% md\n"
    }
   },
   "source": [
    "### Sets"
   ]
  },
  {
   "cell_type": "markdown",
   "metadata": {
    "pycharm": {
     "name": "#%% md\n"
    }
   },
   "source": [
    "Los `sets` o conjuntos son, como los arrays, secuencias homogéneas de valores. Se diferencian de ellos en:\n",
    "* No pueden contener elementos repetidos.\n",
    "* No existe un índice de posición asociado a cada elemento. Si iteramos un Set podemos obtener valores en cualquier orden.\n",
    "\n",
    "Los sets se utilizan mucho menos que los arrays, pero son muy útiles cuando queremos garantizar que los elementos sean únicos."
   ]
  },
  {
   "cell_type": "code",
   "execution_count": 92,
   "metadata": {
    "pycharm": {
     "name": "#%%\n"
    }
   },
   "outputs": [],
   "source": [
    "x = set([1, 2, 3])"
   ]
  },
  {
   "cell_type": "code",
   "execution_count": 93,
   "metadata": {
    "pycharm": {
     "name": "#%%\n"
    }
   },
   "outputs": [
    {
     "name": "stdout",
     "output_type": "stream",
     "text": [
      "{1, 2, 3}\n"
     ]
    }
   ],
   "source": [
    "print(x)"
   ]
  },
  {
   "cell_type": "code",
   "execution_count": 94,
   "metadata": {
    "pycharm": {
     "name": "#%%\n"
    }
   },
   "outputs": [],
   "source": [
    "knownOddNumbers = set(someOddNumbers)"
   ]
  },
  {
   "cell_type": "code",
   "execution_count": 95,
   "metadata": {
    "pycharm": {
     "name": "#%%\n"
    }
   },
   "outputs": [
    {
     "name": "stdout",
     "output_type": "stream",
     "text": [
      "{1, 3, 5, 7, 9, 11}\n"
     ]
    }
   ],
   "source": [
    "print(knownOddNumbers)"
   ]
  },
  {
   "cell_type": "code",
   "execution_count": 96,
   "metadata": {
    "pycharm": {
     "name": "#%%\n"
    }
   },
   "outputs": [
    {
     "name": "stdout",
     "output_type": "stream",
     "text": [
      "6\n"
     ]
    }
   ],
   "source": [
    "knownOddNumbers.add(11)\n",
    "print(len(knownOddNumbers))"
   ]
  },
  {
   "cell_type": "code",
   "execution_count": 97,
   "metadata": {
    "pycharm": {
     "name": "#%%\n"
    }
   },
   "outputs": [],
   "source": [
    "def findDuplicates(names):\n",
    "    uniqueNames = set()\n",
    "    duplicates = set()\n",
    "    for name in names:\n",
    "        if name in uniqueNames:\n",
    "            duplicates.add(name)\n",
    "        else:\n",
    "            uniqueNames.add(name)    \n",
    "    return duplicates"
   ]
  },
  {
   "cell_type": "code",
   "execution_count": 98,
   "metadata": {
    "pycharm": {
     "name": "#%%\n"
    }
   },
   "outputs": [
    {
     "name": "stdout",
     "output_type": "stream",
     "text": [
      "{'pablo', 'ana'}\n"
     ]
    }
   ],
   "source": [
    "print(findDuplicates([\"pedro\", \"ana\", \"javier\", \"ana\", \"ana\", \"pablo\", \"pablo\"]))"
   ]
  },
  {
   "cell_type": "markdown",
   "metadata": {
    "pycharm": {
     "name": "#%% md\n"
    }
   },
   "source": [
    "------"
   ]
  },
  {
   "cell_type": "markdown",
   "metadata": {
    "pycharm": {
     "name": "#%% md\n"
    }
   },
   "source": [
    "### Ejercicio 1\n",
    "\n",
    "Escribe una función que acepte como parámetro de entrada una lista de `String`s, y devuelva los nombres únicos que figuran en la lista, sin ningún orden en particular.\n",
    "\n",
    "Escribe el código necesario para comprobar que funciona correctamente.\n",
    "\n",
    "Utiliza nombres sensatos para la función y las variables que utilices."
   ]
  },
  {
   "cell_type": "markdown",
   "metadata": {
    "pycharm": {
     "name": "#%% md\n"
    }
   },
   "source": [
    "**Versión 1**: utilizando la función `findDuplicates` definida antes. \n",
    "\n",
    "Como ya la tenemos hecha y esta suena que puede ser parecida, probamos a reutilizar y adaptar el código:"
   ]
  },
  {
   "cell_type": "code",
   "execution_count": 99,
   "metadata": {
    "pycharm": {
     "name": "#%%\n"
    }
   },
   "outputs": [
    {
     "name": "stdout",
     "output_type": "stream",
     "text": [
      "{'pablo', 'pedro', 'ana', 'javier'}\n"
     ]
    }
   ],
   "source": [
    "def findUnique (names):\n",
    "    uniqueNames = set()\n",
    "    duplicates = set()\n",
    "    for name in names:\n",
    "        if name in uniqueNames:\n",
    "            duplicates.add(name)        \n",
    "        uniqueNames.add(name)\n",
    "    \n",
    "    return uniqueNames\n",
    "\n",
    "\n",
    "print(findUnique([\"pedro\", \"ana\", \"javier\", \"ana\", \"ana\", \"pablo\", \"pablo\"]))"
   ]
  },
  {
   "cell_type": "markdown",
   "metadata": {
    "pycharm": {
     "name": "#%% md\n"
    }
   },
   "source": [
    "¿Ya está? \n",
    "\n",
    "No, porque se puede simplificar. \n",
    "\n",
    "Ya tenemos una versión que funciona, lo cual es importante, pero no necesitamos el `Set` donde vamos guardando los duplicados, así que lo quitamos."
   ]
  },
  {
   "cell_type": "markdown",
   "metadata": {
    "pycharm": {
     "name": "#%% md\n"
    }
   },
   "source": [
    "**Versión 2**: eliminamos la variable `duplicates`, que ahora no nos hace falta."
   ]
  },
  {
   "cell_type": "code",
   "execution_count": 100,
   "metadata": {
    "pycharm": {
     "name": "#%%\n"
    }
   },
   "outputs": [
    {
     "name": "stdout",
     "output_type": "stream",
     "text": [
      "{'pablo', 'pedro', 'ana', 'javier'}\n"
     ]
    }
   ],
   "source": [
    "def findUnique( names):\n",
    "    uniqueNames = set()\n",
    "    for name in names:\n",
    "        uniqueNames.add(name)    \n",
    "    return uniqueNames\n",
    "\n",
    "\n",
    "print(findUnique([\"pedro\", \"ana\", \"javier\", \"ana\", \"ana\", \"pablo\", \"pablo\"]))"
   ]
  },
  {
   "cell_type": "markdown",
   "metadata": {
    "pycharm": {
     "name": "#%% md\n"
    }
   },
   "source": [
    "Funciona igual pero con menos líneas de código, así que esta versión es mejor.\n",
    "\n",
    "Pero antes hemos visto que podemos hacer un `Set` directamente partiendo de un array, vamos a probarlo."
   ]
  },
  {
   "cell_type": "markdown",
   "metadata": {
    "pycharm": {
     "name": "#%% md\n"
    }
   },
   "source": [
    "**Versión 3**: Creamos el `Set` directamente, sin iterar."
   ]
  },
  {
   "cell_type": "code",
   "execution_count": 101,
   "metadata": {
    "pycharm": {
     "name": "#%%\n"
    }
   },
   "outputs": [
    {
     "name": "stdout",
     "output_type": "stream",
     "text": [
      "{'pablo', 'pedro', 'ana', 'javier'}\n"
     ]
    }
   ],
   "source": [
    "def findUnique(names):\n",
    "    uniqueNames = set(names)\n",
    "    return uniqueNames\n",
    "\n",
    "print(findUnique([\"pedro\", \"ana\", \"javier\", \"ana\", \"ana\", \"pablo\", \"pablo\"]))"
   ]
  },
  {
   "cell_type": "markdown",
   "metadata": {
    "pycharm": {
     "name": "#%% md\n"
    }
   },
   "source": [
    "Una última simplificación: como estamos creando la variable `uniqueNames` para devolverla justo en la línea siguiente, en este caso podemos hacerlo todo en la misma línea sin perder claridad:"
   ]
  },
  {
   "cell_type": "markdown",
   "metadata": {
    "pycharm": {
     "name": "#%% md\n"
    }
   },
   "source": [
    "**Versión 4**: Una única linea de código."
   ]
  },
  {
   "cell_type": "code",
   "execution_count": 102,
   "metadata": {
    "pycharm": {
     "name": "#%%\n"
    }
   },
   "outputs": [
    {
     "name": "stdout",
     "output_type": "stream",
     "text": [
      "{'pablo', 'pedro', 'ana', 'javier'}\n",
      "<class 'set'>\n"
     ]
    }
   ],
   "source": [
    "def findUnique(names):\n",
    "    return set(names)\n",
    "\n",
    "print(findUnique([\"pedro\", \"ana\", \"javier\", \"ana\", \"ana\", \"pablo\", \"pablo\"]))\n",
    "print (type(findUnique([\"pedro\", \"ana\", \"javier\", \"ana\", \"ana\", \"pablo\", \"pablo\"])))"
   ]
  },
  {
   "cell_type": "markdown",
   "metadata": {
    "pycharm": {
     "name": "#%% md\n"
    }
   },
   "source": [
    "Lo habitual en este tipo de funciones de _filtrado_ o _transformación_ es devolver el mismo tipo de dato que nos suministraron como entrada. \n",
    "\n",
    "En nuestro caso, partíamos de una `lista` pero estamos devolviendo un `Set`. \n",
    "\n",
    "Vamos a ajustarlo:"
   ]
  },
  {
   "cell_type": "markdown",
   "metadata": {
    "pycharm": {
     "name": "#%% md\n"
    }
   },
   "source": [
    "**Versión 5**: Devolvemos el mismo tipo de dato que el argumento."
   ]
  },
  {
   "cell_type": "code",
   "execution_count": 103,
   "metadata": {
    "pycharm": {
     "name": "#%%\n"
    }
   },
   "outputs": [
    {
     "name": "stdout",
     "output_type": "stream",
     "text": [
      "['pablo', 'pedro', 'ana', 'javier']\n",
      "<class 'list'>\n"
     ]
    }
   ],
   "source": [
    "# Note: this version returns an Array instead of a Set\n",
    "def findUnique(names):\n",
    "    return list(set(names))\n",
    "\n",
    "print(findUnique([\"pedro\", \"ana\", \"javier\", \"ana\", \"ana\", \"pablo\", \"pablo\"]))\n",
    "print (type(findUnique([\"pedro\", \"ana\", \"javier\", \"ana\", \"ana\", \"pablo\", \"pablo\"])))"
   ]
  },
  {
   "cell_type": "markdown",
   "metadata": {
    "pycharm": {
     "name": "#%% md\n"
    }
   },
   "source": [
    "**Importante**: observa cómo _siempre_ hemos partido de una versión que funciona (hemos hecho un _test_ que lo verifica), y después de cada modificación probamos que nuestro test sigue funcionando.\n",
    "\n",
    "Este mecanismo podemos generalizarlo e incluso podemos pensar en crear el test **antes** del código. Elaborar el test nos ayuda a pensar cómo tiene que funcionar el código, y nos permite tener una prueba sobre la que poder ir trabajando y verificar qué casos funcionan y cuáles no.\n",
    "\n",
    "Este método de trabajo se conoce como **test-driven-development**."
   ]
  },
  {
   "cell_type": "markdown",
   "metadata": {
    "pycharm": {
     "name": "#%% md\n"
    }
   },
   "source": [
    "### Ejercicio 2\n",
    "\n",
    "Implementa un contador.\n",
    "\n",
    "Escribe una función que acepte como parámetro de entrada una lista de `String`s, y devuelva como salida un diccionario cuyas claves serán los elementos (únicos) de la lista, y cuyos valores serán el número de veces que se repiten en la lista.\n",
    "\n",
    "Escribe el código necesario para comprobar que funciona correctamente.\n",
    "\n",
    "Utiliza nombres sensatos para la función y las variables que utilices."
   ]
  },
  {
   "cell_type": "markdown",
   "metadata": {
    "pycharm": {
     "name": "#%% md\n"
    }
   },
   "source": [
    "Empezamos con algo sencillo, aunque esté mal."
   ]
  },
  {
   "cell_type": "code",
   "execution_count": 104,
   "metadata": {
    "pycharm": {
     "name": "#%%\n"
    }
   },
   "outputs": [
    {
     "name": "stdout",
     "output_type": "stream",
     "text": [
      "{'pedro': 1, 'ana': 1, 'javier': 1, 'pablo': 1}\n"
     ]
    }
   ],
   "source": [
    "def countNames(names):\n",
    "    counter = dict()\n",
    "    for name in names: \n",
    "        counter[name] = 1\n",
    "    \n",
    "    return counter\n",
    "\n",
    "print(countNames([\"pedro\", \"ana\", \"javier\", \"ana\", \"ana\", \"pablo\", \"pablo\"]))"
   ]
  },
  {
   "cell_type": "markdown",
   "metadata": {
    "pycharm": {
     "name": "#%% md\n"
    }
   },
   "source": [
    "Ok, ahora sólo tenemos que sumar uno al valor que hubiera antes, si había alguno. Vamos a intentarlo:"
   ]
  },
  {
   "cell_type": "code",
   "execution_count": 105,
   "metadata": {
    "pycharm": {
     "name": "#%%\n"
    }
   },
   "outputs": [
    {
     "name": "stdout",
     "output_type": "stream",
     "text": [
      "{'pablo': 2, 'pedro': 1, 'ana': 3, 'javier': 1}\n"
     ]
    }
   ],
   "source": [
    "def countNames(names):\n",
    "    counter = dict()\n",
    "    uniqueNames = set(names)\n",
    "    for name in uniqueNames:\n",
    "        cuenta = 0\n",
    "        for comparador in names:\n",
    "            if name == comparador:\n",
    "                cuenta = cuenta + 1           \n",
    "        counter[name] = cuenta\n",
    "    return counter\n",
    "\n",
    "print(countNames([\"pedro\", \"ana\", \"javier\", \"ana\", \"ana\", \"pablo\", \"pablo\"]))"
   ]
  },
  {
   "cell_type": "code",
   "execution_count": 106,
   "metadata": {
    "pycharm": {
     "name": "#%%\n"
    }
   },
   "outputs": [
    {
     "ename": "KeyError",
     "evalue": "'pedro'",
     "output_type": "error",
     "traceback": [
      "\u001b[0;31m---------------------------------------------------------------------------\u001b[0m",
      "\u001b[0;31mKeyError\u001b[0m                                  Traceback (most recent call last)",
      "\u001b[0;32m/tmp/ipykernel_100774/1129899834.py\u001b[0m in \u001b[0;36m<module>\u001b[0;34m\u001b[0m\n\u001b[1;32m      5\u001b[0m     \u001b[0;32mreturn\u001b[0m \u001b[0mcounter\u001b[0m\u001b[0;34m\u001b[0m\u001b[0;34m\u001b[0m\u001b[0m\n\u001b[1;32m      6\u001b[0m \u001b[0;34m\u001b[0m\u001b[0m\n\u001b[0;32m----> 7\u001b[0;31m \u001b[0mprint\u001b[0m\u001b[0;34m(\u001b[0m\u001b[0mcountNames\u001b[0m\u001b[0;34m(\u001b[0m\u001b[0;34m[\u001b[0m\u001b[0;34m\"pedro\"\u001b[0m\u001b[0;34m,\u001b[0m \u001b[0;34m\"ana\"\u001b[0m\u001b[0;34m,\u001b[0m \u001b[0;34m\"javier\"\u001b[0m\u001b[0;34m,\u001b[0m \u001b[0;34m\"ana\"\u001b[0m\u001b[0;34m,\u001b[0m \u001b[0;34m\"ana\"\u001b[0m\u001b[0;34m,\u001b[0m \u001b[0;34m\"pablo\"\u001b[0m\u001b[0;34m,\u001b[0m \u001b[0;34m\"pablo\"\u001b[0m\u001b[0;34m]\u001b[0m\u001b[0;34m)\u001b[0m\u001b[0;34m)\u001b[0m\u001b[0;34m\u001b[0m\u001b[0;34m\u001b[0m\u001b[0m\n\u001b[0m",
      "\u001b[0;32m/tmp/ipykernel_100774/1129899834.py\u001b[0m in \u001b[0;36mcountNames\u001b[0;34m(names)\u001b[0m\n\u001b[1;32m      2\u001b[0m     \u001b[0mcounter\u001b[0m \u001b[0;34m=\u001b[0m \u001b[0mdict\u001b[0m\u001b[0;34m(\u001b[0m\u001b[0;34m)\u001b[0m\u001b[0;34m\u001b[0m\u001b[0;34m\u001b[0m\u001b[0m\n\u001b[1;32m      3\u001b[0m     \u001b[0;32mfor\u001b[0m \u001b[0mname\u001b[0m \u001b[0;32min\u001b[0m \u001b[0mnames\u001b[0m\u001b[0;34m:\u001b[0m\u001b[0;34m\u001b[0m\u001b[0;34m\u001b[0m\u001b[0m\n\u001b[0;32m----> 4\u001b[0;31m         \u001b[0mcounter\u001b[0m\u001b[0;34m[\u001b[0m\u001b[0mname\u001b[0m\u001b[0;34m]\u001b[0m \u001b[0;34m=\u001b[0m \u001b[0mcounter\u001b[0m\u001b[0;34m[\u001b[0m\u001b[0mname\u001b[0m\u001b[0;34m]\u001b[0m \u001b[0;34m+\u001b[0m \u001b[0;36m1\u001b[0m\u001b[0;34m\u001b[0m\u001b[0;34m\u001b[0m\u001b[0m\n\u001b[0m\u001b[1;32m      5\u001b[0m     \u001b[0;32mreturn\u001b[0m \u001b[0mcounter\u001b[0m\u001b[0;34m\u001b[0m\u001b[0;34m\u001b[0m\u001b[0m\n\u001b[1;32m      6\u001b[0m \u001b[0;34m\u001b[0m\u001b[0m\n",
      "\u001b[0;31mKeyError\u001b[0m: 'pedro'"
     ]
    }
   ],
   "source": [
    "def countNames(names):\n",
    "    counter = dict()\n",
    "    for name in names:\n",
    "        counter[name] = counter[name] + 1    \n",
    "    return counter\n",
    "\n",
    "print(countNames([\"pedro\", \"ana\", \"javier\", \"ana\", \"ana\", \"pablo\", \"pablo\"]))"
   ]
  },
  {
   "cell_type": "markdown",
   "metadata": {
    "pycharm": {
     "name": "#%% md\n"
    }
   },
   "source": [
    "No funciona.\n",
    "\n",
    "El problema, esencialmente, es que `counter[name]` **no tiene el valor 0** si la clave no se encuentra.\n",
    "\n",
    "El valor no está definido, y por lo tanto se producirá una excepción que veremos como tratar más adelante."
   ]
  },
  {
   "cell_type": "markdown",
   "metadata": {
    "pycharm": {
     "name": "#%% md\n"
    }
   },
   "source": [
    "Pero antes, usemos este conocimiento para terminar el ejercicio. Vamos a modificar la función para tener en cuenta si existe o no el nombre."
   ]
  },
  {
   "cell_type": "code",
   "execution_count": 107,
   "metadata": {
    "pycharm": {
     "name": "#%%\n"
    }
   },
   "outputs": [
    {
     "name": "stdout",
     "output_type": "stream",
     "text": [
      "{'pedro': 1, 'ana': 3, 'javier': 1, 'pablo': 2}\n"
     ]
    }
   ],
   "source": [
    "def countNames(names):\n",
    "    counter = dict()\n",
    "    for name in names :        \n",
    "        if name in counter.keys():             \n",
    "            counter[name] = counter[name] + 1\n",
    "        else:\n",
    "            counter[name] = 1\n",
    "       \n",
    "    return counter\n",
    "\n",
    "print(countNames([\"pedro\", \"ana\", \"javier\", \"ana\", \"ana\", \"pablo\", \"pablo\"]))"
   ]
  },
  {
   "cell_type": "markdown",
   "metadata": {
    "pycharm": {
     "name": "#%% md\n"
    }
   },
   "source": [
    "-----"
   ]
  },
  {
   "cell_type": "markdown",
   "metadata": {
    "pycharm": {
     "name": "#%% md\n"
    }
   },
   "source": [
    "## Control de flujo, bucles, rangos"
   ]
  },
  {
   "cell_type": "markdown",
   "metadata": {
    "pycharm": {
     "name": "#%% md\n"
    }
   },
   "source": [
    "### `if`, `for ... in`"
   ]
  },
  {
   "cell_type": "markdown",
   "metadata": {
    "pycharm": {
     "name": "#%% md\n"
    }
   },
   "source": [
    "Ya los hemos visto en ejemplos anteriores."
   ]
  },
  {
   "cell_type": "markdown",
   "metadata": {
    "pycharm": {
     "name": "#%% md\n"
    }
   },
   "source": [
    "### `while`"
   ]
  },
  {
   "cell_type": "code",
   "execution_count": 108,
   "metadata": {
    "pycharm": {
     "name": "#%%\n"
    }
   },
   "outputs": [
    {
     "name": "stdout",
     "output_type": "stream",
     "text": [
      "El cuadrado de 1 es 1\n",
      "El cuadrado de 2 es 4\n",
      "El cuadrado de 3 es 9\n",
      "El cuadrado de 4 es 16\n",
      "El cuadrado de 5 es 25\n",
      "El cuadrado de 6 es 36\n",
      "El cuadrado de 7 es 49\n",
      "El cuadrado de 8 es 64\n",
      "El cuadrado de 9 es 81\n"
     ]
    }
   ],
   "source": [
    "n = 1\n",
    "while n < 10:\n",
    "    print(f\"El cuadrado de {n} es {n * n}\")\n",
    "    n = n + 1"
   ]
  },
  {
   "cell_type": "markdown",
   "metadata": {
    "pycharm": {
     "name": "#%% md\n"
    }
   },
   "source": [
    "### `repeat ... until`"
   ]
  },
  {
   "cell_type": "markdown",
   "metadata": {
    "pycharm": {
     "name": "#%% md\n"
    }
   },
   "source": [
    "En otros lenguajes de programación existe el bucle **repeat .. until**. Ejemplo en pascal: "
   ]
  },
  {
   "cell_type": "markdown",
   "metadata": {
    "pycharm": {
     "name": "#%% md\n"
    }
   },
   "source": [
    "```pascal\n",
    "n := 1;\n",
    "repeat    \n",
    "    writeln (\"El cuadrado de\", n, \" es\",n*n);\n",
    "    n := n + 1;\n",
    "until n < 10;\n",
    "```"
   ]
  },
  {
   "cell_type": "markdown",
   "metadata": {
    "pycharm": {
     "name": "#%% md\n"
    }
   },
   "source": [
    "En Python esta estructura se cambia por un bucle infinito con una condición de parada dentro: "
   ]
  },
  {
   "cell_type": "code",
   "execution_count": 109,
   "metadata": {
    "pycharm": {
     "name": "#%%\n"
    }
   },
   "outputs": [
    {
     "name": "stdout",
     "output_type": "stream",
     "text": [
      "El cuadrado de 1 es 1\n",
      "El cuadrado de 2 es 4\n",
      "El cuadrado de 3 es 9\n",
      "El cuadrado de 4 es 16\n",
      "El cuadrado de 5 es 25\n",
      "El cuadrado de 6 es 36\n",
      "El cuadrado de 7 es 49\n",
      "El cuadrado de 8 es 64\n",
      "El cuadrado de 9 es 81\n"
     ]
    }
   ],
   "source": [
    "n = 1\n",
    "while True:\n",
    "    print(f\"El cuadrado de {n} es {n * n}\")\n",
    "    n = n + 1\n",
    "    if n == 10:\n",
    "        break"
   ]
  },
  {
   "cell_type": "markdown",
   "metadata": {
    "pycharm": {
     "name": "#%% md\n"
    }
   },
   "source": [
    "### Rangos"
   ]
  },
  {
   "cell_type": "markdown",
   "metadata": {
    "pycharm": {
     "name": "#%% md\n"
    }
   },
   "source": [
    "Para este tipo de bucles, en Python es muy frecuente utilizar **rangos**:"
   ]
  },
  {
   "cell_type": "markdown",
   "metadata": {
    "pycharm": {
     "name": "#%% md\n"
    }
   },
   "source": [
    "Obsérvese que el código es mucho más conciso, y mucho más claro. \n",
    "\n",
    "No necesitamos actualizar la variable de iteración `n`."
   ]
  },
  {
   "cell_type": "markdown",
   "metadata": {
    "pycharm": {
     "name": "#%% md\n"
    }
   },
   "source": [
    "Los rangos definidos entre 0 (si range sólo lleva un número) o un valor menor y uno mayor."
   ]
  },
  {
   "cell_type": "code",
   "execution_count": 110,
   "metadata": {
    "pycharm": {
     "name": "#%%\n"
    }
   },
   "outputs": [
    {
     "name": "stdout",
     "output_type": "stream",
     "text": [
      "El cuadrado de 1 es 1\n",
      "El cuadrado de 2 es 4\n",
      "El cuadrado de 3 es 9\n",
      "El cuadrado de 4 es 16\n",
      "El cuadrado de 5 es 25\n",
      "El cuadrado de 6 es 36\n",
      "El cuadrado de 7 es 49\n",
      "El cuadrado de 8 es 64\n",
      "El cuadrado de 9 es 81\n",
      "El cuadrado de 10 es 100\n"
     ]
    }
   ],
   "source": [
    "for n in range(1,11):\n",
    "    print(f\"El cuadrado de {n} es {n * n}\")"
   ]
  },
  {
   "cell_type": "markdown",
   "metadata": {
    "pycharm": {
     "name": "#%% md\n"
    }
   },
   "source": [
    " También se puede definir un valor de salto entre los extremos. Imaginemos que śolo queremos sacar el cuadrado de los valores pares: "
   ]
  },
  {
   "cell_type": "code",
   "execution_count": 111,
   "metadata": {
    "pycharm": {
     "name": "#%%\n"
    }
   },
   "outputs": [
    {
     "name": "stdout",
     "output_type": "stream",
     "text": [
      "El cuadrado de 0 es 0\n",
      "El cuadrado de 2 es 4\n",
      "El cuadrado de 4 es 16\n",
      "El cuadrado de 6 es 36\n",
      "El cuadrado de 8 es 64\n",
      "El cuadrado de 10 es 100\n"
     ]
    }
   ],
   "source": [
    "for n in range(0,11,2):\n",
    "    print(f\"El cuadrado de {n} es {n * n}\")"
   ]
  },
  {
   "cell_type": "markdown",
   "metadata": {
    "pycharm": {
     "name": "#%% md\n"
    }
   },
   "source": [
    "-----"
   ]
  },
  {
   "cell_type": "markdown",
   "metadata": {
    "pycharm": {
     "name": "#%% md\n"
    }
   },
   "source": [
    "## Filtros y transformaciones funcionales"
   ]
  },
  {
   "cell_type": "markdown",
   "metadata": {
    "pycharm": {
     "name": "#%% md\n"
    }
   },
   "source": [
    "En lugar de utilizar bucles, muchas veces podemos aplicar funciones de transformación para actuar sobre los elementos de una colección. \n",
    "\n",
    "Estas funciones aceptan como argumento otras funciones, que son las que aplicamos a cada elemento de la colección.\n",
    "\n",
    "El código que se genera es muy conciso y, además, muy eficiente.\n",
    "\n",
    "Veámoslo con ejemplos."
   ]
  },
  {
   "cell_type": "markdown",
   "metadata": {
    "pycharm": {
     "name": "#%% md\n"
    }
   },
   "source": [
    "### `map`"
   ]
  },
  {
   "cell_type": "markdown",
   "metadata": {
    "pycharm": {
     "name": "#%% md\n"
    }
   },
   "source": [
    "Versión iterativa:"
   ]
  },
  {
   "cell_type": "code",
   "execution_count": 112,
   "metadata": {
    "pycharm": {
     "name": "#%%\n"
    }
   },
   "outputs": [
    {
     "name": "stdout",
     "output_type": "stream",
     "text": [
      "[1, 4, 9, 16, 25, 36, 49, 64, 81]\n"
     ]
    }
   ],
   "source": [
    "# Obtiene los cuadrados de los 10 primeros números naturales\n",
    "squares = list()\n",
    "for n in range(1,10):\n",
    "    squares.append(n * n)\n",
    "print(squares)"
   ]
  },
  {
   "cell_type": "markdown",
   "metadata": {
    "pycharm": {
     "name": "#%% md\n"
    }
   },
   "source": [
    "Versión funcional:"
   ]
  },
  {
   "cell_type": "code",
   "execution_count": 113,
   "metadata": {
    "pycharm": {
     "name": "#%%\n"
    }
   },
   "outputs": [
    {
     "name": "stdout",
     "output_type": "stream",
     "text": [
      "[1, 4, 9, 16, 25, 36, 49, 64, 81]\n"
     ]
    }
   ],
   "source": [
    "squares = list (map(lambda n: n*n, range (1,10)))\n",
    "print(squares)"
   ]
  },
  {
   "cell_type": "markdown",
   "metadata": {
    "pycharm": {
     "name": "#%% md\n"
    }
   },
   "source": [
    "**`map`** es una _función_ que recibe como argumento _otra función_, que aplica a cada uno de los elementos de la secuencia, y devuelve en un tipo `map` el resultado. \n",
    "\n",
    "Es por esto que es necesario la transformación del resultado en una `list`. \n",
    "\n",
    "Es decir `map` transforma de manera arbitraria los elementos con la función que le proporcionamos."
   ]
  },
  {
   "cell_type": "code",
   "execution_count": 114,
   "metadata": {
    "pycharm": {
     "name": "#%%\n"
    }
   },
   "outputs": [
    {
     "name": "stdout",
     "output_type": "stream",
     "text": [
      "<class 'map'>\n"
     ]
    }
   ],
   "source": [
    "squares = type (map(lambda n: n*n, range (1,10)))\n",
    "print(squares)"
   ]
  },
  {
   "cell_type": "markdown",
   "metadata": {
    "pycharm": {
     "name": "#%% md\n"
    }
   },
   "source": [
    "Si proporcionamos la función sobre la marcha, lo hacemos con llaves como en este ejemplo. \n",
    "\n",
    "Pero también podemos poner el nombre de cualquier función existente. \n",
    "\n",
    "Podríamos haber hecho lo mismo apoyándonos en una función, de la siguiente manera:"
   ]
  },
  {
   "cell_type": "code",
   "execution_count": 115,
   "metadata": {
    "pycharm": {
     "name": "#%%\n"
    }
   },
   "outputs": [
    {
     "name": "stdout",
     "output_type": "stream",
     "text": [
      "[1, 4, 9, 16, 25, 36, 49, 64, 81]\n"
     ]
    }
   ],
   "source": [
    "def square(x):\n",
    "    return x * x\n",
    "\n",
    "squares = list(map (lambda x: square(x), range(1,10)))\n",
    "print(squares)"
   ]
  },
  {
   "cell_type": "markdown",
   "metadata": {
    "pycharm": {
     "name": "#%% md\n"
    }
   },
   "source": [
    "En este otro ejemplo podríamos obtener el valor absoluto de los elementos de un array:"
   ]
  },
  {
   "cell_type": "code",
   "execution_count": 116,
   "metadata": {
    "pycharm": {
     "name": "#%%\n"
    }
   },
   "outputs": [
    {
     "name": "stdout",
     "output_type": "stream",
     "text": [
      "[5, 3, 2, 0, 9, 7, 1]\n"
     ]
    }
   ],
   "source": [
    "absoluteValues = list(map(lambda x: abs(x),[-5, 3, -2, 0, 9, -7, 1]))\n",
    "print(absoluteValues)"
   ]
  },
  {
   "cell_type": "markdown",
   "metadata": {
    "pycharm": {
     "name": "#%% md\n"
    }
   },
   "source": [
    "En el primer caso, la función ha sido desarrollada por nosotros y realiza un cálculo muy específico. \n",
    "\n",
    "En el segundo caso, utilizamos una función definida por el sistema. "
   ]
  },
  {
   "cell_type": "markdown",
   "metadata": {
    "pycharm": {
     "name": "#%% md\n"
    }
   },
   "source": [
    "`map` y el resto de funciones de este apartado pueden utilizarse sobre listas, rangos y otras _secuencias_."
   ]
  },
  {
   "cell_type": "markdown",
   "metadata": {
    "pycharm": {
     "name": "#%% md\n"
    }
   },
   "source": [
    "### Ejercicio F1\n",
    "\n",
    "`count` es una propiedad de `String` que devuelve el número de caracteres de la cadena. \n",
    "\n",
    "Por ejemplo, `\"hola\".count` devolvería el valor 4.\n",
    "\n",
    "Escribe una función que, dado un array de cadenas, devuelva otro array de enteros con las longitudes de esas cadenas. \n",
    "\n",
    "Es decir, dada la entrada `[\"pedro\", \"pablo\", \"javier\"]`, devolvería el array `[5, 5, 6]`.\n",
    "\n",
    "Intenta resolver el problema con una aproximación funcional.\n",
    "\n",
    "Como siempre, utiliza nombres sensatos y descriptivos para la función y para todas las variables que utilices."
   ]
  },
  {
   "cell_type": "code",
   "execution_count": 117,
   "metadata": {
    "pycharm": {
     "name": "#%%\n"
    }
   },
   "outputs": [],
   "source": [
    "def stringCounts(names):\n",
    "    result = list()\n",
    "    for name in names:\n",
    "        result.append(len(name))\n",
    "\n",
    "    return result\n"
   ]
  },
  {
   "cell_type": "code",
   "execution_count": 118,
   "metadata": {
    "pycharm": {
     "name": "#%%\n"
    },
    "scrolled": true
   },
   "outputs": [
    {
     "name": "stdout",
     "output_type": "stream",
     "text": [
      "[5, 5, 6]\n"
     ]
    }
   ],
   "source": [
    "print(stringCounts([\"pedro\", \"pablo\", \"javier\"]))"
   ]
  },
  {
   "cell_type": "code",
   "execution_count": 119,
   "metadata": {},
   "outputs": [
    {
     "name": "stdout",
     "output_type": "stream",
     "text": [
      "<class 'list'>\n"
     ]
    }
   ],
   "source": [
    "print(type(stringCounts([\"pedro\", \"pablo\", \"javier\"])))"
   ]
  },
  {
   "cell_type": "code",
   "execution_count": 120,
   "metadata": {
    "pycharm": {
     "name": "#%%\n"
    }
   },
   "outputs": [],
   "source": [
    "def stringCounts_f(names):\n",
    "    return list(map(lambda x: len(x), names)) "
   ]
  },
  {
   "cell_type": "code",
   "execution_count": 121,
   "metadata": {
    "pycharm": {
     "name": "#%%\n"
    }
   },
   "outputs": [
    {
     "name": "stdout",
     "output_type": "stream",
     "text": [
      "[5, 5, 6]\n"
     ]
    }
   ],
   "source": [
    "print(stringCounts_f([\"pedro\", \"pablo\", \"javier\"]))"
   ]
  },
  {
   "cell_type": "code",
   "execution_count": 122,
   "metadata": {},
   "outputs": [
    {
     "name": "stdout",
     "output_type": "stream",
     "text": [
      "<class 'list'>\n"
     ]
    }
   ],
   "source": [
    "print(type(stringCounts([\"pedro\", \"pablo\", \"javier\"])))"
   ]
  },
  {
   "cell_type": "markdown",
   "metadata": {
    "pycharm": {
     "name": "#%% md\n"
    }
   },
   "source": [
    "### Ejercicio F2\n",
    "\n",
    "Escribe una función, usando `map`, para convertir un array de enteros en un array de cadenas que representen los mismos numeros."
   ]
  },
  {
   "cell_type": "code",
   "execution_count": 123,
   "metadata": {
    "pycharm": {
     "name": "#%%\n"
    }
   },
   "outputs": [],
   "source": [
    "def stringCounts_f(names):\n",
    "    return list(map(lambda x: len(x), names)) "
   ]
  },
  {
   "cell_type": "code",
   "execution_count": 124,
   "metadata": {
    "pycharm": {
     "name": "#%%\n"
    }
   },
   "outputs": [],
   "source": [
    "def numbersToStrings1(numbers):\n",
    "    return list(map (lambda x: str(x),numbers))"
   ]
  },
  {
   "cell_type": "code",
   "execution_count": 125,
   "metadata": {
    "pycharm": {
     "name": "#%%\n"
    }
   },
   "outputs": [],
   "source": [
    "def stringCounts(names):\n",
    "    result = list()\n",
    "    for name in names:\n",
    "        result.append(len(name))\n",
    "    \n",
    "    return result\n"
   ]
  },
  {
   "cell_type": "code",
   "execution_count": 126,
   "metadata": {
    "pycharm": {
     "name": "#%%\n"
    }
   },
   "outputs": [],
   "source": [
    "def numbersToStrings(numbers):\n",
    "    result = []\n",
    "    for number in numbers:\n",
    "        result.append(str(number))\n",
    "    \n",
    "    return result\n"
   ]
  },
  {
   "cell_type": "code",
   "execution_count": 127,
   "metadata": {
    "pycharm": {
     "name": "#%%\n"
    }
   },
   "outputs": [
    {
     "name": "stdout",
     "output_type": "stream",
     "text": [
      "['1', '-7', '0', '55']\n"
     ]
    }
   ],
   "source": [
    "print(numbersToStrings([1, -7, 0, 55]))"
   ]
  },
  {
   "cell_type": "code",
   "execution_count": 128,
   "metadata": {},
   "outputs": [
    {
     "name": "stdout",
     "output_type": "stream",
     "text": [
      "[1, 2, 1, 2]\n"
     ]
    }
   ],
   "source": [
    "print(stringCounts(numbersToStrings([1, -7, 0, 55])))"
   ]
  },
  {
   "cell_type": "markdown",
   "metadata": {
    "pycharm": {
     "name": "#%% md\n"
    }
   },
   "source": [
    "### `filter`"
   ]
  },
  {
   "cell_type": "markdown",
   "metadata": {
    "pycharm": {
     "name": "#%% md\n"
    }
   },
   "source": [
    "La función `filter` _filtra_ o selecciona los elementos de una secuencia que cumplen una condición. \n",
    "\n",
    "Para ello, hay que pasarle como argumento una función que devuelve `true` si el elemento debe incluirse en el resultado, o `false` en caso contrario."
   ]
  },
  {
   "cell_type": "markdown",
   "metadata": {
    "pycharm": {
     "name": "#%% md\n"
    }
   },
   "source": [
    "Ejemplo: seleccionamos de una secuencia los números pares. \n",
    "\n",
    "El operador `%` calcula el módulo (~resto) de la división entera: el número es par si el resto de dividir entre `2` es `0`."
   ]
  },
  {
   "cell_type": "code",
   "execution_count": 129,
   "metadata": {
    "pycharm": {
     "name": "#%%\n"
    }
   },
   "outputs": [
    {
     "name": "stdout",
     "output_type": "stream",
     "text": [
      "1\n"
     ]
    }
   ],
   "source": [
    "print(5 % 2)"
   ]
  },
  {
   "cell_type": "code",
   "execution_count": 130,
   "metadata": {
    "pycharm": {
     "name": "#%%\n"
    }
   },
   "outputs": [
    {
     "name": "stdout",
     "output_type": "stream",
     "text": [
      "0\n"
     ]
    }
   ],
   "source": [
    "print(4 % 2)"
   ]
  },
  {
   "cell_type": "code",
   "execution_count": 131,
   "metadata": {
    "pycharm": {
     "name": "#%%\n"
    }
   },
   "outputs": [
    {
     "name": "stdout",
     "output_type": "stream",
     "text": [
      "[0, 2, 4, 6, 8, 10]\n",
      "[0, 1, 0, 1, 0, 1, 0, 1, 0, 1, 0]\n"
     ]
    }
   ],
   "source": [
    "print(list(filter(lambda x: x % 2 == 0, range(11))))\n",
    "print(list(map(lambda x: x % 2, range(11))))"
   ]
  },
  {
   "cell_type": "markdown",
   "metadata": {
    "pycharm": {
     "name": "#%% md\n"
    }
   },
   "source": [
    "### Ejercicio F3\n",
    "\n",
    "Escribe una función que obtenga los números cuadrados pares de los primeros N números positivos. \n",
    "\n",
    "Para N = 10, el resultado debe ser `[4, 16, 36, 64, 100]`."
   ]
  },
  {
   "cell_type": "code",
   "execution_count": 132,
   "metadata": {
    "pycharm": {
     "name": "#%%\n"
    }
   },
   "outputs": [],
   "source": [
    "# Escribe aquí tu código\n",
    "def evenSquares(array: list):\n",
    "    return list(filter(lambda x: x % 2 == 0 , map(lambda x: x*x , array)))\n"
   ]
  },
  {
   "cell_type": "code",
   "execution_count": 133,
   "metadata": {},
   "outputs": [
    {
     "ename": "NameError",
     "evalue": "name 'cuadrados' is not defined",
     "output_type": "error",
     "traceback": [
      "\u001b[0;31m---------------------------------------------------------------------------\u001b[0m",
      "\u001b[0;31mNameError\u001b[0m                                 Traceback (most recent call last)",
      "\u001b[0;32m/tmp/ipykernel_100774/1819743686.py\u001b[0m in \u001b[0;36m<module>\u001b[0;34m\u001b[0m\n\u001b[0;32m----> 1\u001b[0;31m \u001b[0mprint\u001b[0m\u001b[0;34m(\u001b[0m\u001b[0mcuadrados\u001b[0m\u001b[0;34m(\u001b[0m\u001b[0;36m5\u001b[0m\u001b[0;34m)\u001b[0m\u001b[0;34m)\u001b[0m\u001b[0;34m\u001b[0m\u001b[0;34m\u001b[0m\u001b[0m\n\u001b[0m\u001b[1;32m      2\u001b[0m \u001b[0mprint\u001b[0m\u001b[0;34m(\u001b[0m\u001b[0mevenSquares\u001b[0m\u001b[0;34m(\u001b[0m\u001b[0mrange\u001b[0m \u001b[0;34m(\u001b[0m\u001b[0;36m1\u001b[0m\u001b[0;34m,\u001b[0m\u001b[0;36m10\u001b[0m\u001b[0;34m)\u001b[0m\u001b[0;34m)\u001b[0m\u001b[0;34m)\u001b[0m \u001b[0;31m# [4, 16, 36, 64]\u001b[0m\u001b[0;34m\u001b[0m\u001b[0;34m\u001b[0m\u001b[0m\n",
      "\u001b[0;31mNameError\u001b[0m: name 'cuadrados' is not defined"
     ]
    }
   ],
   "source": [
    "print(cuadrados(5))\n",
    "print(evenSquares(range (1,10))) # [4, 16, 36, 64]"
   ]
  },
  {
   "cell_type": "markdown",
   "metadata": {
    "pycharm": {
     "name": "#%% md\n"
    }
   },
   "source": [
    "### `reduce`"
   ]
  },
  {
   "cell_type": "markdown",
   "metadata": {
    "pycharm": {
     "name": "#%% md\n"
    }
   },
   "source": [
    "Esta función transforma una secuencia en un único elemento. Veamos un ejemplo que suma los 10 primeros números naturales:"
   ]
  },
  {
   "cell_type": "code",
   "execution_count": 134,
   "metadata": {
    "pycharm": {
     "name": "#%%\n"
    }
   },
   "outputs": [
    {
     "name": "stdout",
     "output_type": "stream",
     "text": [
      "55\n"
     ]
    }
   ],
   "source": [
    "from functools import reduce\n",
    "print(reduce ((lambda x, y: x+y),range(1,11)))"
   ]
  },
  {
   "cell_type": "markdown",
   "metadata": {
    "pycharm": {
     "name": "#%% md\n"
    }
   },
   "source": [
    "`reduce` acepta dos argumentos:\n",
    "* Una función que debe tener dos parámetros y será llamada por `reduce` de forma acumulativa (preservando el resultado de las llamadas anteriores).\n",
    "* Un conjunto de valores."
   ]
  },
  {
   "cell_type": "markdown",
   "metadata": {
    "pycharm": {
     "name": "#%% md\n"
    }
   },
   "source": [
    "¿Cómo se haría lo mismo de forma iterativa, utilizando un bucle?"
   ]
  },
  {
   "cell_type": "code",
   "execution_count": 135,
   "metadata": {
    "pycharm": {
     "name": "#%%\n"
    }
   },
   "outputs": [
    {
     "name": "stdout",
     "output_type": "stream",
     "text": [
      "55\n"
     ]
    }
   ],
   "source": [
    "total = 0\n",
    "for n in range(1,11):\n",
    "    total = total + n\n",
    "\n",
    "print(total)"
   ]
  },
  {
   "cell_type": "markdown",
   "metadata": {
    "pycharm": {
     "name": "#%% md\n"
    }
   },
   "source": [
    "Todas estas funciones también se pueden aplicar a **diccionarios**, no sólo a listas o rangos."
   ]
  },
  {
   "cell_type": "markdown",
   "metadata": {
    "pycharm": {
     "name": "#%% md\n"
    }
   },
   "source": [
    "A continuación vemos un ejemplo en el que aplicamos `reduce` a un diccionario para calcular una suma total."
   ]
  },
  {
   "cell_type": "code",
   "execution_count": 136,
   "metadata": {
    "pycharm": {
     "name": "#%%\n"
    }
   },
   "outputs": [],
   "source": [
    "miCompra = {\n",
    "    \"Cebollas\": 1.5,\n",
    "    \"Patatas\": 5,\n",
    "    \"Huevos\": 3,\n",
    "    \"Pollo\": 8,\n",
    "    \"Garbanzos\": 4,\n",
    "    \"Detergente\": 8.5\n",
    "}"
   ]
  },
  {
   "cell_type": "code",
   "execution_count": 137,
   "metadata": {
    "pycharm": {
     "name": "#%%\n"
    }
   },
   "outputs": [
    {
     "name": "stdout",
     "output_type": "stream",
     "text": [
      "<class 'dict'>\n"
     ]
    }
   ],
   "source": [
    "print(type(miCompra))"
   ]
  },
  {
   "cell_type": "code",
   "execution_count": 138,
   "metadata": {
    "pycharm": {
     "name": "#%%\n"
    }
   },
   "outputs": [],
   "source": [
    "from functools import reduce\n",
    "def compraReduce(coste, item):\n",
    "    key, precio = item\n",
    "    return precio + coste\n",
    "    \n",
    "total = reduce(compraReduce, miCompra.items(), 0.0)"
   ]
  },
  {
   "cell_type": "code",
   "execution_count": 139,
   "metadata": {
    "pycharm": {
     "name": "#%%\n"
    }
   },
   "outputs": [
    {
     "name": "stdout",
     "output_type": "stream",
     "text": [
      "30.0\n"
     ]
    }
   ],
   "source": [
    "print(total)"
   ]
  },
  {
   "cell_type": "markdown",
   "metadata": {
    "pycharm": {
     "name": "#%% md\n"
    }
   },
   "source": [
    "En este caso, para iterar el diccionario necesitamos una función creada que permita analizar cada item del diccionario y sumarlo al coste total que se va iterando. "
   ]
  },
  {
   "cell_type": "markdown",
   "metadata": {
    "pycharm": {
     "name": "#%% md\n"
    }
   },
   "source": [
    "### Ejercicio F4\n",
    "\n",
    "Calcula la suma de los cuadrados de los numeros pares que contiene una lista de enteros. \n",
    "\n",
    "Debes combinar `map`, `filter` y `reduce` adecuadamente para conseguirlo."
   ]
  },
  {
   "cell_type": "code",
   "execution_count": 140,
   "metadata": {
    "pycharm": {
     "name": "#%%\n"
    }
   },
   "outputs": [],
   "source": [
    "# Escribe aquí tu código\n",
    "from functools import reduce\n",
    "def evenSquaresSum(array: list):\n",
    "    variable = list(filter(lambda x: x % 2 == 0 , map(lambda x: x*x , array)))\n",
    "    print(variable)\n",
    "    return reduce(lambda x, y: x+y, filter(lambda x: x % 2 == 0 , map(lambda x: x*x, array)))\n",
    "\n"
   ]
  },
  {
   "cell_type": "code",
   "execution_count": 141,
   "metadata": {},
   "outputs": [
    {
     "name": "stdout",
     "output_type": "stream",
     "text": [
      "[4, 16, 36, 64]\n",
      "120\n"
     ]
    }
   ],
   "source": [
    "print(evenSquaresSum(range (1,10))) # 120\n"
   ]
  },
  {
   "cell_type": "markdown",
   "metadata": {
    "pycharm": {
     "name": "#%% md\n"
    }
   },
   "source": [
    "-----"
   ]
  },
  {
   "cell_type": "markdown",
   "metadata": {
    "pycharm": {
     "name": "#%% md\n"
    }
   },
   "source": [
    "### Ejercicio F5\n",
    "\n",
    "Crea una función que devuelva en un array los N primeros números de Fibonacci. \n",
    "\n",
    "Los números de Fibonacci son una secuencia definida como:\n",
    "\n",
    "* El primer elemento es 0 y el segundo el 1.\n",
    "* Cada número (a partir del tercero) es el resultado de sumar los dos anteriores.\n",
    "\n",
    "Es decir, si la función se llama `fibonacci`, el resultado de ejecutar la función de este modo:\n",
    "\n",
    "```python\n",
    "print(fibonacci(10))\n",
    "```\n",
    "\n",
    "Sería:\n",
    "```\n",
    "[0, 1, 1, 2, 3, 5, 8, 13, 21, 34]\n",
    "```\n",
    "\n",
    "Prueba a implementar el código tanto de manera iterativa como _recursivamente_."
   ]
  },
  {
   "cell_type": "markdown",
   "metadata": {
    "pycharm": {
     "name": "#%% md\n"
    }
   },
   "source": [
    "**Implementación iterativa**"
   ]
  },
  {
   "cell_type": "code",
   "execution_count": 142,
   "metadata": {
    "pycharm": {
     "name": "#%%\n"
    }
   },
   "outputs": [],
   "source": [
    "def fibonacci(count):\n",
    "    if count == 0:\n",
    "        return [0]\n",
    "    if count == 1:\n",
    "        return [0]\n",
    "    \n",
    "    a = 0\n",
    "    b = 1\n",
    "    fibs = [a, b]\n",
    "    for i in range (2,count):\n",
    "        print(i)\n",
    "        currentFibonacciNumber = a + b\n",
    "        a = b\n",
    "        b = currentFibonacciNumber\n",
    "        fibs.append(currentFibonacciNumber)  \n",
    "        print(fibs)\n",
    "    return fibs"
   ]
  },
  {
   "cell_type": "code",
   "execution_count": 143,
   "metadata": {
    "pycharm": {
     "name": "#%%\n"
    },
    "scrolled": true
   },
   "outputs": [
    {
     "name": "stdout",
     "output_type": "stream",
     "text": [
      "2\n",
      "[0, 1, 1]\n",
      "3\n",
      "[0, 1, 1, 2]\n",
      "4\n",
      "[0, 1, 1, 2, 3]\n",
      "5\n",
      "[0, 1, 1, 2, 3, 5]\n",
      "6\n",
      "[0, 1, 1, 2, 3, 5, 8]\n",
      "7\n",
      "[0, 1, 1, 2, 3, 5, 8, 13]\n",
      "8\n",
      "[0, 1, 1, 2, 3, 5, 8, 13, 21]\n",
      "9\n",
      "[0, 1, 1, 2, 3, 5, 8, 13, 21, 34]\n",
      "[0, 1, 1, 2, 3, 5, 8, 13, 21, 34]\n"
     ]
    }
   ],
   "source": [
    "print(fibonacci(10))"
   ]
  },
  {
   "cell_type": "markdown",
   "metadata": {
    "pycharm": {
     "name": "#%% md\n"
    }
   },
   "source": [
    "**Implementación recursiva y funcional**"
   ]
  },
  {
   "cell_type": "code",
   "execution_count": 144,
   "metadata": {
    "pycharm": {
     "name": "#%%\n"
    }
   },
   "outputs": [],
   "source": [
    "def fibonacci_number(position): \n",
    "    if position == 0:\n",
    "        return 0\n",
    "    if position == 1:\n",
    "        return 1 \n",
    "    \n",
    "    return fibonacci_number(position-1) + fibonacci_number(position-2)\n"
   ]
  },
  {
   "cell_type": "code",
   "execution_count": 145,
   "metadata": {
    "pycharm": {
     "name": "#%%\n"
    }
   },
   "outputs": [
    {
     "name": "stdout",
     "output_type": "stream",
     "text": [
      "34\n"
     ]
    }
   ],
   "source": [
    "print(fibonacci_number(9))"
   ]
  },
  {
   "cell_type": "code",
   "execution_count": 146,
   "metadata": {
    "pycharm": {
     "name": "#%%\n"
    }
   },
   "outputs": [],
   "source": [
    "def fibonacci2(count):\n",
    "    return list(map( fibonacci_number, range(count)))"
   ]
  },
  {
   "cell_type": "code",
   "execution_count": 147,
   "metadata": {
    "pycharm": {
     "name": "#%%\n"
    },
    "scrolled": true
   },
   "outputs": [
    {
     "name": "stdout",
     "output_type": "stream",
     "text": [
      "[0, 1, 1, 2, 3, 5, 8, 13, 21, 34]\n"
     ]
    }
   ],
   "source": [
    "print(fibonacci2(10))"
   ]
  },
  {
   "cell_type": "markdown",
   "metadata": {
    "pycharm": {
     "name": "#%% md\n"
    }
   },
   "source": [
    "### Recursividad"
   ]
  },
  {
   "cell_type": "markdown",
   "metadata": {
    "pycharm": {
     "name": "#%% md\n"
    }
   },
   "source": [
    "Ya hemos visto que una funcion recursiva puede llamarse a si misma. \n",
    "\n",
    "Este proceso seguiria hasta el infinito, a menos que existan condiciones de salida para terminar.\n",
    "\n",
    "Este mecanismo es especialmente indicado para calcular valores cuya definicion es tambien recursiva. \n",
    "\n",
    "Por ejemplo, el factorial de `n` es `n` multiplicado por el factorial de `n-1`."
   ]
  },
  {
   "cell_type": "markdown",
   "metadata": {
    "pycharm": {
     "name": "#%% md\n"
    }
   },
   "source": [
    "### Ejercicio R1\n",
    "\n",
    "Escribe una funcion recursiva para calcular el factorial de un numero entero. Sabemos que:\n",
    "* El factorial de `1` es `1`.\n",
    "* El factorial de `n` es el factorial de `n-1`."
   ]
  },
  {
   "cell_type": "code",
   "execution_count": 148,
   "metadata": {
    "pycharm": {
     "name": "#%%\n"
    }
   },
   "outputs": [],
   "source": [
    "# Escribe aquí tu código\n",
    "def fact (n):\n",
    "    #condición de salida\n",
    "    if n <= 1:\n",
    "        return 1\n",
    "    #función recursiva\n",
    "    return n * fact(n -1)"
   ]
  },
  {
   "cell_type": "code",
   "execution_count": 149,
   "metadata": {
    "pycharm": {
     "name": "#%%\n"
    }
   },
   "outputs": [
    {
     "name": "stdout",
     "output_type": "stream",
     "text": [
      "1\n",
      "1\n",
      "2\n",
      "6\n",
      "24\n",
      "120\n"
     ]
    }
   ],
   "source": [
    "print(fact(0)) # 1\n",
    "print(fact(1)) # 1\n",
    "print(fact(2)) # 2\n",
    "print(fact(3)) # 6\n",
    "print(fact(4)) # 24\n",
    "print(fact(5)) # 120"
   ]
  },
  {
   "cell_type": "markdown",
   "metadata": {
    "pycharm": {
     "name": "#%% md\n"
    }
   },
   "source": [
    "### Ejercicio R2\n",
    "\n",
    "Escribe una funcion recursiva para calcular el maximo comun divisor (`gcd`, por sus siglas en ingles) entre dos numeros, utilizando el Algoritmo de Euclides. \n",
    "\n",
    "Segun este algoritmo, restamos del mayor numero el menor, y seguimos haciendo esta operacion hasta que uno de los dos numeros es 0. \n",
    "\n",
    "En esta situacion, el otro numero es el maximo comun divisor que buscamos.\n",
    "\n",
    "Es decir:\n",
    "* Si uno de los dos numeros es 0, el `gcd` es el otro numero.\n",
    "* El `gcd` de dos numeros, es el `gcd` de:\n",
    "  - El mayor menos el menor.\n",
    "  - El menor."
   ]
  },
  {
   "cell_type": "code",
   "execution_count": 150,
   "metadata": {
    "pycharm": {
     "name": "#%%\n"
    }
   },
   "outputs": [],
   "source": [
    "# Escribe aquí tu código\n"
   ]
  },
  {
   "cell_type": "code",
   "execution_count": 151,
   "metadata": {
    "scrolled": true
   },
   "outputs": [
    {
     "ename": "NameError",
     "evalue": "name 'gcd' is not defined",
     "output_type": "error",
     "traceback": [
      "\u001b[0;31m---------------------------------------------------------------------------\u001b[0m",
      "\u001b[0;31mNameError\u001b[0m                                 Traceback (most recent call last)",
      "\u001b[0;32m/tmp/ipykernel_100774/2443884336.py\u001b[0m in \u001b[0;36m<module>\u001b[0;34m\u001b[0m\n\u001b[0;32m----> 1\u001b[0;31m \u001b[0mprint\u001b[0m\u001b[0;34m(\u001b[0m\u001b[0mgcd\u001b[0m\u001b[0;34m(\u001b[0m\u001b[0;36m270\u001b[0m\u001b[0;34m,\u001b[0m\u001b[0;36m192\u001b[0m\u001b[0;34m)\u001b[0m\u001b[0;34m)\u001b[0m \u001b[0;31m# 6\u001b[0m\u001b[0;34m\u001b[0m\u001b[0;34m\u001b[0m\u001b[0m\n\u001b[0m",
      "\u001b[0;31mNameError\u001b[0m: name 'gcd' is not defined"
     ]
    }
   ],
   "source": [
    "print(gcd(270,192)) # 6"
   ]
  },
  {
   "cell_type": "code",
   "execution_count": 152,
   "metadata": {
    "pycharm": {
     "name": "#%%\n"
    },
    "scrolled": true
   },
   "outputs": [
    {
     "ename": "NameError",
     "evalue": "name 'gcd' is not defined",
     "output_type": "error",
     "traceback": [
      "\u001b[0;31m---------------------------------------------------------------------------\u001b[0m",
      "\u001b[0;31mNameError\u001b[0m                                 Traceback (most recent call last)",
      "\u001b[0;32m/tmp/ipykernel_100774/1397645216.py\u001b[0m in \u001b[0;36m<module>\u001b[0;34m\u001b[0m\n\u001b[0;32m----> 1\u001b[0;31m \u001b[0mprint\u001b[0m\u001b[0;34m(\u001b[0m\u001b[0mgcd\u001b[0m\u001b[0;34m(\u001b[0m\u001b[0;36m9\u001b[0m\u001b[0;34m,\u001b[0m \u001b[0;36m6\u001b[0m\u001b[0;34m)\u001b[0m\u001b[0;34m)\u001b[0m \u001b[0;31m# 3\u001b[0m\u001b[0;34m\u001b[0m\u001b[0;34m\u001b[0m\u001b[0m\n\u001b[0m",
      "\u001b[0;31mNameError\u001b[0m: name 'gcd' is not defined"
     ]
    }
   ],
   "source": [
    "print(gcd(9, 6)) # 3"
   ]
  },
  {
   "cell_type": "code",
   "execution_count": 153,
   "metadata": {
    "pycharm": {
     "name": "#%%\n"
    }
   },
   "outputs": [
    {
     "ename": "NameError",
     "evalue": "name 'gcd' is not defined",
     "output_type": "error",
     "traceback": [
      "\u001b[0;31m---------------------------------------------------------------------------\u001b[0m",
      "\u001b[0;31mNameError\u001b[0m                                 Traceback (most recent call last)",
      "\u001b[0;32m/tmp/ipykernel_100774/2258650581.py\u001b[0m in \u001b[0;36m<module>\u001b[0;34m\u001b[0m\n\u001b[0;32m----> 1\u001b[0;31m \u001b[0mprint\u001b[0m\u001b[0;34m(\u001b[0m\u001b[0mgcd\u001b[0m\u001b[0;34m(\u001b[0m\u001b[0;36m30\u001b[0m\u001b[0;34m,\u001b[0m \u001b[0;36m75\u001b[0m\u001b[0;34m)\u001b[0m\u001b[0;34m)\u001b[0m \u001b[0;31m# 15\u001b[0m\u001b[0;34m\u001b[0m\u001b[0;34m\u001b[0m\u001b[0m\n\u001b[0m",
      "\u001b[0;31mNameError\u001b[0m: name 'gcd' is not defined"
     ]
    }
   ],
   "source": [
    "print(gcd(30, 75)) # 15"
   ]
  },
  {
   "cell_type": "markdown",
   "metadata": {
    "pycharm": {
     "name": "#%% md\n"
    }
   },
   "source": [
    "-----"
   ]
  },
  {
   "cell_type": "markdown",
   "metadata": {},
   "source": [
    "## Ficheros"
   ]
  },
  {
   "cell_type": "markdown",
   "metadata": {},
   "source": [
    "### Abrir el fichero"
   ]
  },
  {
   "cell_type": "markdown",
   "metadata": {},
   "source": [
    "La función principal para trabajar con ficheros es `open()`.\n",
    "\n",
    "Necesitamos pasarle dos parámetros:\n",
    "* El **nombre del fichero** que queremos manipular.\n",
    "* Y el **modo** en el que lo queremos manipular."
   ]
  },
  {
   "cell_type": "markdown",
   "metadata": {},
   "source": [
    "Hay cuatro modos diferentes de abrir un fichero.\n",
    "* `\"r\"` - Read. Es el valor por defecto. Abre el fichero para leer, y nos dará error si el fichero no existe.\n",
    "* `\"a\"` - Append. Abre el fichero para añadir datos, lo crea si no existe.\n",
    "* `\"w\"` - Write. Abre el fichero para escribir, crea el fichero si no existe.\n",
    "* `\"x\"` - Create. Crea el fichero especificado, y nos dará un error si el fichero ya existe."
   ]
  },
  {
   "cell_type": "markdown",
   "metadata": {},
   "source": [
    "Y además, podemos especificar si lo trataremos como binario o como texto.\n",
    "* `\"t\"` - Text. El modo texto es el valor por defecto.\n",
    "* `\"b\"` - Binary. Es el modo binario (por ejemplo imágenes)."
   ]
  },
  {
   "cell_type": "code",
   "execution_count": 154,
   "metadata": {
    "scrolled": true
   },
   "outputs": [
    {
     "ename": "FileNotFoundError",
     "evalue": "[Errno 2] No such file or directory: 'demofile1.txt'",
     "output_type": "error",
     "traceback": [
      "\u001b[0;31m---------------------------------------------------------------------------\u001b[0m",
      "\u001b[0;31mFileNotFoundError\u001b[0m                         Traceback (most recent call last)",
      "\u001b[0;32m/tmp/ipykernel_100774/1290916543.py\u001b[0m in \u001b[0;36m<module>\u001b[0;34m\u001b[0m\n\u001b[0;32m----> 1\u001b[0;31m \u001b[0mf\u001b[0m \u001b[0;34m=\u001b[0m \u001b[0mopen\u001b[0m\u001b[0;34m(\u001b[0m\u001b[0;34m\"demofile1.txt\"\u001b[0m\u001b[0;34m)\u001b[0m\u001b[0;34m\u001b[0m\u001b[0;34m\u001b[0m\u001b[0m\n\u001b[0m\u001b[1;32m      2\u001b[0m \u001b[0mprint\u001b[0m\u001b[0;34m(\u001b[0m\u001b[0mf\u001b[0m\u001b[0;34m)\u001b[0m \u001b[0;31m# error el fichero no existe\u001b[0m\u001b[0;34m\u001b[0m\u001b[0;34m\u001b[0m\u001b[0m\n",
      "\u001b[0;31mFileNotFoundError\u001b[0m: [Errno 2] No such file or directory: 'demofile1.txt'"
     ]
    }
   ],
   "source": [
    "f = open(\"demofile1.txt\")\n",
    "print(f) # error el fichero no existe"
   ]
  },
  {
   "cell_type": "code",
   "execution_count": 155,
   "metadata": {},
   "outputs": [
    {
     "ename": "FileNotFoundError",
     "evalue": "[Errno 2] No such file or directory: 'demofile1.txt'",
     "output_type": "error",
     "traceback": [
      "\u001b[0;31m---------------------------------------------------------------------------\u001b[0m",
      "\u001b[0;31mFileNotFoundError\u001b[0m                         Traceback (most recent call last)",
      "\u001b[0;32m/tmp/ipykernel_100774/3634227362.py\u001b[0m in \u001b[0;36m<module>\u001b[0;34m\u001b[0m\n\u001b[0;32m----> 1\u001b[0;31m \u001b[0mf\u001b[0m \u001b[0;34m=\u001b[0m \u001b[0mopen\u001b[0m\u001b[0;34m(\u001b[0m\u001b[0;34m\"demofile1.txt\"\u001b[0m\u001b[0;34m,\u001b[0m \u001b[0;34m\"rt\"\u001b[0m\u001b[0;34m)\u001b[0m\u001b[0;34m\u001b[0m\u001b[0;34m\u001b[0m\u001b[0m\n\u001b[0m\u001b[1;32m      2\u001b[0m \u001b[0mprint\u001b[0m\u001b[0;34m(\u001b[0m\u001b[0mf\u001b[0m\u001b[0;34m)\u001b[0m \u001b[0;31m# error el fichero no existe\u001b[0m\u001b[0;34m\u001b[0m\u001b[0;34m\u001b[0m\u001b[0m\n",
      "\u001b[0;31mFileNotFoundError\u001b[0m: [Errno 2] No such file or directory: 'demofile1.txt'"
     ]
    }
   ],
   "source": [
    "f = open(\"demofile1.txt\", \"rt\")\n",
    "print(f) # error el fichero no existe"
   ]
  },
  {
   "cell_type": "code",
   "execution_count": 156,
   "metadata": {},
   "outputs": [
    {
     "name": "stdout",
     "output_type": "stream",
     "text": [
      "<_io.TextIOWrapper name='demofile2.txt' mode='at' encoding='UTF-8'>\n"
     ]
    }
   ],
   "source": [
    "f = open(\"demofile2.txt\", \"at\")\n",
    "print(f) # ha creado el fichero"
   ]
  },
  {
   "cell_type": "code",
   "execution_count": 157,
   "metadata": {},
   "outputs": [
    {
     "name": "stdout",
     "output_type": "stream",
     "text": [
      "<_io.TextIOWrapper name='demofile3.txt' mode='wt' encoding='UTF-8'>\n"
     ]
    }
   ],
   "source": [
    "f = open(\"demofile3.txt\", \"wt\")\n",
    "print(f) # ha creado el fichero"
   ]
  },
  {
   "cell_type": "code",
   "execution_count": 158,
   "metadata": {},
   "outputs": [
    {
     "name": "stdout",
     "output_type": "stream",
     "text": [
      "<_io.TextIOWrapper name='demofile4.txt' mode='xt' encoding='UTF-8'>\n"
     ]
    }
   ],
   "source": [
    "f = open(\"demofile4.txt\", \"xt\")\n",
    "print(f) # ha creado el fichero"
   ]
  },
  {
   "cell_type": "code",
   "execution_count": 159,
   "metadata": {},
   "outputs": [
    {
     "name": "stdout",
     "output_type": "stream",
     "text": [
      "<_io.TextIOWrapper name='demofile4.txt' mode='rt' encoding='UTF-8'>\n"
     ]
    }
   ],
   "source": [
    "f = open(\"demofile4.txt\", \"rt\")\n",
    "print(f) # abre el fichero en modo lectura sin problemas porque ya ha sido creado"
   ]
  },
  {
   "cell_type": "markdown",
   "metadata": {},
   "source": [
    "### Cerrando al terminar"
   ]
  },
  {
   "cell_type": "markdown",
   "metadata": {},
   "source": [
    "`close()` cierra la conexión que hemos abierto para manipular el fichero.\n",
    "\n",
    "Es una buena práctica cerrar el fichero cuando hemos terminado."
   ]
  },
  {
   "cell_type": "code",
   "execution_count": 160,
   "metadata": {},
   "outputs": [],
   "source": [
    "f = open(\"demofile5.txt\", \"at\")\n",
    "# No olvides cerrar el fichero al terminar, es una buena práctica.\n",
    "f.close()"
   ]
  },
  {
   "cell_type": "markdown",
   "metadata": {},
   "source": [
    "### Lectura de ficheros"
   ]
  },
  {
   "cell_type": "markdown",
   "metadata": {},
   "source": [
    "Primero vamos a añadir algo de contenido al fichero demofile2.txt."
   ]
  },
  {
   "cell_type": "code",
   "execution_count": 161,
   "metadata": {},
   "outputs": [],
   "source": [
    "file = open(\"demofile2.txt\", \"at\") # abrimos en modo append para poder añadir lineas "
   ]
  },
  {
   "cell_type": "code",
   "execution_count": 162,
   "metadata": {},
   "outputs": [
    {
     "data": {
      "text/plain": [
       "6"
      ]
     },
     "execution_count": 162,
     "metadata": {},
     "output_type": "execute_result"
    }
   ],
   "source": [
    "file.write(\"¡Hola!\")"
   ]
  },
  {
   "cell_type": "code",
   "execution_count": 163,
   "metadata": {},
   "outputs": [],
   "source": [
    "file.close()"
   ]
  },
  {
   "cell_type": "code",
   "execution_count": 164,
   "metadata": {},
   "outputs": [
    {
     "ename": "ValueError",
     "evalue": "I/O operation on closed file.",
     "output_type": "error",
     "traceback": [
      "\u001b[0;31m---------------------------------------------------------------------------\u001b[0m",
      "\u001b[0;31mValueError\u001b[0m                                Traceback (most recent call last)",
      "\u001b[0;32m/tmp/ipykernel_100774/3362191388.py\u001b[0m in \u001b[0;36m<module>\u001b[0;34m\u001b[0m\n\u001b[0;32m----> 1\u001b[0;31m \u001b[0mprint\u001b[0m\u001b[0;34m(\u001b[0m\u001b[0mfile\u001b[0m\u001b[0;34m.\u001b[0m\u001b[0mread\u001b[0m\u001b[0;34m(\u001b[0m\u001b[0;34m)\u001b[0m\u001b[0;34m)\u001b[0m \u001b[0;31m# Error de lectura\u001b[0m\u001b[0;34m\u001b[0m\u001b[0;34m\u001b[0m\u001b[0m\n\u001b[0m",
      "\u001b[0;31mValueError\u001b[0m: I/O operation on closed file."
     ]
    }
   ],
   "source": [
    "print(file.read()) # Error de lectura"
   ]
  },
  {
   "cell_type": "markdown",
   "metadata": {},
   "source": [
    "Como hemos intentado leer de un fichero que hemos cerrado nos da error.\n",
    "\n",
    "Vamos a abrirlo otra vez para poder leer."
   ]
  },
  {
   "cell_type": "code",
   "execution_count": 165,
   "metadata": {},
   "outputs": [],
   "source": [
    "file = open(\"demofile2.txt\", \"r\")"
   ]
  },
  {
   "cell_type": "code",
   "execution_count": 166,
   "metadata": {},
   "outputs": [
    {
     "name": "stdout",
     "output_type": "stream",
     "text": [
      "¡Hola!\n"
     ]
    }
   ],
   "source": [
    "print(file.read())"
   ]
  },
  {
   "cell_type": "code",
   "execution_count": 167,
   "metadata": {},
   "outputs": [
    {
     "ename": "UnsupportedOperation",
     "evalue": "not writable",
     "output_type": "error",
     "traceback": [
      "\u001b[0;31m---------------------------------------------------------------------------\u001b[0m",
      "\u001b[0;31mUnsupportedOperation\u001b[0m                      Traceback (most recent call last)",
      "\u001b[0;32m/tmp/ipykernel_100774/4248826355.py\u001b[0m in \u001b[0;36m<module>\u001b[0;34m\u001b[0m\n\u001b[0;32m----> 1\u001b[0;31m \u001b[0mfile\u001b[0m\u001b[0;34m.\u001b[0m\u001b[0mwrite\u001b[0m\u001b[0;34m(\u001b[0m\u001b[0;34m\"Bienvenid@ al fichero demofile2.txt\"\u001b[0m\u001b[0;34m)\u001b[0m\u001b[0;34m\u001b[0m\u001b[0;34m\u001b[0m\u001b[0m\n\u001b[0m",
      "\u001b[0;31mUnsupportedOperation\u001b[0m: not writable"
     ]
    }
   ],
   "source": [
    "file.write(\"Bienvenid@ al fichero demofile2.txt\")"
   ]
  },
  {
   "cell_type": "markdown",
   "metadata": {},
   "source": [
    "Vaya, otro error, esta vez es porque el fichero está abierto en modo lectura, y no nos permite escribir.\n",
    "\n",
    "Vamos a cerrar y abrir en el modo correcto para terminar de escribir el contenido del fichero."
   ]
  },
  {
   "cell_type": "code",
   "execution_count": 168,
   "metadata": {},
   "outputs": [],
   "source": [
    "file.close() # cerramos en modo lectura"
   ]
  },
  {
   "cell_type": "code",
   "execution_count": 169,
   "metadata": {},
   "outputs": [],
   "source": [
    "\n",
    "file = open(\"demofile2.txt\", \"at\") # abrimos en modo append para poder añadir lineas al final\n",
    "\n",
    "file.write(\"Bienvenid@ al fichero demofile2.txt.\")\n",
    "\n",
    "file.write(\"Este fichero es para hacer pruebas.\")\n",
    "\n",
    "file.write(\"Buena suerte.\")\n",
    "\n",
    "file.close() # cerramos el modo escritura\n"
   ]
  },
  {
   "cell_type": "code",
   "execution_count": 170,
   "metadata": {},
   "outputs": [
    {
     "name": "stdout",
     "output_type": "stream",
     "text": [
      "¡Hola!Bienvenid@ al fichero demofile2.txt.Este fichero es para hacer pruebas.Buena suerte.\n"
     ]
    }
   ],
   "source": [
    "file = open(\"demofile2.txt\", \"r\") # abrimos en modo lectura\n",
    "\n",
    "print(file.read())"
   ]
  },
  {
   "cell_type": "markdown",
   "metadata": {},
   "source": [
    "También puedes leer solo partes del fichero."
   ]
  },
  {
   "cell_type": "code",
   "execution_count": 171,
   "metadata": {},
   "outputs": [
    {
     "name": "stdout",
     "output_type": "stream",
     "text": [
      "\n"
     ]
    }
   ],
   "source": [
    "print(file.read(5))"
   ]
  },
  {
   "cell_type": "markdown",
   "metadata": {},
   "source": [
    "### Borrar ficheros"
   ]
  },
  {
   "cell_type": "markdown",
   "metadata": {},
   "source": [
    "Para terminar como empezamos, vamos a borrar los ficheros con los que hemos trabajado."
   ]
  },
  {
   "cell_type": "code",
   "execution_count": 172,
   "metadata": {},
   "outputs": [],
   "source": [
    "# borramos los ficheros con los que hemos trabajado.\n",
    "\n",
    "import os\n",
    "\n",
    "os.remove(\"demofile2.txt\")\n",
    "os.remove(\"demofile3.txt\")\n",
    "os.remove(\"demofile4.txt\")\n",
    "os.remove(\"demofile5.txt\")\n"
   ]
  },
  {
   "cell_type": "markdown",
   "metadata": {},
   "source": [
    "### Ejercicio F1"
   ]
  },
  {
   "cell_type": "markdown",
   "metadata": {},
   "source": [
    "Crea un fichero `demofilex.txt`.\n",
    "\n",
    "Escribe la siguiente frase \"Lorem Ipsum is simply dummy text of the printing and typesetting industry.\"\n",
    "\n",
    "Y lee los primeros 5 caracteres.\n",
    "\n",
    "No olvides cerrar el fichero al terminar."
   ]
  },
  {
   "cell_type": "code",
   "execution_count": 173,
   "metadata": {},
   "outputs": [],
   "source": [
    "# Escribe aquí tu código."
   ]
  },
  {
   "cell_type": "code",
   "execution_count": 174,
   "metadata": {},
   "outputs": [
    {
     "ename": "FileNotFoundError",
     "evalue": "[Errno 2] No such file or directory: 'demofilex.txt'",
     "output_type": "error",
     "traceback": [
      "\u001b[0;31m---------------------------------------------------------------------------\u001b[0m",
      "\u001b[0;31mFileNotFoundError\u001b[0m                         Traceback (most recent call last)",
      "\u001b[0;32m/tmp/ipykernel_100774/1961889452.py\u001b[0m in \u001b[0;36m<module>\u001b[0;34m\u001b[0m\n\u001b[0;32m----> 1\u001b[0;31m \u001b[0mxfile\u001b[0m \u001b[0;34m=\u001b[0m \u001b[0mopen\u001b[0m\u001b[0;34m(\u001b[0m\u001b[0;34m\"demofilex.txt\"\u001b[0m\u001b[0;34m,\u001b[0m \u001b[0;34m\"r\"\u001b[0m\u001b[0;34m)\u001b[0m\u001b[0;34m\u001b[0m\u001b[0;34m\u001b[0m\u001b[0m\n\u001b[0m\u001b[1;32m      2\u001b[0m \u001b[0mprint\u001b[0m\u001b[0;34m(\u001b[0m\u001b[0mxfile\u001b[0m\u001b[0;34m.\u001b[0m\u001b[0mread\u001b[0m\u001b[0;34m(\u001b[0m\u001b[0;36m5\u001b[0m\u001b[0;34m)\u001b[0m\u001b[0;34m)\u001b[0m \u001b[0;31m#Lorem\u001b[0m\u001b[0;34m\u001b[0m\u001b[0;34m\u001b[0m\u001b[0m\n",
      "\u001b[0;31mFileNotFoundError\u001b[0m: [Errno 2] No such file or directory: 'demofilex.txt'"
     ]
    }
   ],
   "source": [
    "\n",
    "xfile = open(\"demofilex.txt\", \"r\")\n",
    "print(xfile.read(5)) #Lorem"
   ]
  },
  {
   "cell_type": "code",
   "execution_count": null,
   "metadata": {},
   "outputs": [],
   "source": []
  },
  {
   "cell_type": "code",
   "execution_count": 175,
   "metadata": {},
   "outputs": [
    {
     "ename": "SyntaxError",
     "evalue": "unmatched ')' (2133708868.py, line 2)",
     "output_type": "error",
     "traceback": [
      "\u001b[0;36m  File \u001b[0;32m\"/tmp/ipykernel_100774/2133708868.py\"\u001b[0;36m, line \u001b[0;32m2\u001b[0m\n\u001b[0;31m    1) Split. Que sirve para trocear cadenas utilizando un carácter específico como separador o token.\u001b[0m\n\u001b[0m     ^\u001b[0m\n\u001b[0;31mSyntaxError\u001b[0m\u001b[0;31m:\u001b[0m unmatched ')'\n"
     ]
    }
   ],
   "source": [
    "Funciones extra:\n",
    "    1) Split. Que sirve para trocear cadenas utilizando un carácter específico como separador o token.\n",
    "        csv = \"David;Jesús;Javier\"\n",
    "        x = csv.split(\";\")\n",
    "        print(x)\n",
    "\n",
    "    El resultado de hacer split utilizando \";\" como separador en la cadena csv es una lista con los nombres:\n",
    "        ['David', 'Jesús', 'Javier']\n",
    "        \n",
    "    2) Slicing. Consiste en seleccionar un trozo de la cadena desde una posición determinada de inicio y fin.\n",
    "       Probar el siguiente fragmento para ver como seleccionar los caracteres de 2 a 5 de la cadena \"Hello, World!\"\n",
    "\n",
    "        b = \"Hello, World!\"\n",
    "        a = b[2:5]\n",
    "        print( \"Hey \"  +  a )"
   ]
  },
  {
   "cell_type": "code",
   "execution_count": 176,
   "metadata": {},
   "outputs": [
    {
     "name": "stdout",
     "output_type": "stream",
     "text": [
      "['1', '2', '2', '5', '8', '4']\n"
     ]
    }
   ],
   "source": [
    "#ejemplo de split:\n",
    "def separar(array:list):\n",
    "    return array.split(',')\n",
    "\n",
    "numeros = '1,2,2,5,8,4'\n",
    "print(separar(numeros))"
   ]
  },
  {
   "cell_type": "code",
   "execution_count": 177,
   "metadata": {},
   "outputs": [
    {
     "name": "stdout",
     "output_type": "stream",
     "text": [
      "Hey Hello\n"
     ]
    }
   ],
   "source": [
    "#ejemplo de slicing:\n",
    "b = \"Hello, World!\"\n",
    "a = b[0:5]\n",
    "print( \"Hey \"  +  a )"
   ]
  },
  {
   "cell_type": "code",
   "execution_count": null,
   "metadata": {},
   "outputs": [],
   "source": []
  }
 ],
 "metadata": {
  "celltoolbar": "Raw Cell Format",
  "kernelspec": {
   "display_name": "Python 3 (ipykernel)",
   "language": "python",
   "name": "python3"
  },
  "language_info": {
   "codemirror_mode": {
    "name": "ipython",
    "version": 3
   },
   "file_extension": ".py",
   "mimetype": "text/x-python",
   "name": "python",
   "nbconvert_exporter": "python",
   "pygments_lexer": "ipython3",
   "version": "3.12.3"
  }
 },
 "nbformat": 4,
 "nbformat_minor": 4
}
