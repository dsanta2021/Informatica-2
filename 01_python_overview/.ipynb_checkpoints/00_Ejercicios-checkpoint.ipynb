{
 "cells": [
  {
   "cell_type": "markdown",
   "id": "2d85bca8",
   "metadata": {
    "pycharm": {
     "name": "#%% md\n"
    }
   },
   "source": [
    "### Ejercicio F1\n",
    "\n",
    "Escribe una función que calcule el cuadrado de un número entero. \n",
    "\n",
    "La que vamos a escribir función debe cumplir la siguiente especificación:\n",
    "* Su nombre debe ser `square`.\n",
    "* Debe aceptar un único argumento llamado `number`, de tipo `Int`.\n",
    "* Debe devolver un `Int`, que será el cuadrado del número suministrado."
   ]
  },
  {
   "cell_type": "code",
   "execution_count": 1,
   "id": "ac8d30f8",
   "metadata": {
    "pycharm": {
     "name": "#%%\n"
    }
   },
   "outputs": [
    {
     "name": "stdout",
     "output_type": "stream",
     "text": [
      "4\n",
      "144\n",
      "1\n"
     ]
    }
   ],
   "source": [
    "# Escribe aquí tu código\n",
    "def square(number:int) -> int:\n",
    "    return number ** 2\n",
    "\n",
    "print(square(2))\n",
    "print(square(12))\n",
    "print(square(1))\n"
   ]
  },
  {
   "cell_type": "markdown",
   "id": "16fb88e4",
   "metadata": {
    "pycharm": {
     "name": "#%% md\n"
    }
   },
   "source": [
    "Puedes utilizar la siguiente celda para comprabar si tu implementación es correcta:"
   ]
  },
  {
   "cell_type": "code",
   "execution_count": 2,
   "id": "de97ed20",
   "metadata": {
    "pycharm": {
     "name": "#%%\n"
    }
   },
   "outputs": [
    {
     "name": "stdout",
     "output_type": "stream",
     "text": [
      "4\n",
      "144\n",
      "1\n"
     ]
    }
   ],
   "source": [
    "print((2**2))  # 4\n",
    "print((12**2)) # 144\n",
    "print((1**2))  # 1"
   ]
  },
  {
   "cell_type": "markdown",
   "id": "f60c3358",
   "metadata": {
    "pycharm": {
     "name": "#%% md\n"
    }
   },
   "source": [
    "### Ejercicio F2\n",
    "\n",
    "Escribe una función para calcular si un año es bisiesto, es decir tiene un día más 366 (29 de Febrero). \n",
    "\n",
    "La que vamos a escribir función debe cumplir la siguiente especificación:\n",
    "* Si el año es uniformemente divisible por 4.\n",
    "* Si el año es uniformemente divisible por 100.\n",
    "* Si el año es uniformemente divisible por 400.\n",
    "* El año es un año bisiesto (tiene 366 días).\n",
    "* El año no es un año bisiesto (tiene 365 días)."
   ]
  },
  {
   "cell_type": "code",
   "execution_count": 22,
   "id": "a4252264",
   "metadata": {},
   "outputs": [
    {
     "name": "stdout",
     "output_type": "stream",
     "text": [
      "400 Sí es bisiesto 400%4: 0\n",
      "1000 No es bisiesto 1000%100: 0\n",
      "1000 Sí es bisiesto 4000%400: 0\n"
     ]
    }
   ],
   "source": [
    "# Pistas\n",
    "print(f\"400 Sí es bisiesto 400%4: {400%4}\")\n",
    "print(f\"1000 No es bisiesto 1000%100: {1000%100}\")\n",
    "print(f\"1000 Sí es bisiesto 4000%400: {4000%400}\")"
   ]
  },
  {
   "cell_type": "code",
   "execution_count": 20,
   "id": "a26d371a",
   "metadata": {},
   "outputs": [],
   "source": [
    "# Escribe aquí tu código\n",
    "def esBisiesto(year): return year % 4 == 0 and year % 100 != 0 or year % 400 == 0\n",
    "\n"
   ]
  },
  {
   "cell_type": "code",
   "execution_count": 23,
   "id": "f7be71e6",
   "metadata": {},
   "outputs": [
    {
     "name": "stdout",
     "output_type": "stream",
     "text": [
      "False\n",
      "False\n",
      "True\n",
      "False\n",
      "True\n",
      "False\n",
      "True\n"
     ]
    }
   ],
   "source": [
    "# Prueba tu código\n",
    "print(esBisiesto(2022)) #False\n",
    "print(esBisiesto(2021)) #False\n",
    "print(esBisiesto(2020)) #True\n",
    "print(esBisiesto(2019)) #False\n",
    "print(esBisiesto(400))  #True\n",
    "print(esBisiesto(1000)) #False\n",
    "print(esBisiesto(4000)) #True"
   ]
  },
  {
   "cell_type": "code",
   "execution_count": null,
   "id": "8aa97b2f",
   "metadata": {},
   "outputs": [],
   "source": []
  }
 ],
 "metadata": {
  "kernelspec": {
   "display_name": "Python 3 (ipykernel)",
   "language": "python",
   "name": "python3"
  },
  "language_info": {
   "codemirror_mode": {
    "name": "ipython",
    "version": 3
   },
   "file_extension": ".py",
   "mimetype": "text/x-python",
   "name": "python",
   "nbconvert_exporter": "python",
   "pygments_lexer": "ipython3",
   "version": "3.9.12"
  }
 },
 "nbformat": 4,
 "nbformat_minor": 5
}
