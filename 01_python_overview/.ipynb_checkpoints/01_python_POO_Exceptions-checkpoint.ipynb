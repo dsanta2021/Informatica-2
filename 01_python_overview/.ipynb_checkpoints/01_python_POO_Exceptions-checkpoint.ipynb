{
 "cells": [
  {
   "cell_type": "markdown",
   "metadata": {},
   "source": [
    "# Recordatorio de Python"
   ]
  },
  {
   "cell_type": "markdown",
   "metadata": {},
   "source": [
    "Python es un lenguaje de programación interpretado de alto nivel y multiplataforma (Windows, MacOS,Linux). Creado por Guido van Rossum (1991).\n",
    "Es sencillo de aprender y de entender. Los archivos de python tienen la extensión .py\n",
    "Estos archivos de texto que son interpretados por el compilador que los ejecuta. Python dispone de un entorno interactivo y muchos módulos para todo tipo de aplicaciones."
   ]
  },
  {
   "cell_type": "markdown",
   "metadata": {},
   "source": [
    "1. [Variables, constantes, tipos](#Variables,-constantes,-tipos)\n",
    "2. [Funciones](#Funciones)\n",
    "3. [Colecciones](#Colecciones)\n",
    "4. [Control de flujo, bucles, rangos](#Control-de-flujo,-bucles,-rangos)\n",
    "5. [Filtros y transformaciones funcionales](#Filtros-y-transformaciones-funcionales)\n",
    "7. [structs](#structs)\n",
    "8. [Clases](#Clases)\n",
    "9. [enums](#enums)\n",
    "9. [Excepciones](#Excepciones)"
   ]
  },
  {
   "cell_type": "markdown",
   "metadata": {},
   "source": [
    "## Variables, constantes, tipos"
   ]
  },
  {
   "cell_type": "markdown",
   "metadata": {},
   "source": [
    "Como sabréis de otros lenguajes, una **variable** es una \"caja\" que contiene un valor."
   ]
  },
  {
   "cell_type": "code",
   "execution_count": 1,
   "metadata": {},
   "outputs": [],
   "source": [
    "a = 42\n",
    "b = 5.5\n",
    "s = \"Hello, world!\""
   ]
  },
  {
   "cell_type": "code",
   "execution_count": 2,
   "metadata": {},
   "outputs": [
    {
     "name": "stdout",
     "output_type": "stream",
     "text": [
      "Hello, world!\n"
     ]
    }
   ],
   "source": [
    "print(s)"
   ]
  },
  {
   "cell_type": "code",
   "execution_count": 3,
   "metadata": {},
   "outputs": [
    {
     "name": "stdout",
     "output_type": "stream",
     "text": [
      "7\n"
     ]
    }
   ],
   "source": [
    "b = 7\n",
    "print(b)"
   ]
  },
  {
   "cell_type": "code",
   "execution_count": 8,
   "metadata": {},
   "outputs": [
    {
     "name": "stdout",
     "output_type": "stream",
     "text": [
      "44\n"
     ]
    }
   ],
   "source": [
    "a = 44\n",
    "print(a)"
   ]
  },
  {
   "cell_type": "markdown",
   "metadata": {},
   "source": [
    "Un tipo de dato es el conjunto de valores y el conjunto de operaciones definidas en esos valores.\n",
    "Python tiene un gran número de tipos de datos incorporados tales como Números (Integer, Float, Boolean, Complex Number), String, List, Tuple, Set, Dictionary y File.\n",
    "Otros tipos de datos de alto nivel, tales como Decimal y Fraction, están soportados por módulos externos."
   ]
  },
  {
   "cell_type": "code",
   "execution_count": 11,
   "metadata": {},
   "outputs": [],
   "source": [
    "a = 42                    # `a` es de tipo Int (entero)\n",
    "b = 5.5                   # `b` es de tipo Float (coma flotante)\n",
    "s = \"Hello, world!\"       # `s` es un String."
   ]
  },
  {
   "cell_type": "code",
   "execution_count": 12,
   "metadata": {},
   "outputs": [
    {
     "name": "stdout",
     "output_type": "stream",
     "text": [
      "<class 'float'>\n"
     ]
    }
   ],
   "source": [
    "print(type(b))"
   ]
  },
  {
   "cell_type": "code",
   "execution_count": 13,
   "metadata": {},
   "outputs": [
    {
     "name": "stdout",
     "output_type": "stream",
     "text": [
      "<class 'str'>\n"
     ]
    }
   ],
   "source": [
    "print(type(s))"
   ]
  },
  {
   "cell_type": "markdown",
   "metadata": {},
   "source": [
    "Python es un lenguaje de tipado dinámico, es decir, el tipo de dato de una variable puede cambiar en tiempo de ejecución. Gracias a esta caracteristica, una variable puede comenzar teniendo un tipo de dato y cambiar en cualquier momento a otro tipo de dato. vemos otra característica: la inferencia de tipos. Al decir a = 5 o a = \"Hola mundo\", Python es capaz de inferir el tipo de dato de una variable a partir del valor que se le está asignando. "
   ]
  },
  {
   "cell_type": "markdown",
   "metadata": {},
   "source": [
    "En Python se hace la conversión automática de tipos cuando hacemos una operación en la que se mezclan variables de tipos diferentes."
   ]
  },
  {
   "cell_type": "code",
   "execution_count": 2,
   "metadata": {},
   "outputs": [],
   "source": [
    "x = 7    # int\n",
    "y = 5.0  # float"
   ]
  },
  {
   "cell_type": "code",
   "execution_count": 3,
   "metadata": {
    "scrolled": true
   },
   "outputs": [
    {
     "name": "stdout",
     "output_type": "stream",
     "text": [
      "<class 'float'>\n"
     ]
    }
   ],
   "source": [
    "z = x + y    # Error\n",
    "print (type(z))"
   ]
  },
  {
   "cell_type": "markdown",
   "metadata": {},
   "source": [
    "La conversión también se puede hacer explícita."
   ]
  },
  {
   "cell_type": "code",
   "execution_count": 6,
   "metadata": {},
   "outputs": [
    {
     "name": "stdout",
     "output_type": "stream",
     "text": [
      "12.0\n"
     ]
    }
   ],
   "source": [
    "z = float(x) + y\n",
    "print(z)"
   ]
  },
  {
   "cell_type": "markdown",
   "metadata": {},
   "source": [
    "El operador `+`, además de para sumar, suele servir para _concatenar_ o _añadir_ elementos a un conjunto, como veremos después. En el caso de cadenas de texto también funciona, pero tenemos que convertir todo a cadenas, como siempre:"
   ]
  },
  {
   "cell_type": "code",
   "execution_count": 17,
   "metadata": {},
   "outputs": [
    {
     "name": "stdout",
     "output_type": "stream",
     "text": [
      "El total es: 12.0\n"
     ]
    }
   ],
   "source": [
    "s = \"El total es: \"\n",
    "s = s + str(z)         # `+`: concatenate\n",
    "print(s)"
   ]
  },
  {
   "cell_type": "markdown",
   "metadata": {},
   "source": [
    "Como esta es una operación muy frecuente, existe un _atajo_ especial que se utiliza mucho:"
   ]
  },
  {
   "cell_type": "code",
   "execution_count": 1,
   "metadata": {},
   "outputs": [
    {
     "ename": "NameError",
     "evalue": "name 'z' is not defined",
     "output_type": "error",
     "traceback": [
      "\u001b[0;31m---------------------------------------------------------------------------\u001b[0m",
      "\u001b[0;31mNameError\u001b[0m                                 Traceback (most recent call last)",
      "Input \u001b[0;32mIn [1]\u001b[0m, in \u001b[0;36m<cell line: 1>\u001b[0;34m()\u001b[0m\n\u001b[0;32m----> 1\u001b[0m \u001b[38;5;28mprint\u001b[39m(\u001b[38;5;124mf\u001b[39m\u001b[38;5;124m\"\u001b[39m\u001b[38;5;124mTotal: \u001b[39m\u001b[38;5;132;01m{\u001b[39;00mz\u001b[38;5;132;01m}\u001b[39;00m\u001b[38;5;124m\"\u001b[39m)\n\u001b[1;32m      2\u001b[0m \u001b[38;5;28mprint\u001b[39m (\u001b[38;5;124m\"\u001b[39m\u001b[38;5;124mTotal: \u001b[39m\u001b[38;5;124m\"\u001b[39m, z)\n\u001b[1;32m      3\u001b[0m \u001b[38;5;28mprint\u001b[39m (\u001b[38;5;124m\"\u001b[39m\u001b[38;5;124mTotal: \u001b[39m\u001b[38;5;132;01m{}\u001b[39;00m\u001b[38;5;124m\"\u001b[39m\u001b[38;5;241m.\u001b[39mformat(z))\n",
      "\u001b[0;31mNameError\u001b[0m: name 'z' is not defined"
     ]
    }
   ],
   "source": [
    "print (\"Total: \", z)\n",
    "print (\"Total: {}\".format(z))\n",
    "print(f\"Total: {z}\")"
   ]
  },
  {
   "cell_type": "markdown",
   "metadata": {},
   "source": [
    "¿Cuál es la diferencia que observas entre los diferentes métodos de print?"
   ]
  },
  {
   "cell_type": "code",
   "execution_count": 2,
   "metadata": {},
   "outputs": [
    {
     "name": "stdout",
     "output_type": "stream",
     "text": [
      "cos(π/4): 0.7071067811865476\n"
     ]
    }
   ],
   "source": [
    "import math as mat                        # Módulo con funciones matemáticas\n",
    "\n",
    "print(f\"cos(π/4): {mat.cos(mat.pi/4)}\")"
   ]
  },
  {
   "cell_type": "code",
   "execution_count": 25,
   "metadata": {},
   "outputs": [
    {
     "name": "stdout",
     "output_type": "stream",
     "text": [
      "3.141592653589793\r\n"
     ]
    }
   ],
   "source": [
    "print(Double.pi)"
   ]
  },
  {
   "cell_type": "markdown",
   "metadata": {},
   "source": [
    "## Funciones"
   ]
  },
  {
   "cell_type": "markdown",
   "metadata": {},
   "source": [
    "En el ejemplo anterior, `math.cos` es una función estándar que calcula el coseno del número que se le indica como parámetro. `print`, que también hemos visto, es otra función que muestra en la salida estándar el string que se le suministra.\n",
    "\n",
    "Algunos ejemplos básicos de funciones en Python:"
   ]
  },
  {
   "cell_type": "code",
   "execution_count": 26,
   "metadata": {},
   "outputs": [
    {
     "name": "stdout",
     "output_type": "stream",
     "text": [
      "Hello!\r\n"
     ]
    }
   ],
   "source": [
    "# Función sin parámetros de entrada ni resultado\n",
    "def greet() {\n",
    "    print(\"Hello!\")\n",
    "}\n",
    "\n",
    "# Invocación\n",
    "greet()"
   ]
  },
  {
   "cell_type": "code",
   "execution_count": 4,
   "metadata": {},
   "outputs": [],
   "source": [
    "# Función con un parámetro de entrada que es un String\n",
    "def greet1(name: str):\n",
    "    print(f\"Hello, {name}!\")\n"
   ]
  },
  {
   "cell_type": "markdown",
   "metadata": {},
   "source": [
    "**¿Cómo invoco la función `greet1`?**"
   ]
  },
  {
   "cell_type": "code",
   "execution_count": 5,
   "metadata": {},
   "outputs": [
    {
     "name": "stdout",
     "output_type": "stream",
     "text": [
      "Hello, Andrés!\n"
     ]
    }
   ],
   "source": [
    "greet1(\"Andrés\")"
   ]
  },
  {
   "cell_type": "code",
   "execution_count": 9,
   "metadata": {},
   "outputs": [
    {
     "name": "stdout",
     "output_type": "stream",
     "text": [
      "Hello, Jose! Today is Wednesday.\n"
     ]
    }
   ],
   "source": [
    "def greet2(name: str, day: str) :\n",
    "    print(f\"Hello, {name}! Today is {day}.\")\n",
    "\n",
    "\n",
    "greet2(\"Jose\", \"Wednesday\")"
   ]
  },
  {
   "cell_type": "markdown",
   "metadata": {},
   "source": [
    "Como ya hemos dicho anteriormente, si llamamos a la función con un tipo que no es el que espera, Python hará el cambio de tipo automáticamente siempre que pueda"
   ]
  },
  {
   "cell_type": "code",
   "execution_count": 13,
   "metadata": {},
   "outputs": [
    {
     "name": "stdout",
     "output_type": "stream",
     "text": [
      "Hello, Jose! Today is 3.0.\n"
     ]
    }
   ],
   "source": [
    "greet2(\"Jose\", float(3)) # 3 es un número entero que lo estamos pasando como un float. De ahí que aparezca 3.0"
   ]
  },
  {
   "cell_type": "markdown",
   "metadata": {},
   "source": [
    "Se pueden indicar valores por defecto para los parámetros:"
   ]
  },
  {
   "cell_type": "code",
   "execution_count": 17,
   "metadata": {},
   "outputs": [
    {
     "name": "stdout",
     "output_type": "stream",
     "text": [
      "Hello, Jose! Today is Wednesday.\n",
      "Hello, Pedro! Today is Monday.\n"
     ]
    }
   ],
   "source": [
    "def greet3(name, day = \"Monday\") :\n",
    "    print(f\"Hello, {name}! Today is {day}.\")\n",
    "\n",
    "\n",
    "greet3(\"Jose\", \"Wednesday\")\n",
    "greet3(\"Pedro\")"
   ]
  },
  {
   "cell_type": "markdown",
   "metadata": {},
   "source": [
    "Es muy habitual que las funciones devuelvan valores. Normalmente usando la palabra reservada **return** la función devolvería los valores. Además se puede definir qué tipos se van a devolver, para esto se expresa con la \"flecha\" `->`. A continuación vamos a hacer una nueva versión de la función de saludo que devuelva el `String` en lugar de imprimirlo:"
   ]
  },
  {
   "cell_type": "code",
   "execution_count": 5,
   "metadata": {},
   "outputs": [
    {
     "name": "stdout",
     "output_type": "stream",
     "text": [
      "Hello, Pedro! Today is Monday.\n"
     ]
    }
   ],
   "source": [
    "def greeting(name:str, day:str = \"Monday\") -> str:\n",
    "    return f\"Hello, {name}! Today is {day}.\"\n",
    "\n",
    "\n",
    "print(greeting(\"Pedro\"))"
   ]
  },
  {
   "cell_type": "code",
   "execution_count": 22,
   "metadata": {},
   "outputs": [],
   "source": [
    "theGreeting = greeting(\"Pedro\")"
   ]
  },
  {
   "cell_type": "code",
   "execution_count": 23,
   "metadata": {},
   "outputs": [
    {
     "name": "stdout",
     "output_type": "stream",
     "text": [
      "Hello, Pedro! Today is Monday.\n"
     ]
    }
   ],
   "source": [
    "print(theGreeting)"
   ]
  },
  {
   "cell_type": "code",
   "execution_count": 24,
   "metadata": {},
   "outputs": [
    {
     "name": "stdout",
     "output_type": "stream",
     "text": [
      "Hello, Pedro! Today is Monday.\n"
     ]
    }
   ],
   "source": [
    "print(greeting(\"Pedro\"))"
   ]
  },
  {
   "cell_type": "markdown",
   "metadata": {},
   "source": [
    "En los ejemplos anteriores hemos \"llamado\" (invocado) a las funciones utilizando valores literales (datos concretos, como la cadena \"Pedro\"). Naturalmente, podemos invocar una función enviándole una variable que contenga un valor."
   ]
  },
  {
   "cell_type": "code",
   "execution_count": 38,
   "metadata": {},
   "outputs": [
    {
     "name": "stdout",
     "output_type": "stream",
     "text": [
      "Hello, Peter! Today is Monday.\r\n"
     ]
    }
   ],
   "source": [
    "oneName = \"Peter\"\n",
    "print(greeting(oneName))"
   ]
  },
  {
   "cell_type": "markdown",
   "metadata": {},
   "source": [
    "* Asignamos a la variable `oneName` el valor `\"Peter\"`.\n",
    "* Cuando llamamos a la función `greeting`, el valor de `oneName` se copia en el valor del parámetro `name` de la función.\n",
    "* En la función utilizamos `name`, que es el nombre en el que se nos envía el dato. **No debemos usar `oneName` desde dentro de la función**, pues entonces sólo serviría para ese dato."
   ]
  },
  {
   "cell_type": "markdown",
   "metadata": {},
   "source": [
    "**Ejercicio F1**\n",
    "\n",
    "Escribe una función que calcule el cuadrado de un número entero. Dicha función debe complir la siguiente especificación:\n",
    "* Su nombre debe ser `square`.\n",
    "* Debe aceptar un único argumento llamado `number`, de tipo `Int`.\n",
    "* Debe devolver un `Int`, que será el cuadrado del número suministrado."
   ]
  },
  {
   "cell_type": "code",
   "execution_count": 39,
   "metadata": {},
   "outputs": [],
   "source": [
    "# Escribe aquí tu código\n",
    "\n",
    "\n"
   ]
  },
  {
   "cell_type": "markdown",
   "metadata": {},
   "source": [
    "Puedes utilizar la siguiente celda para comprabar si tu implementación es correcta:"
   ]
  },
  {
   "cell_type": "code",
   "execution_count": 5,
   "metadata": {},
   "outputs": [
    {
     "name": "stdout",
     "output_type": "stream",
     "text": [
      "4\n",
      "144\n",
      "1\n"
     ]
    }
   ],
   "source": [
    "print((2**2))  # 4\n",
    "print((12**2)) # 144\n",
    "print((1**2))  # 1"
   ]
  },
  {
   "cell_type": "markdown",
   "metadata": {},
   "source": [
    "Las funciones, técnicamente, sólo pueden devolver un único valor. Sin embargo, en Swift existe el tipo \"tupla\" que representa una secuencia de valores. Es válido que una función devuelva una tupla, que no es más que una lista de tipos entre paréntesis:"
   ]
  },
  {
   "cell_type": "code",
   "execution_count": 6,
   "metadata": {},
   "outputs": [
    {
     "name": "stdout",
     "output_type": "stream",
     "text": [
      "(21, 'Javier')\n"
     ]
    }
   ],
   "source": [
    "# Función que devuelve una tupla con dos valores\n",
    "def readPersonFromDatabase() :\n",
    "    return (21, \"Javier\")   # Siempre hay que poner las tuplas en paréntesis\n",
    "\n",
    "\n",
    "person = readPersonFromDatabase()\n",
    "print(person)"
   ]
  },
  {
   "cell_type": "markdown",
   "metadata": {},
   "source": [
    "¿Cómo accedemos a cada uno de los elementos de la tupla? Una forma es referirnos a los elementos por su posición, comenzando en el 0:"
   ]
  },
  {
   "cell_type": "code",
   "execution_count": 7,
   "metadata": {},
   "outputs": [
    {
     "name": "stdout",
     "output_type": "stream",
     "text": [
      "21\n"
     ]
    }
   ],
   "source": [
    "print(person[0])"
   ]
  },
  {
   "cell_type": "code",
   "execution_count": 8,
   "metadata": {},
   "outputs": [
    {
     "name": "stdout",
     "output_type": "stream",
     "text": [
      "Javier\n"
     ]
    }
   ],
   "source": [
    "print(person[1])"
   ]
  },
  {
   "cell_type": "code",
   "execution_count": 9,
   "metadata": {},
   "outputs": [
    {
     "name": "stdout",
     "output_type": "stream",
     "text": [
      "Age: 21, Name: Javier\n"
     ]
    }
   ],
   "source": [
    "print(f\"Age: {person[0]}, Name: {person[1]}\")"
   ]
  },
  {
   "cell_type": "markdown",
   "metadata": {},
   "source": [
    "----"
   ]
  },
  {
   "cell_type": "markdown",
   "metadata": {},
   "source": [
    "Las funciones pueden **anidarse** dentro de otras funciones. Una función anidada sólo es visible desde dentro de la función donde se encuentra. Esta es una forma retorcida de calcular el siguiente valor de un número entero:"
   ]
  },
  {
   "cell_type": "code",
   "execution_count": 11,
   "metadata": {},
   "outputs": [
    {
     "name": "stdout",
     "output_type": "stream",
     "text": [
      "5\n"
     ]
    }
   ],
   "source": [
    "def printIncrement(n):\n",
    "    def addOne(n):\n",
    "        return n + 1    \n",
    "    print(addOne(n))\n",
    "\n",
    "\n",
    "printIncrement(4)"
   ]
  },
  {
   "cell_type": "markdown",
   "metadata": {},
   "source": [
    "Las funciones también son **tipos de primer orden** (es decir, tipos como cualquier otro). Esto significa que una función puede aceptar como argumento o devolver otra función:"
   ]
  },
  {
   "cell_type": "code",
   "execution_count": 13,
   "metadata": {},
   "outputs": [
    {
     "name": "stdout",
     "output_type": "stream",
     "text": [
      "42\n"
     ]
    }
   ],
   "source": [
    "def makeIncrementer():\n",
    "    def addOne(n):\n",
    "        return n + 1    \n",
    "    return addOne\n",
    "\n",
    "incrementer = makeIncrementer()\n",
    "print(incrementer(41))"
   ]
  },
  {
   "cell_type": "code",
   "execution_count": 14,
   "metadata": {},
   "outputs": [
    {
     "data": {
      "text/plain": [
       "1"
      ]
     },
     "execution_count": 14,
     "metadata": {},
     "output_type": "execute_result"
    }
   ],
   "source": [
    "incrementer(0)"
   ]
  },
  {
   "cell_type": "code",
   "execution_count": 15,
   "metadata": {},
   "outputs": [
    {
     "name": "stdout",
     "output_type": "stream",
     "text": [
      "<class 'function'>\n"
     ]
    }
   ],
   "source": [
    "print(type(incrementer))"
   ]
  },
  {
   "cell_type": "markdown",
   "metadata": {},
   "source": [
    "`makeIncrementer()` devuelve **una función** (lo que se indica con los paréntesis en el resultado). Dicha función acepta como argumento un `Int`, y devuelve (`->`) otro `Int`."
   ]
  },
  {
   "cell_type": "markdown",
   "metadata": {},
   "source": [
    "Las funciones anidadas \"ven\" el contexto de la función donde fueron declaradas. Este contexto se \"arrastra\" con la función cuando ésta se devuelve. Observa cómo la función anidada `add` del siguiente ejemplo es capaz de hacer referencia al argumento `base` de la función `makeAdder`. Si llamamos a `makeAdder` con diferentes valores, obtendremos funciones que aplican la suma a esos números:"
   ]
  },
  {
   "cell_type": "code",
   "execution_count": 17,
   "metadata": {},
   "outputs": [
    {
     "name": "stdout",
     "output_type": "stream",
     "text": [
      "7\n",
      "10\n"
     ]
    }
   ],
   "source": [
    "def makeAdder( base):\n",
    "    x = 7\n",
    "    def add(n):\n",
    "        return base + n\n",
    "    \n",
    "    return add\n",
    "\n",
    "\n",
    "adder = makeAdder(5)\n",
    "print(adder(2))\n",
    "print(adder(5))"
   ]
  },
  {
   "cell_type": "code",
   "execution_count": 18,
   "metadata": {},
   "outputs": [
    {
     "name": "stdout",
     "output_type": "stream",
     "text": [
      "1\n",
      "4\n"
     ]
    }
   ],
   "source": [
    "decrementer = makeAdder(-1)\n",
    "print(decrementer(2))\n",
    "print(decrementer(5))"
   ]
  },
  {
   "cell_type": "markdown",
   "metadata": {},
   "source": [
    "Este tipo de funciones también se denominan _**closures**_, puesto que \"envuelven\" o capturan las variables del contexto donde se definen."
   ]
  },
  {
   "cell_type": "markdown",
   "metadata": {},
   "source": [
    "## Colecciones"
   ]
  },
  {
   "cell_type": "markdown",
   "metadata": {},
   "source": [
    "Además de las _tuplas_ que ya hemos visto, en Swift hay tres tipos agregados incorporados en la biblioteca estándar del lenguaje:\n",
    "* Listas\n",
    "* Sets\n",
    "* Diccionarios\n",
    "\n",
    "Estos tipos se conocen con el nombre genérico de _colecciones_, y su propósito es almacenar conjuntos de elementos."
   ]
  },
  {
   "cell_type": "markdown",
   "metadata": {},
   "source": [
    "### Listas"
   ]
  },
  {
   "cell_type": "markdown",
   "metadata": {},
   "source": [
    "Los arrays son secuencias de tipos homogéneos; es decir, los elementos que contienen son del mismo tipo. Su característica principal es la _indexación_: cada elemento tiene asociado un índice de _acceso directo_ mediante el que se puede acceder a su valor."
   ]
  },
  {
   "cell_type": "code",
   "execution_count": 37,
   "metadata": {},
   "outputs": [],
   "source": [
    "someOddNumbers = [7, 5, 3, 1]   # Array of Int, initialized with some values.\n",
    "aFewValues = []\n",
    "lessValues = list()"
   ]
  },
  {
   "cell_type": "code",
   "execution_count": 38,
   "metadata": {},
   "outputs": [
    {
     "name": "stdout",
     "output_type": "stream",
     "text": [
      "<class 'list'>\n"
     ]
    }
   ],
   "source": [
    "print(type(aFewValues))"
   ]
  },
  {
   "cell_type": "code",
   "execution_count": 39,
   "metadata": {},
   "outputs": [
    {
     "name": "stdout",
     "output_type": "stream",
     "text": [
      "<class 'list'>\n"
     ]
    }
   ],
   "source": [
    "print(type(someOddNumbers))"
   ]
  },
  {
   "cell_type": "markdown",
   "metadata": {},
   "source": [
    "La forma canónica de expresar el tipo de un array es `Array<TipoElemento>`, donde `TipoElemento` es el tipo de cada uno de los elementos que contiene el array. La notación `[TipoElemento]`, sin embargo, es muy común por su sencillez. Si deseamos introducir elementos en el array al mismo tiempo que lo declaramos, podemos hacerlo por enumeración como en el primer ejemplo de la celda anterior."
   ]
  },
  {
   "cell_type": "markdown",
   "metadata": {},
   "source": [
    "Algunas operaciones con arrays."
   ]
  },
  {
   "cell_type": "code",
   "execution_count": 5,
   "metadata": {},
   "outputs": [
    {
     "data": {
      "text/plain": [
       "7"
      ]
     },
     "execution_count": 5,
     "metadata": {},
     "output_type": "execute_result"
    }
   ],
   "source": [
    "someOddNumbers[0]           # Indexación"
   ]
  },
  {
   "cell_type": "code",
   "execution_count": 6,
   "metadata": {},
   "outputs": [
    {
     "data": {
      "text/plain": [
       "3"
      ]
     },
     "execution_count": 6,
     "metadata": {},
     "output_type": "execute_result"
    }
   ],
   "source": [
    "someOddNumbers[2]"
   ]
  },
  {
   "cell_type": "code",
   "execution_count": 7,
   "metadata": {},
   "outputs": [
    {
     "data": {
      "text/plain": [
       "4"
      ]
     },
     "execution_count": 7,
     "metadata": {},
     "output_type": "execute_result"
    }
   ],
   "source": [
    "len(someOddNumbers)"
   ]
  },
  {
   "cell_type": "code",
   "execution_count": 8,
   "metadata": {},
   "outputs": [
    {
     "data": {
      "text/plain": [
       "1"
      ]
     },
     "execution_count": 8,
     "metadata": {},
     "output_type": "execute_result"
    }
   ],
   "source": [
    "someOddNumbers[len(someOddNumbers)-1]"
   ]
  },
  {
   "cell_type": "code",
   "execution_count": 9,
   "metadata": {},
   "outputs": [
    {
     "name": "stdout",
     "output_type": "stream",
     "text": [
      "5\n"
     ]
    }
   ],
   "source": [
    "print(someOddNumbers[10])"
   ]
  },
  {
   "cell_type": "code",
   "execution_count": 10,
   "metadata": {},
   "outputs": [
    {
     "name": "stdout",
     "output_type": "stream",
     "text": [
      "[7, 5, 3, 1, 9]\n"
     ]
    }
   ],
   "source": [
    "someOddNumbers = someOddNumbers + [9]           # Append another array\n",
    "print(someOddNumbers)"
   ]
  },
  {
   "cell_type": "code",
   "execution_count": 11,
   "metadata": {},
   "outputs": [
    {
     "name": "stdout",
     "output_type": "stream",
     "text": [
      "[7, 5, 3, 1, 9, 11]\n"
     ]
    }
   ],
   "source": [
    "someOddNumbers.append(11)     # Append a single element. The array is mutated.\n",
    "print(someOddNumbers)"
   ]
  },
  {
   "cell_type": "code",
   "execution_count": 12,
   "metadata": {},
   "outputs": [
    {
     "data": {
      "text/plain": [
       "True"
      ]
     },
     "execution_count": 12,
     "metadata": {},
     "output_type": "execute_result"
    }
   ],
   "source": [
    "3 in someOddNumbers"
   ]
  },
  {
   "cell_type": "code",
   "execution_count": 13,
   "metadata": {},
   "outputs": [
    {
     "data": {
      "text/plain": [
       "0"
      ]
     },
     "execution_count": 13,
     "metadata": {},
     "output_type": "execute_result"
    }
   ],
   "source": [
    "someOddNumbers.count(2)"
   ]
  },
  {
   "cell_type": "code",
   "execution_count": 14,
   "metadata": {},
   "outputs": [
    {
     "name": "stdout",
     "output_type": "stream",
     "text": [
      "<class 'bool'>\n"
     ]
    }
   ],
   "source": [
    "print(type(True))"
   ]
  },
  {
   "cell_type": "code",
   "execution_count": 16,
   "metadata": {},
   "outputs": [
    {
     "data": {
      "text/plain": [
       "2"
      ]
     },
     "execution_count": 16,
     "metadata": {},
     "output_type": "execute_result"
    }
   ],
   "source": [
    "someOddNumbers.index(3)"
   ]
  },
  {
   "cell_type": "code",
   "execution_count": 17,
   "metadata": {},
   "outputs": [
    {
     "ename": "ValueError",
     "evalue": "2 is not in list",
     "output_type": "error",
     "traceback": [
      "\u001b[0;31m---------------------------------------------------------------------------\u001b[0m",
      "\u001b[0;31mValueError\u001b[0m                                Traceback (most recent call last)",
      "Input \u001b[0;32mIn [17]\u001b[0m, in \u001b[0;36m<cell line: 1>\u001b[0;34m()\u001b[0m\n\u001b[0;32m----> 1\u001b[0m \u001b[43msomeOddNumbers\u001b[49m\u001b[38;5;241;43m.\u001b[39;49m\u001b[43mindex\u001b[49m\u001b[43m(\u001b[49m\u001b[38;5;241;43m2\u001b[39;49m\u001b[43m)\u001b[49m\n",
      "\u001b[0;31mValueError\u001b[0m: 2 is not in list"
     ]
    }
   ],
   "source": [
    "someOddNumbers.index(2)"
   ]
  },
  {
   "cell_type": "markdown",
   "metadata": {},
   "source": [
    "`nil` es un valor especial. En este caso significa que no hay ningún elemento con el valor que estamos buscando, por lo que el índice es \"nulo\". Próximamente veremos más sobre `nil` y su relación con `Optional`, que aparece en la celda anterior."
   ]
  },
  {
   "cell_type": "code",
   "execution_count": 18,
   "metadata": {},
   "outputs": [
    {
     "name": "stdout",
     "output_type": "stream",
     "text": [
      "[7, 5, 3, 1, 9, 11, 7, 5, 3, 1, 9, 11]\n"
     ]
    }
   ],
   "source": [
    "print(someOddNumbers + someOddNumbers)"
   ]
  },
  {
   "cell_type": "markdown",
   "metadata": {},
   "source": [
    "Los elementos pueden estar repetidos."
   ]
  },
  {
   "cell_type": "markdown",
   "metadata": {},
   "source": [
    "Generalmente se dice que el array es una estructura de datos _ordenada_. Esta ordenación **no** se refiere a los elementos que contiene, sino a que cada uno va detrás del otro de manera determinística, según el orden en que los hemos ido colocando al rellenar el array."
   ]
  },
  {
   "cell_type": "markdown",
   "metadata": {},
   "source": [
    "`var` y `let` son muy relevantes. Un array declarado con `let` es inmutable."
   ]
  },
  {
   "cell_type": "code",
   "execution_count": 19,
   "metadata": {},
   "outputs": [
    {
     "name": "stdout",
     "output_type": "stream",
     "text": [
      "[1, 2, 3]\n"
     ]
    }
   ],
   "source": [
    "x = [1, 2]\n",
    "x.append(3)\n",
    "print (x)"
   ]
  },
  {
   "cell_type": "markdown",
   "metadata": {},
   "source": [
    "----"
   ]
  },
  {
   "cell_type": "markdown",
   "metadata": {},
   "source": [
    "Iteración"
   ]
  },
  {
   "cell_type": "code",
   "execution_count": 23,
   "metadata": {},
   "outputs": [
    {
     "name": "stdout",
     "output_type": "stream",
     "text": [
      "7 14\n",
      "5 10\n",
      "3 6\n",
      "1 2\n",
      "9 18\n",
      "11 22\n"
     ]
    }
   ],
   "source": [
    "for v in someOddNumbers:\n",
    "    print(v, v * 2)\n"
   ]
  },
  {
   "cell_type": "code",
   "execution_count": 29,
   "metadata": {},
   "outputs": [
    {
     "name": "stdout",
     "output_type": "stream",
     "text": [
      "[7, 5, 3, 1, 9, 11]\n",
      "11 22\n",
      "9 18\n",
      "1 2\n",
      "3 6\n",
      "5 10\n",
      "7 14\n"
     ]
    }
   ],
   "source": [
    "print (someOddNumbers)\n",
    "someOddNumbers.reverse()\n",
    "for v in someOddNumbers:\n",
    "    print(v, v * 2)"
   ]
  },
  {
   "cell_type": "code",
   "execution_count": 31,
   "metadata": {},
   "outputs": [
    {
     "name": "stdout",
     "output_type": "stream",
     "text": [
      "1 2\n",
      "3 6\n",
      "5 10\n",
      "7 14\n",
      "9 18\n",
      "11 22\n"
     ]
    }
   ],
   "source": [
    "for v in sorted(someOddNumbers):\n",
    "    print(v, v * 2)\n"
   ]
  },
  {
   "cell_type": "code",
   "execution_count": 32,
   "metadata": {},
   "outputs": [
    {
     "name": "stdout",
     "output_type": "stream",
     "text": [
      "[1, 3, 5, 7, 9, 11]\n"
     ]
    }
   ],
   "source": [
    "print(sorted(someOddNumbers))\n",
    "\n",
    "\n"
   ]
  },
  {
   "cell_type": "markdown",
   "metadata": {},
   "source": [
    "----"
   ]
  },
  {
   "cell_type": "markdown",
   "metadata": {},
   "source": [
    "**Ejercicio A1**\n",
    "\n",
    "Escribe una función que reciba como parámetro un array de números enteros, y devuelva la suma de los mismos."
   ]
  },
  {
   "cell_type": "code",
   "execution_count": 41,
   "metadata": {},
   "outputs": [],
   "source": [
    "# Escribe aquí tu código\n",
    "def sumaEnteros(numeros):\n",
    "    suma = 0\n",
    "    for n in numeros:\n",
    "        suma = suma + n\n",
    "    return suma\n",
    "    \n",
    "\n",
    "\n"
   ]
  },
  {
   "cell_type": "markdown",
   "metadata": {},
   "source": [
    "Si tu función está bien, las siguientes celdas darán el resultado esperado:"
   ]
  },
  {
   "cell_type": "code",
   "execution_count": 42,
   "metadata": {},
   "outputs": [
    {
     "name": "stdout",
     "output_type": "stream",
     "text": [
      "6\n"
     ]
    }
   ],
   "source": [
    "print(sumaEnteros([1, 2, 3]))   # 6"
   ]
  },
  {
   "cell_type": "code",
   "execution_count": 43,
   "metadata": {},
   "outputs": [
    {
     "name": "stdout",
     "output_type": "stream",
     "text": [
      "0\n"
     ]
    }
   ],
   "source": [
    "print(sumaEnteros([-1, 0, 1]))  # 0"
   ]
  },
  {
   "cell_type": "markdown",
   "metadata": {},
   "source": [
    "**Ejercicio A2**\n",
    "\n",
    "Escribe una función que reciba como parámetro un array de números enteros, y devuelva su media como un `float`."
   ]
  },
  {
   "cell_type": "code",
   "execution_count": 9,
   "metadata": {},
   "outputs": [],
   "source": [
    "# Escribe aquí tu código\n",
    "\n",
    "\n"
   ]
  },
  {
   "cell_type": "code",
   "execution_count": 10,
   "metadata": {},
   "outputs": [
    {
     "name": "stdout",
     "output_type": "stream",
     "text": [
      "2.0\r\n"
     ]
    }
   ],
   "source": [
    "print(mediaEnteros(numeros: [1, 2, 3]))   # 2.0"
   ]
  },
  {
   "cell_type": "code",
   "execution_count": 11,
   "metadata": {},
   "outputs": [
    {
     "name": "stdout",
     "output_type": "stream",
     "text": [
      "3.5\r\n"
     ]
    }
   ],
   "source": [
    "print(mediaEnteros(numeros: [1, 2, 3, 4, 5, 6]))   # 3.5"
   ]
  },
  {
   "cell_type": "markdown",
   "metadata": {},
   "source": [
    "**Ejercicio A3**\n",
    "\n",
    "Escribe una función que reciba como parámetro un array de números enteros, y devuelva el elemento que tiene el valor máximo.\n",
    "\n",
    "_Nota_: posiblemente tengas que usar `if` para comparar valores. Su funcionamiento es muy parecido al de otros lenguajes de programación.\n",
    "\n",
    "_Nota_: llama a la función `myMax`, porque `max` ya está definido en Python."
   ]
  },
  {
   "cell_type": "code",
   "execution_count": 48,
   "metadata": {},
   "outputs": [
    {
     "name": "stdout",
     "output_type": "stream",
     "text": [
      "2\n"
     ]
    }
   ],
   "source": [
    "print(max(1,2))"
   ]
  },
  {
   "cell_type": "code",
   "execution_count": 49,
   "metadata": {},
   "outputs": [],
   "source": [
    "# Escribe aquí tu código\n",
    "\n",
    "\n",
    "\n"
   ]
  },
  {
   "cell_type": "code",
   "execution_count": 50,
   "metadata": {},
   "outputs": [
    {
     "ename": "NameError",
     "evalue": "name 'myMax' is not defined",
     "output_type": "error",
     "traceback": [
      "\u001b[0;31m---------------------------------------------------------------------------\u001b[0m",
      "\u001b[0;31mNameError\u001b[0m                                 Traceback (most recent call last)",
      "Input \u001b[0;32mIn [50]\u001b[0m, in \u001b[0;36m<cell line: 1>\u001b[0;34m()\u001b[0m\n\u001b[0;32m----> 1\u001b[0m \u001b[38;5;28mprint\u001b[39m(\u001b[43mmyMax\u001b[49m([\u001b[38;5;241m6\u001b[39m, \u001b[38;5;241m0\u001b[39m, \u001b[38;5;241m-\u001b[39m\u001b[38;5;241m7\u001b[39m, \u001b[38;5;241m1\u001b[39m, \u001b[38;5;241m9\u001b[39m, \u001b[38;5;241m2\u001b[39m]))\n",
      "\u001b[0;31mNameError\u001b[0m: name 'myMax' is not defined"
     ]
    }
   ],
   "source": [
    "print(myMax([6, 0, -7, 1, 9, 2]))   # 9"
   ]
  },
  {
   "cell_type": "code",
   "execution_count": null,
   "metadata": {},
   "outputs": [],
   "source": []
  },
  {
   "cell_type": "markdown",
   "metadata": {},
   "source": [
    "En el caso de las variables que almacenan valores primitivos \"normales\", como `Int` o `String`, si asigno una variable a otra se duplica el contenido. En cambio con las listas no es lo mismo, si asigno un lista a una variable o lo envío como parámetro a una función, las dos variables apuntan a la misma dirección de memoria.  \n",
    "\n",
    "Ejemplo:"
   ]
  },
  {
   "cell_type": "markdown",
   "metadata": {},
   "source": [
    "Si creamos una variable de tipo lista con un conjunto de datos lo que se produce es lo siguiente:\n",
    "<img src=imagenes/imagen1.png>\n",
    "\n",
    "Cuando asignamos la variable **colors** a **b** (b = colors) se produce lo siguiente:\n",
    "<img src=imagenes/imagen2.png>\n",
    "\n",
    "\n",
    "Ejemplo de código:"
   ]
  },
  {
   "cell_type": "code",
   "execution_count": 51,
   "metadata": {},
   "outputs": [
    {
     "name": "stdout",
     "output_type": "stream",
     "text": [
      "Array modificado: [1, 2, 3, 4]\n",
      "Array original: [1, 2, 3, 4]\n"
     ]
    }
   ],
   "source": [
    "unArray = [1, 2, 3]    # Declaro con `var` para poder modificar\n",
    "otroArray = unArray    # Asigno a otra variable (funcionaría igual al llamar a una función)\n",
    "otroArray.append(4)        # Añado un elemento\n",
    "\n",
    "print(f\"Array modificado: {otroArray}\")\n",
    "print(f\"Array original: {unArray}\")"
   ]
  },
  {
   "cell_type": "code",
   "execution_count": null,
   "metadata": {},
   "outputs": [],
   "source": []
  },
  {
   "cell_type": "markdown",
   "metadata": {},
   "source": [
    "### Diccionarios"
   ]
  },
  {
   "cell_type": "markdown",
   "metadata": {},
   "source": [
    "Los diccionarios, que en otros lenguajes pueden tener otros nombres como _mapas_ o _arrays asociativos_, son un conjunto de parejas _**nombre**_ y _**valor**_. El _nombre_ es usualmente un String, pero no tiene por qué. Por este motivo se le llama generalmente **`clave`** en lugar de _nombre_.\n",
    "\n",
    "Los diccionarios se utilizan muchísimo para relacionar datos entre sí. Por ejemplo, en una aplicación de contactos, la _clave_ podría ser el nombre de la persona y el _valor_ su número de teléfono. Un sistema de DNS podría implementarse también con un gran diccionario: a cada nombre de servidor se le asocia su dirección IP. Para crear un diccionario vacío podemos usar varios métodos"
   ]
  },
  {
   "cell_type": "code",
   "execution_count": 9,
   "metadata": {},
   "outputs": [
    {
     "name": "stdout",
     "output_type": "stream",
     "text": [
      "<class 'dict'> <class 'dict'>\n"
     ]
    }
   ],
   "source": [
    " dns = {}\n",
    " other_dns = dict ()\n",
    " print (type(dns), type(other_dns))"
   ]
  },
  {
   "cell_type": "markdown",
   "metadata": {},
   "source": [
    "Si suponemos que ambos datos (nombre de servidor y dirección IP) fueran Strings, declararíamos el tipo del diccionario correspondiente así:"
   ]
  },
  {
   "cell_type": "code",
   "execution_count": 10,
   "metadata": {},
   "outputs": [],
   "source": [
    "dns[\"www.urjc.es\"] = \"212.128.240.50\"\n",
    "dns[\"google.com\"] = \"172.217.17.14\"\n",
    "dns[\"stanford.edu\"] = \"171.67.215.200\""
   ]
  },
  {
   "cell_type": "code",
   "execution_count": 11,
   "metadata": {},
   "outputs": [
    {
     "name": "stdout",
     "output_type": "stream",
     "text": [
      "172.217.17.14\n"
     ]
    }
   ],
   "source": [
    "print(dns[\"google.com\"])"
   ]
  },
  {
   "cell_type": "markdown",
   "metadata": {},
   "source": [
    "No hay ningún orden asociado a las claves. Podemos iterar por un diccionario, pero nos llegarán los resultados en un orden arbitrario. Lo único que se garantiza es que este orden será el mismo mientras no hagamos modificaciones en el diccionario.\n",
    "\n",
    "La iteración devuelve _tuplas_ con las claves y los valores:"
   ]
  },
  {
   "cell_type": "code",
   "execution_count": 28,
   "metadata": {},
   "outputs": [
    {
     "name": "stdout",
     "output_type": "stream",
     "text": [
      "www.urjc.es => 212.128.240.50\n",
      "google.com => 172.217.17.14\n",
      "stanford.edu => 171.67.215.200\n"
     ]
    }
   ],
   "source": [
    "def printDnsDictionary(dns):\n",
    "    for key, value in dns.items():\n",
    "        print(f\"{key} => {value}\")\n",
    "    \n",
    "\n",
    "printDnsDictionary(dns)"
   ]
  },
  {
   "cell_type": "markdown",
   "metadata": {},
   "source": [
    "Las operaciones básicas en diccionarios son:\n",
    "* Añadir pares clave-valor. Se modifican los valores anteriores en caso de repetición de la clave.\n",
    "* Consultar el valor asociado a una clave. \n",
    "* Eliminar elementos, que veremos a continuación."
   ]
  },
  {
   "cell_type": "code",
   "execution_count": 29,
   "metadata": {},
   "outputs": [
    {
     "name": "stdout",
     "output_type": "stream",
     "text": [
      "www.urjc.es => 212.128.240.50\n",
      "stanford.edu => 171.67.215.200\n"
     ]
    }
   ],
   "source": [
    "dns.pop(\"google.com\")\n",
    "\n",
    "printDnsDictionary(dns)\n"
   ]
  },
  {
   "cell_type": "markdown",
   "metadata": {},
   "source": []
  },
  {
   "cell_type": "markdown",
   "metadata": {},
   "source": [
    "(Inciso: en estos notebooks se pueden obtener sugerencias si no sabemos o no recordamos cómo se llama una propiedad. Por ejemplo, si escribimos `dns.p` y pulsamos la tecla tabulador, veremos una lista de sugerencias). Por ejemplo,  no sólo se muestra la opción pop, sino popitem que devuelve el valor se puede e\n"
   ]
  },
  {
   "cell_type": "markdown",
   "metadata": {},
   "source": [
    "Como hemos indicado, el tipo de las claves y el tipo de los valores asociados a esas claves no tienen por qué coincidir."
   ]
  },
  {
   "cell_type": "code",
   "execution_count": 33,
   "metadata": {},
   "outputs": [
    {
     "name": "stdout",
     "output_type": "stream",
     "text": [
      "{'David': 40}\n"
     ]
    }
   ],
   "source": [
    "ages = {\"Manuel\":30} # Forma de definir el primer elemento de un diccionario\n",
    "ages[\"Pablo\"] = 25\n",
    "ages[\"Javier\"] = 20\n",
    "\n",
    "print (ages)"
   ]
  },
  {
   "cell_type": "markdown",
   "metadata": {},
   "source": [
    "En este caso la clave es un `String` y el valor asociado a cada una es un `Int`."
   ]
  },
  {
   "cell_type": "markdown",
   "metadata": {},
   "source": [
    "Podemos, incluso, asociar \"varios\" valores usando tuplas u otros tipos agregados."
   ]
  },
  {
   "cell_type": "code",
   "execution_count": 21,
   "metadata": {},
   "outputs": [],
   "source": [
    "contacts = {}"
   ]
  },
  {
   "cell_type": "code",
   "execution_count": 22,
   "metadata": {},
   "outputs": [],
   "source": [
    "contacts[\"Pablo\"] = [25, \"pablo@xxxxx.com\"]\n",
    "contacts[\"Javier\"] = [20, \"javier@yyyyy.com\"]"
   ]
  },
  {
   "cell_type": "code",
   "execution_count": 30,
   "metadata": {},
   "outputs": [
    {
     "name": "stdout",
     "output_type": "stream",
     "text": [
      "Pablo is 25 years old and can be contacted at pablo@xxxxx.com.\n",
      "Javier is 20 years old and can be contacted at javier@yyyyy.com.\n"
     ]
    }
   ],
   "source": [
    "for (name, (age, email)) in contacts.items():\n",
    "    print(f\"{name} is {age} years old and can be contacted at {email}.\")\n"
   ]
  },
  {
   "cell_type": "markdown",
   "metadata": {},
   "source": [
    "La enumeración `for ... in` devuelve una tupla de dos elementos: el primero es la clave y el segundo el valor. En este caso, el valor es _otra tupla_ con la edad y la dirección de correo electrónico."
   ]
  },
  {
   "cell_type": "markdown",
   "metadata": {},
   "source": [
    "### Sets"
   ]
  },
  {
   "cell_type": "markdown",
   "metadata": {},
   "source": [
    "Los `sets` o conjuntos son, como los arrays, secuencias homogéneas de valores. Se diferencian de ellos en:\n",
    "* No pueden contener elementos repetidos.\n",
    "* No existe un índice de posición asociado a cada elemento. Si iteramos un Set podemos obtener valores en cualquier orden.\n",
    "\n",
    "Los sets se utilizan mucho menos que los arrays, pero son muy útiles cuando queremos garantizar que los elementos sean únicos."
   ]
  },
  {
   "cell_type": "code",
   "execution_count": 67,
   "metadata": {},
   "outputs": [],
   "source": [
    "x = set([1, 2, 3])"
   ]
  },
  {
   "cell_type": "code",
   "execution_count": 68,
   "metadata": {},
   "outputs": [
    {
     "name": "stdout",
     "output_type": "stream",
     "text": [
      "{1, 2, 3}\n"
     ]
    }
   ],
   "source": [
    "print(x)"
   ]
  },
  {
   "cell_type": "code",
   "execution_count": 69,
   "metadata": {},
   "outputs": [],
   "source": [
    "knownOddNumbers = set(someOddNumbers)"
   ]
  },
  {
   "cell_type": "code",
   "execution_count": 70,
   "metadata": {},
   "outputs": [
    {
     "name": "stdout",
     "output_type": "stream",
     "text": [
      "{1, 3, 5, 7}\n"
     ]
    }
   ],
   "source": [
    "print(knownOddNumbers)"
   ]
  },
  {
   "cell_type": "code",
   "execution_count": 71,
   "metadata": {},
   "outputs": [
    {
     "name": "stdout",
     "output_type": "stream",
     "text": [
      "5\n"
     ]
    }
   ],
   "source": [
    "knownOddNumbers.add(11)\n",
    "print(len(knownOddNumbers))"
   ]
  },
  {
   "cell_type": "code",
   "execution_count": 72,
   "metadata": {},
   "outputs": [],
   "source": [
    "def findDuplicates(names):\n",
    "    uniqueNames = set()\n",
    "    duplicates = set()\n",
    "    for name in names:\n",
    "        if name in uniqueNames:\n",
    "            duplicates.add(name)\n",
    "        else:\n",
    "            uniqueNames.add(name)    \n",
    "    return duplicates"
   ]
  },
  {
   "cell_type": "code",
   "execution_count": 73,
   "metadata": {},
   "outputs": [
    {
     "name": "stdout",
     "output_type": "stream",
     "text": [
      "{'ana', 'pablo'}\n"
     ]
    }
   ],
   "source": [
    "print(findDuplicates([\"pedro\", \"ana\", \"javier\", \"ana\", \"ana\", \"pablo\", \"pablo\"]))"
   ]
  },
  {
   "cell_type": "markdown",
   "metadata": {},
   "source": [
    "------"
   ]
  },
  {
   "cell_type": "markdown",
   "metadata": {},
   "source": [
    "**Ejercicio 1**\n",
    "\n",
    "Escribe una función que acepte como parámetro de entrada una lista de `String`s, y devuelva los nombres únicos que figuran en la lista, sin ningún orden en particular.\n",
    "\n",
    "Escribe el código necesario para comprobar que funciona correctamente.\n",
    "\n",
    "Utiliza nombres sensatos para la función y las variables que utilices."
   ]
  },
  {
   "cell_type": "markdown",
   "metadata": {},
   "source": [
    "**Versión 1**: utilizando la función `findDuplicates` definida antes. Como ya la tenemos hecha y esta suena que puede ser parecida, probamos a reutilizar y adaptar el código:"
   ]
  },
  {
   "cell_type": "code",
   "execution_count": 39,
   "metadata": {},
   "outputs": [
    {
     "name": "stdout",
     "output_type": "stream",
     "text": [
      "[\"ana\", \"pablo\", \"javier\", \"pedro\"]\r\n"
     ]
    }
   ],
   "source": [
    "def findUnique(_ names: [String]) -> Set<String> {\n",
    "    var uniqueNames: Set<String> = []\n",
    "    var duplicates: Set<String> = []\n",
    "    for name in names {\n",
    "        if uniqueNames.contains(name) {\n",
    "            duplicates.insert(name)\n",
    "        }\n",
    "        uniqueNames.insert(name)\n",
    "    }\n",
    "    return uniqueNames\n",
    "}\n",
    "\n",
    "print(findUnique([\"pedro\", \"ana\", \"javier\", \"ana\", \"ana\", \"pablo\", \"pablo\"]))"
   ]
  },
  {
   "cell_type": "markdown",
   "metadata": {},
   "source": [
    "Ya está? No, porque se puede simplificar. Ya tenemos una versión que funciona, lo cual es importante, pero no necesitamos el `Set` donde vamos guardando los duplicados, así que lo quitamos."
   ]
  },
  {
   "cell_type": "markdown",
   "metadata": {},
   "source": [
    "**Versión 2**: eliminamos la variable `duplicates`, que ahora no nos hace falta."
   ]
  },
  {
   "cell_type": "code",
   "execution_count": 74,
   "metadata": {},
   "outputs": [
    {
     "name": "stdout",
     "output_type": "stream",
     "text": [
      "{'ana', 'pedro', 'javier', 'pablo'}\n"
     ]
    }
   ],
   "source": [
    "def findUnique( names):\n",
    "    uniqueNames = set()\n",
    "    for name in names:\n",
    "        uniqueNames.add(name)    \n",
    "    return uniqueNames\n",
    "\n",
    "\n",
    "print(findUnique([\"pedro\", \"ana\", \"javier\", \"ana\", \"ana\", \"pablo\", \"pablo\"]))"
   ]
  },
  {
   "cell_type": "markdown",
   "metadata": {},
   "source": [
    "Funciona igual pero con menos líneas de código, así que esta versión es mejor.\n",
    "\n",
    "Pero antes hemos visto que podemos hacer un `Set` directamente partiendo de un array, vamos a probarlo."
   ]
  },
  {
   "cell_type": "markdown",
   "metadata": {},
   "source": [
    "**Versión 3**: Creamos el `Set` directamente, sin iterar."
   ]
  },
  {
   "cell_type": "code",
   "execution_count": 76,
   "metadata": {},
   "outputs": [
    {
     "name": "stdout",
     "output_type": "stream",
     "text": [
      "{'ana', 'pedro', 'javier', 'pablo'}\n"
     ]
    }
   ],
   "source": [
    "def findUnique(names):\n",
    "    uniqueNames = set(names)\n",
    "    return uniqueNames\n",
    "\n",
    "print(findUnique([\"pedro\", \"ana\", \"javier\", \"ana\", \"ana\", \"pablo\", \"pablo\"]))"
   ]
  },
  {
   "cell_type": "markdown",
   "metadata": {},
   "source": [
    "Una última simplificación: como estamos creando la variable `uniqueNames` para devolverla justo en la línea siguiente, en este caso podemos hacerlo todo en la misma línea sin perder claridad:"
   ]
  },
  {
   "cell_type": "markdown",
   "metadata": {},
   "source": [
    "**Versión 4**: Una única linea de código."
   ]
  },
  {
   "cell_type": "code",
   "execution_count": 83,
   "metadata": {},
   "outputs": [
    {
     "name": "stdout",
     "output_type": "stream",
     "text": [
      "{'ana', 'pedro', 'javier', 'pablo'}\n",
      "<class 'set'>\n"
     ]
    }
   ],
   "source": [
    "def findUnique(names):\n",
    "    return set(names)\n",
    "\n",
    "print(findUnique([\"pedro\", \"ana\", \"javier\", \"ana\", \"ana\", \"pablo\", \"pablo\"]))\n",
    "print (type(findUnique([\"pedro\", \"ana\", \"javier\", \"ana\", \"ana\", \"pablo\", \"pablo\"])))"
   ]
  },
  {
   "cell_type": "markdown",
   "metadata": {},
   "source": [
    "Lo habitual en este tipo de funciones de _filtrado_ o _transformación_ es devolver el mismo tipo de dato que nos suministraron como entrada. En nuestro caso, partíamos de una `lista` pero estamos devolviendo un `Set`. Vamos a ajustarlo:"
   ]
  },
  {
   "cell_type": "markdown",
   "metadata": {},
   "source": [
    "**Versión 5**: Devolvemos el mismo tipo de dato que el argumento."
   ]
  },
  {
   "cell_type": "code",
   "execution_count": 85,
   "metadata": {},
   "outputs": [
    {
     "name": "stdout",
     "output_type": "stream",
     "text": [
      "['ana', 'pedro', 'javier', 'pablo']\n",
      "<class 'list'>\n"
     ]
    }
   ],
   "source": [
    "# Note: this version returns an Array instead of a Set\n",
    "def findUnique(names):\n",
    "    return list(set(names))\n",
    "\n",
    "print(findUnique([\"pedro\", \"ana\", \"javier\", \"ana\", \"ana\", \"pablo\", \"pablo\"]))\n",
    "print (type(findUnique([\"pedro\", \"ana\", \"javier\", \"ana\", \"ana\", \"pablo\", \"pablo\"])))"
   ]
  },
  {
   "cell_type": "markdown",
   "metadata": {},
   "source": [
    "**Importante**: observa cómo _siempre_ hemos partido de una versión que funciona (hemos hecho un _test_ que lo verifica), y después de cada modificación probamos que nuestro test sigue funcionando.\n",
    "\n",
    "Este mecanismo podemos generalizarlo e incluso podemos pensar en crear el test **antes** del código. Elaborar el test nos ayuda a pensar cómo tiene que funcionar el código, y nos permite tener una prueba sobre la que poder ir trabajando y verificar qué casos funcionan y cuáles no.\n",
    "\n",
    "Este método de trabajo se conoce como **test-driven-development**."
   ]
  },
  {
   "cell_type": "markdown",
   "metadata": {},
   "source": [
    "**Ejercicio 2**\n",
    "\n",
    "Implementa un contador.\n",
    "\n",
    "Escribe una función que acepte como parámetro de entrada una lista de `String`s, y devuelva como salida un diccionario cuyas claves serán los elementos (únicos) de la lista, y cuyos valores serán el número de veces que se repiten en la lista.\n",
    "\n",
    "Escribe el código necesario para comprobar que funciona correctamente.\n",
    "\n",
    "Utiliza nombres sensatos para la función y las variables que utilices."
   ]
  },
  {
   "cell_type": "markdown",
   "metadata": {},
   "source": [
    "Empezamos con algo sencillo, aunque esté mal."
   ]
  },
  {
   "cell_type": "code",
   "execution_count": 88,
   "metadata": {},
   "outputs": [
    {
     "name": "stdout",
     "output_type": "stream",
     "text": [
      "{'pedro': 1, 'ana': 1, 'javier': 1, 'pablo': 1}\n"
     ]
    }
   ],
   "source": [
    "def countNames(names):\n",
    "    counter = dict()\n",
    "    for name in names: \n",
    "        counter[name] = 1\n",
    "    \n",
    "    return counter\n",
    "\n",
    "print(countNames([\"pedro\", \"ana\", \"javier\", \"ana\", \"ana\", \"pablo\", \"pablo\"]))"
   ]
  },
  {
   "cell_type": "markdown",
   "metadata": {},
   "source": [
    "Ok, ahora sólo tenemos que sumar uno al valor que hubiera antes, si había alguno. Vamos a intentarlo:"
   ]
  },
  {
   "cell_type": "code",
   "execution_count": 89,
   "metadata": {},
   "outputs": [
    {
     "name": "stdout",
     "output_type": "stream",
     "text": [
      "{'ana': 3, 'pedro': 1, 'javier': 1, 'pablo': 2}\n"
     ]
    }
   ],
   "source": [
    "def countNames(names):\n",
    "    counter = dict()\n",
    "    uniqueNames = set(names)\n",
    "    for name in uniqueNames:\n",
    "        cuenta = 0\n",
    "        for comparador in names:\n",
    "            if name == comparador:\n",
    "                cuenta = cuenta + 1           \n",
    "        counter[name] = cuenta\n",
    "    return counter\n",
    "\n",
    "print(countNames([\"pedro\", \"ana\", \"javier\", \"ana\", \"ana\", \"pablo\", \"pablo\"]))"
   ]
  },
  {
   "cell_type": "code",
   "execution_count": 90,
   "metadata": {},
   "outputs": [
    {
     "ename": "KeyError",
     "evalue": "'pedro'",
     "output_type": "error",
     "traceback": [
      "\u001b[0;31m---------------------------------------------------------------------------\u001b[0m",
      "\u001b[0;31mKeyError\u001b[0m                                  Traceback (most recent call last)",
      "Input \u001b[0;32mIn [90]\u001b[0m, in \u001b[0;36m<cell line: 7>\u001b[0;34m()\u001b[0m\n\u001b[1;32m      4\u001b[0m         counter[name] \u001b[38;5;241m=\u001b[39m counter[name] \u001b[38;5;241m+\u001b[39m \u001b[38;5;241m1\u001b[39m    \n\u001b[1;32m      5\u001b[0m     \u001b[38;5;28;01mreturn\u001b[39;00m counter\n\u001b[0;32m----> 7\u001b[0m \u001b[38;5;28mprint\u001b[39m(\u001b[43mcountNames\u001b[49m\u001b[43m(\u001b[49m\u001b[43m[\u001b[49m\u001b[38;5;124;43m\"\u001b[39;49m\u001b[38;5;124;43mpedro\u001b[39;49m\u001b[38;5;124;43m\"\u001b[39;49m\u001b[43m,\u001b[49m\u001b[43m \u001b[49m\u001b[38;5;124;43m\"\u001b[39;49m\u001b[38;5;124;43mana\u001b[39;49m\u001b[38;5;124;43m\"\u001b[39;49m\u001b[43m,\u001b[49m\u001b[43m \u001b[49m\u001b[38;5;124;43m\"\u001b[39;49m\u001b[38;5;124;43mjavier\u001b[39;49m\u001b[38;5;124;43m\"\u001b[39;49m\u001b[43m,\u001b[49m\u001b[43m \u001b[49m\u001b[38;5;124;43m\"\u001b[39;49m\u001b[38;5;124;43mana\u001b[39;49m\u001b[38;5;124;43m\"\u001b[39;49m\u001b[43m,\u001b[49m\u001b[43m \u001b[49m\u001b[38;5;124;43m\"\u001b[39;49m\u001b[38;5;124;43mana\u001b[39;49m\u001b[38;5;124;43m\"\u001b[39;49m\u001b[43m,\u001b[49m\u001b[43m \u001b[49m\u001b[38;5;124;43m\"\u001b[39;49m\u001b[38;5;124;43mpablo\u001b[39;49m\u001b[38;5;124;43m\"\u001b[39;49m\u001b[43m,\u001b[49m\u001b[43m \u001b[49m\u001b[38;5;124;43m\"\u001b[39;49m\u001b[38;5;124;43mpablo\u001b[39;49m\u001b[38;5;124;43m\"\u001b[39;49m\u001b[43m]\u001b[49m\u001b[43m)\u001b[49m)\n",
      "Input \u001b[0;32mIn [90]\u001b[0m, in \u001b[0;36mcountNames\u001b[0;34m(names)\u001b[0m\n\u001b[1;32m      2\u001b[0m counter \u001b[38;5;241m=\u001b[39m \u001b[38;5;28mdict\u001b[39m()\n\u001b[1;32m      3\u001b[0m \u001b[38;5;28;01mfor\u001b[39;00m name \u001b[38;5;129;01min\u001b[39;00m names:\n\u001b[0;32m----> 4\u001b[0m     counter[name] \u001b[38;5;241m=\u001b[39m \u001b[43mcounter\u001b[49m\u001b[43m[\u001b[49m\u001b[43mname\u001b[49m\u001b[43m]\u001b[49m \u001b[38;5;241m+\u001b[39m \u001b[38;5;241m1\u001b[39m    \n\u001b[1;32m      5\u001b[0m \u001b[38;5;28;01mreturn\u001b[39;00m counter\n",
      "\u001b[0;31mKeyError\u001b[0m: 'pedro'"
     ]
    }
   ],
   "source": [
    "def countNames(names):\n",
    "    counter = dict()\n",
    "    for name in names:\n",
    "        counter[name] = counter[name] + 1    \n",
    "    return counter\n",
    "\n",
    "print(countNames([\"pedro\", \"ana\", \"javier\", \"ana\", \"ana\", \"pablo\", \"pablo\"]))"
   ]
  },
  {
   "cell_type": "markdown",
   "metadata": {},
   "source": [
    "No funciona.\n",
    "\n",
    "El problema, esencialmente, es que `counter[name]` **no tiene el valor 0** si la clave no se encuentra. El valor no está definido, o es `nil`.\n",
    "\n",
    "Vamos a verlo con un ejemplo:"
   ]
  },
  {
   "cell_type": "markdown",
   "metadata": {},
   "source": [
    "**Anotación: introducir modificadores .keys. values**"
   ]
  },
  {
   "cell_type": "markdown",
   "metadata": {},
   "source": [
    "Pero antes, usemos este conocimiento para terminar el ejercicio."
   ]
  },
  {
   "cell_type": "code",
   "execution_count": 101,
   "metadata": {},
   "outputs": [
    {
     "name": "stdout",
     "output_type": "stream",
     "text": [
      "{'pedro': 1, 'ana': 3, 'javier': 1, 'pablo': 2}\n"
     ]
    }
   ],
   "source": [
    "def countNames(names):\n",
    "    counter = dict()\n",
    "    for name in names :        \n",
    "        if name in counter.keys():             \n",
    "            counter[name] = counter[name] + 1\n",
    "        else:\n",
    "            counter[name] = 1\n",
    "       \n",
    "    return counter\n",
    "\n",
    "print(countNames([\"pedro\", \"ana\", \"javier\", \"ana\", \"ana\", \"pablo\", \"pablo\"]))"
   ]
  },
  {
   "cell_type": "markdown",
   "metadata": {},
   "source": [
    "-----"
   ]
  },
  {
   "cell_type": "markdown",
   "metadata": {},
   "source": [
    "## Control de flujo, bucles, rangos"
   ]
  },
  {
   "cell_type": "markdown",
   "metadata": {},
   "source": [
    "### `if`, `for ... in`"
   ]
  },
  {
   "cell_type": "markdown",
   "metadata": {},
   "source": [
    "Ya los hemos visto en ejemplos anteriores."
   ]
  },
  {
   "cell_type": "markdown",
   "metadata": {},
   "source": [
    "### `while`"
   ]
  },
  {
   "cell_type": "code",
   "execution_count": 102,
   "metadata": {},
   "outputs": [
    {
     "name": "stdout",
     "output_type": "stream",
     "text": [
      "El cuadrado de 1 es 1\n",
      "El cuadrado de 2 es 4\n",
      "El cuadrado de 3 es 9\n",
      "El cuadrado de 4 es 16\n",
      "El cuadrado de 5 es 25\n",
      "El cuadrado de 6 es 36\n",
      "El cuadrado de 7 es 49\n",
      "El cuadrado de 8 es 64\n",
      "El cuadrado de 9 es 81\n"
     ]
    }
   ],
   "source": [
    "n = 1\n",
    "while n < 10:\n",
    "    print(f\"El cuadrado de {n} es {n * n}\")\n",
    "    n = n + 1"
   ]
  },
  {
   "cell_type": "markdown",
   "metadata": {},
   "source": [
    "### `repeat ... while`"
   ]
  },
  {
   "cell_type": "markdown",
   "metadata": {},
   "source": [
    "En otros lenguajes de programación existe el bucle **repeat .. until** Ejemplo:"
   ]
  },
  {
   "cell_type": "code",
   "execution_count": null,
   "metadata": {},
   "outputs": [],
   "source": [
    "n = 1\n",
    "repeat\n",
    "    print(f\"El cuadrado de {n} es {n * n}\")\n",
    "    n = n + 1\n",
    "while n < 10"
   ]
  },
  {
   "cell_type": "markdown",
   "metadata": {},
   "source": [
    "En Python esta estructura se cambia por un bucle infinito con una condición de parada dentro: "
   ]
  },
  {
   "cell_type": "code",
   "execution_count": 106,
   "metadata": {},
   "outputs": [
    {
     "name": "stdout",
     "output_type": "stream",
     "text": [
      "El cuadrado de 1 es 1\n",
      "El cuadrado de 2 es 4\n",
      "El cuadrado de 3 es 9\n",
      "El cuadrado de 4 es 16\n",
      "El cuadrado de 5 es 25\n",
      "El cuadrado de 6 es 36\n",
      "El cuadrado de 7 es 49\n",
      "El cuadrado de 8 es 64\n",
      "El cuadrado de 9 es 81\n"
     ]
    }
   ],
   "source": [
    "n = 1\n",
    "while True:\n",
    "    print(f\"El cuadrado de {n} es {n * n}\")\n",
    "    n = n + 1\n",
    "    if n == 10:\n",
    "        break"
   ]
  },
  {
   "cell_type": "markdown",
   "metadata": {},
   "source": [
    "### Rangos"
   ]
  },
  {
   "cell_type": "markdown",
   "metadata": {},
   "source": [
    "Para este tipo de bucles, en Python es muy frecuente utilizar **rangos**:"
   ]
  },
  {
   "cell_type": "markdown",
   "metadata": {},
   "source": [
    "Obsérvese que el código es mucho más conciso, y mucho más claro. No necesitamos actualizar la variable de iteración `n`."
   ]
  },
  {
   "cell_type": "markdown",
   "metadata": {},
   "source": [
    "Los rangos definidos entre 0 (si range sólo lleva un número) o un valor menor y uno mayor."
   ]
  },
  {
   "cell_type": "code",
   "execution_count": 107,
   "metadata": {},
   "outputs": [
    {
     "name": "stdout",
     "output_type": "stream",
     "text": [
      "El cuadrado de 1 es 1\n",
      "El cuadrado de 2 es 4\n",
      "El cuadrado de 3 es 9\n",
      "El cuadrado de 4 es 16\n",
      "El cuadrado de 5 es 25\n",
      "El cuadrado de 6 es 36\n",
      "El cuadrado de 7 es 49\n",
      "El cuadrado de 8 es 64\n",
      "El cuadrado de 9 es 81\n"
     ]
    }
   ],
   "source": [
    "for n in range(1,10):\n",
    "    print(f\"El cuadrado de {n} es {n * n}\")"
   ]
  },
  {
   "cell_type": "markdown",
   "metadata": {},
   "source": [
    " También se puede definir un valor de salto entre los extremos. Imaginemos que śolo queremos sacar el cuadrado de los valores pares: "
   ]
  },
  {
   "cell_type": "code",
   "execution_count": 114,
   "metadata": {},
   "outputs": [
    {
     "name": "stdout",
     "output_type": "stream",
     "text": [
      "El cuadrado de 0 es 0\n",
      "El cuadrado de 2 es 4\n",
      "El cuadrado de 4 es 16\n",
      "El cuadrado de 6 es 36\n",
      "El cuadrado de 8 es 64\n"
     ]
    }
   ],
   "source": [
    "for n in range(0,10,2):\n",
    "    print(f\"El cuadrado de {n} es {n * n}\")"
   ]
  },
  {
   "cell_type": "markdown",
   "metadata": {},
   "source": [
    "-----"
   ]
  },
  {
   "cell_type": "markdown",
   "metadata": {},
   "source": [
    "## Filtros y transformaciones funcionales"
   ]
  },
  {
   "cell_type": "markdown",
   "metadata": {},
   "source": [
    "En lugar de utilizar bucles, muchas veces podemos aplicar funciones de transformación para actuar sobre los elementos de una colección. Estas funciones aceptan como argumento otras funciones, que son las que aplicamos a cada elemento de la colección.\n",
    "\n",
    "El código que se genera es muy conciso y, además, muy eficiente.\n",
    "\n",
    "Veámoslo con ejemplos."
   ]
  },
  {
   "cell_type": "markdown",
   "metadata": {},
   "source": [
    "### `map`"
   ]
  },
  {
   "cell_type": "markdown",
   "metadata": {},
   "source": [
    "Versión iterativa:"
   ]
  },
  {
   "cell_type": "code",
   "execution_count": 117,
   "metadata": {},
   "outputs": [
    {
     "name": "stdout",
     "output_type": "stream",
     "text": [
      "[1, 4, 9, 16, 25, 36, 49, 64, 81]\n"
     ]
    }
   ],
   "source": [
    "# Obtiene los cuadrados de los 10 primeros números naturales\n",
    "squares = list()\n",
    "for n in range(1,10):\n",
    "    squares.append(n * n)\n",
    "print(squares)"
   ]
  },
  {
   "cell_type": "markdown",
   "metadata": {},
   "source": [
    "Versión funcional:"
   ]
  },
  {
   "cell_type": "code",
   "execution_count": 119,
   "metadata": {},
   "outputs": [
    {
     "name": "stdout",
     "output_type": "stream",
     "text": [
      "[1, 4, 9, 16, 25, 36, 49, 64, 81]\n",
      "<class 'map'>\n"
     ]
    }
   ],
   "source": [
    "squares = list (map(lambda n: n*n, range (1,10)))\n",
    "print(squares)\n",
    "squares = type (map(lambda n: n*n, range (1,10)))\n",
    "print(squares)"
   ]
  },
  {
   "cell_type": "markdown",
   "metadata": {},
   "source": [
    "**`map`** es una _función_ que recibe como argumento _otra función_, que aplica a cada uno de los elementos de la secuencia, y devuelve en un tipo `map` el resultado. Es por esto que es necesario la transformación del resultado en una `list`. Es decir `map` transforma de manera arbitraria los elementos con la función que le proporcionamos."
   ]
  },
  {
   "cell_type": "markdown",
   "metadata": {},
   "source": [
    "Si proporcionamos la función sobre la marcha, lo hacemos con llaves como en este ejemplo. Pero también podemos poner el nombre de cualquier función existente. Podríamos haber hecho lo mismo apoyándonos en una función, de la siguiente manera:"
   ]
  },
  {
   "cell_type": "code",
   "execution_count": 120,
   "metadata": {},
   "outputs": [
    {
     "name": "stdout",
     "output_type": "stream",
     "text": [
      "[1, 4, 9, 16, 25, 36, 49, 64, 81]\n"
     ]
    }
   ],
   "source": [
    "def square(x):\n",
    "    return x * x\n",
    "\n",
    "squares = list(map (lambda x: square(x), range(1,10)))\n",
    "print(squares)"
   ]
  },
  {
   "cell_type": "markdown",
   "metadata": {},
   "source": [
    "En este otro ejemplo podríamos obtener el valor absoluto de los elementos de un array:"
   ]
  },
  {
   "cell_type": "code",
   "execution_count": 123,
   "metadata": {},
   "outputs": [
    {
     "name": "stdout",
     "output_type": "stream",
     "text": [
      "[5, 3, 2, 0, 9, 7, 1]\n"
     ]
    }
   ],
   "source": [
    "absoluteValues = list(map(lambda x: abs(x),[-5, 3, -2, 0, 9, -7, 1]))\n",
    "print(absoluteValues)"
   ]
  },
  {
   "cell_type": "markdown",
   "metadata": {},
   "source": [
    "En el primer caso, la función ha sido desarrollada por nosotros y realiza un cálculo muy específico. En el segundo caso, utilizamos una función definida por el sistema. "
   ]
  },
  {
   "cell_type": "markdown",
   "metadata": {},
   "source": [
    "`map` y el resto de funciones de este apartado pueden utilizarse sobre listas, rangos y otras _secuencias_."
   ]
  },
  {
   "cell_type": "markdown",
   "metadata": {},
   "source": [
    "**Ejercicio F1**\n",
    "\n",
    "`count` es una propiedad de `String` que devuelve el número de caracteres de la cadena. Por ejemplo, `\"hola\".count` devolvería el valor 4.\n",
    "\n",
    "Escribe una función que, dado un array de cadenas, devuelva otro array de enteros con las longitudes de esas cadenas. Es decir, dada la entrada `[\"pedro\", \"pablo\", \"javier\"]`, devolvería el array `[5, 5, 6]`.\n",
    "\n",
    "Intenta resolver el problema con una aproximación funcional.\n",
    "\n",
    "Como siempre, utiliza nombres sensatos y descriptivos para la función y para todas las variables que utilices."
   ]
  },
  {
   "cell_type": "code",
   "execution_count": 129,
   "metadata": {},
   "outputs": [],
   "source": [
    "def stringCounts(names):\n",
    "    result = list()\n",
    "    for name in names:\n",
    "        result.append(len(name))\n",
    "\n",
    "    return result\n"
   ]
  },
  {
   "cell_type": "code",
   "execution_count": 130,
   "metadata": {},
   "outputs": [
    {
     "name": "stdout",
     "output_type": "stream",
     "text": [
      "[5, 5, 6]\n"
     ]
    }
   ],
   "source": [
    "print(stringCounts([\"pedro\", \"pablo\", \"javier\"]))"
   ]
  },
  {
   "cell_type": "code",
   "execution_count": 131,
   "metadata": {},
   "outputs": [],
   "source": [
    "def stringCounts_f(names):\n",
    "    return list(map(lambda x: len(x), names)) "
   ]
  },
  {
   "cell_type": "code",
   "execution_count": 132,
   "metadata": {},
   "outputs": [
    {
     "name": "stdout",
     "output_type": "stream",
     "text": [
      "[5, 5, 6]\n"
     ]
    }
   ],
   "source": [
    "print(stringCounts_f([\"pedro\", \"pablo\", \"javier\"]))"
   ]
  },
  {
   "cell_type": "markdown",
   "metadata": {},
   "source": [
    "**Ejercicio F2**\n",
    "\n",
    "Escribe una función, usando `map`, para convertir un array de enteros en un array de cadenas que representen los mismos numeros."
   ]
  },
  {
   "cell_type": "code",
   "execution_count": 62,
   "metadata": {},
   "outputs": [],
   "source": [
    "def stringCounts_f(names):\n",
    "    return list(map(lambda x: len(x), names)) "
   ]
  },
  {
   "cell_type": "code",
   "execution_count": 64,
   "metadata": {},
   "outputs": [],
   "source": [
    "def numbersToStrings(numbers):\n",
    "    return list(map (lambda x: str(x),x))"
   ]
  },
  {
   "cell_type": "code",
   "execution_count": 133,
   "metadata": {},
   "outputs": [],
   "source": [
    "def stringCounts(names):\n",
    "    result = list()\n",
    "    for name in names:\n",
    "        result.append(len(name))\n",
    "    \n",
    "    return result\n"
   ]
  },
  {
   "cell_type": "code",
   "execution_count": 134,
   "metadata": {},
   "outputs": [],
   "source": [
    "def numbersToStrings(numbers):\n",
    "    result = []\n",
    "    for number in numbers:\n",
    "        result.append(str(number))\n",
    "    \n",
    "    return result\n"
   ]
  },
  {
   "cell_type": "code",
   "execution_count": 135,
   "metadata": {},
   "outputs": [
    {
     "name": "stdout",
     "output_type": "stream",
     "text": [
      "['1', '-7', '0', '55']\n"
     ]
    }
   ],
   "source": [
    "print(numbersToStrings([1, -7, 0, 55]))"
   ]
  },
  {
   "cell_type": "markdown",
   "metadata": {},
   "source": [
    "### `filter`"
   ]
  },
  {
   "cell_type": "markdown",
   "metadata": {},
   "source": [
    "La función `filter` _filtra_ o selecciona los elementos de una secuencia que cumplen una condición. Para ello, hay que pasarle como argumento una función que devuelve `true` si el elemento debe incluirse en el resultado, o `false` en caso contrario."
   ]
  },
  {
   "cell_type": "markdown",
   "metadata": {},
   "source": [
    "Ejemplo: seleccionamos de una secuencia los números pares. El operador `%` calcula el módulo (~resto) de la división entera: el número es par si el resto de dividir entre `2` es `0`."
   ]
  },
  {
   "cell_type": "code",
   "execution_count": 136,
   "metadata": {},
   "outputs": [
    {
     "name": "stdout",
     "output_type": "stream",
     "text": [
      "1\n"
     ]
    }
   ],
   "source": [
    "print(5 % 2)"
   ]
  },
  {
   "cell_type": "code",
   "execution_count": 137,
   "metadata": {},
   "outputs": [
    {
     "name": "stdout",
     "output_type": "stream",
     "text": [
      "0\n"
     ]
    }
   ],
   "source": [
    "print(4 % 2)"
   ]
  },
  {
   "cell_type": "code",
   "execution_count": 140,
   "metadata": {},
   "outputs": [
    {
     "name": "stdout",
     "output_type": "stream",
     "text": [
      "[0, 2, 4, 6, 8, 10]\n"
     ]
    }
   ],
   "source": [
    "print(list(filter(lambda x: x % 2 == 0, range(11))))"
   ]
  },
  {
   "cell_type": "markdown",
   "metadata": {},
   "source": [
    "**Ejercicio F3**\n",
    "\n",
    "Escribe una función que obtenga los números cuadrados pares de los primeros N números positivos. Para N = 10, el resultado debe ser `[4, 16, 36, 64, 100]`."
   ]
  },
  {
   "cell_type": "code",
   "execution_count": 1,
   "metadata": {},
   "outputs": [
    {
     "name": "stdout",
     "output_type": "stream",
     "text": [
      "[4, 16, 36, 64, 100]\r\n"
     ]
    }
   ],
   "source": [
    "\n",
    "\n",
    "\n",
    "\n",
    "\n",
    "print(evenSquares(range (1,10))"
   ]
  },
  {
   "cell_type": "markdown",
   "metadata": {},
   "source": [
    "### `reduce`"
   ]
  },
  {
   "cell_type": "markdown",
   "metadata": {},
   "source": [
    "Esta función transforma una secuencia en un único elemento. Veamos un ejemplo que suma los 10 primeros números naturales:"
   ]
  },
  {
   "cell_type": "code",
   "execution_count": 146,
   "metadata": {},
   "outputs": [
    {
     "name": "stdout",
     "output_type": "stream",
     "text": [
      "55\n"
     ]
    }
   ],
   "source": [
    "from functools import reduce\n",
    "print(reduce ((lambda x, y: x+y),range(1,11)))"
   ]
  },
  {
   "cell_type": "markdown",
   "metadata": {},
   "source": [
    "`reduce` acepta dos argumentos:\n",
    "* Una función que debe tener dos parámetros y será llamada por `reduce` de forma acumulativa (preservando el resultado de las llamadas anteriores).\n",
    "* Un conjunto de valores."
   ]
  },
  {
   "cell_type": "markdown",
   "metadata": {},
   "source": [
    "¿Cómo se haría lo mismo de forma iterativa, utilizando un bucle?"
   ]
  },
  {
   "cell_type": "code",
   "execution_count": 148,
   "metadata": {},
   "outputs": [
    {
     "name": "stdout",
     "output_type": "stream",
     "text": [
      "55\n"
     ]
    }
   ],
   "source": [
    "total = 0\n",
    "for n in range(1,11):\n",
    "    total = total + n\n",
    "\n",
    "print(total)"
   ]
  },
  {
   "cell_type": "markdown",
   "metadata": {},
   "source": [
    "Todas estas funciones también se pueden aplicar a **diccionarios**, no sólo a listas o rangos."
   ]
  },
  {
   "cell_type": "markdown",
   "metadata": {},
   "source": [
    "A continuación vemos un ejemplo en el que aplicamos `reduce` a un diccionario para calcular una suma total."
   ]
  },
  {
   "cell_type": "code",
   "execution_count": 150,
   "metadata": {},
   "outputs": [],
   "source": [
    "miCompra = {\n",
    "    \"Cebollas\": 1.5,\n",
    "    \"Patatas\": 5,\n",
    "    \"Huevos\": 3,\n",
    "    \"Pollo\": 8,\n",
    "    \"Garbanzos\": 4,\n",
    "    \"Detergente\": 8.5\n",
    "}"
   ]
  },
  {
   "cell_type": "code",
   "execution_count": 151,
   "metadata": {},
   "outputs": [
    {
     "name": "stdout",
     "output_type": "stream",
     "text": [
      "<class 'dict'>\n"
     ]
    }
   ],
   "source": [
    "print(type(miCompra))"
   ]
  },
  {
   "cell_type": "code",
   "execution_count": 164,
   "metadata": {},
   "outputs": [],
   "source": [
    "def compraReduce(coste, item):\n",
    "    key, precio = item\n",
    "    return precio + coste\n",
    "    \n",
    "total = reduce(compraReduce, miCompra.items(), 0.0)"
   ]
  },
  {
   "cell_type": "code",
   "execution_count": 110,
   "metadata": {},
   "outputs": [
    {
     "name": "stdout",
     "output_type": "stream",
     "text": [
      "30.0\r\n"
     ]
    }
   ],
   "source": [
    "print(total)"
   ]
  },
  {
   "cell_type": "markdown",
   "metadata": {},
   "source": [
    "En este caso, para iterar el diccionario necesitamos una función creada que permita analizar cada item del diccionario y sumarlo al coste total que se va iterando. "
   ]
  },
  {
   "cell_type": "markdown",
   "metadata": {},
   "source": [
    "**Ejercicio F4**\n",
    "\n",
    "Calcula la suma de los cuadrados de los numeros pares que contiene una lista de enteros. Debes combinar `map`, `filter` y `reduce` adecuadamente para conseguirlo."
   ]
  },
  {
   "cell_type": "code",
   "execution_count": null,
   "metadata": {},
   "outputs": [],
   "source": [
    "\n",
    "\n",
    "\n",
    "\n",
    "\n"
   ]
  },
  {
   "cell_type": "markdown",
   "metadata": {},
   "source": [
    "-----"
   ]
  },
  {
   "cell_type": "markdown",
   "metadata": {},
   "source": [
    "**Ejercicio F5**: crea una función que devuelva en un array los N primeros números de Fibonacci. Los números de Fibonacci son una secuencia definida como:\n",
    "* El primer elemento es 0 y el segundo el 1.\n",
    "* Cada número (a partir del tercero) es el resultado de sumar los dos anteriores.\n",
    "\n",
    "Es decir, si la función se llama `fibonacci`, el resultado de ejecutar la función de este modo:\n",
    "\n",
    "```python\n",
    "print(fibonacci(10))\n",
    "```\n",
    "\n",
    "Sería:\n",
    "```\n",
    "[0, 1, 1, 2, 3, 5, 8, 13, 21, 34]\n",
    "```\n",
    "\n",
    "Prueba a implementar el código tanto de manera iterativa como _recursivamente_."
   ]
  },
  {
   "cell_type": "markdown",
   "metadata": {},
   "source": [
    "**Implementación iterativa**"
   ]
  },
  {
   "cell_type": "code",
   "execution_count": 166,
   "metadata": {},
   "outputs": [],
   "source": [
    "def fibonacci(count):\n",
    "    if count == 0:\n",
    "        return [0]\n",
    "    if count == 1:\n",
    "        return [0]\n",
    "    \n",
    "    a = 0\n",
    "    b = 1\n",
    "    fibs = [a, b]\n",
    "    for i in range (2,count):\n",
    "        currentFibonacciNumber = a + b\n",
    "        a = b\n",
    "        b = currentFibonacciNumber\n",
    "        fibs.append(currentFibonacciNumber)    \n",
    "    return fibs"
   ]
  },
  {
   "cell_type": "code",
   "execution_count": 167,
   "metadata": {},
   "outputs": [
    {
     "name": "stdout",
     "output_type": "stream",
     "text": [
      "[0, 1, 1, 2, 3, 5, 8, 13, 21, 34]\n"
     ]
    }
   ],
   "source": [
    "print(fibonacci(10))"
   ]
  },
  {
   "cell_type": "markdown",
   "metadata": {},
   "source": [
    "**Implementación recursiva y funcional**"
   ]
  },
  {
   "cell_type": "code",
   "execution_count": 169,
   "metadata": {},
   "outputs": [],
   "source": [
    "def fibonacci_number(position): \n",
    "    if position == 0:\n",
    "        return 0\n",
    "    if position == 1:\n",
    "        return 1 \n",
    "    \n",
    "    return fibonacci_number(position-1) + fibonacci_number(position-2)\n"
   ]
  },
  {
   "cell_type": "code",
   "execution_count": 171,
   "metadata": {},
   "outputs": [
    {
     "name": "stdout",
     "output_type": "stream",
     "text": [
      "34\n"
     ]
    }
   ],
   "source": [
    "print(fibonacci_number(9))"
   ]
  },
  {
   "cell_type": "code",
   "execution_count": 172,
   "metadata": {},
   "outputs": [],
   "source": [
    "def fibonacci2(count):\n",
    "    return list(map( fibonacci_number, range(count)))"
   ]
  },
  {
   "cell_type": "code",
   "execution_count": 173,
   "metadata": {
    "scrolled": true
   },
   "outputs": [
    {
     "name": "stdout",
     "output_type": "stream",
     "text": [
      "[0, 1, 1, 2, 3, 5, 8, 13, 21, 34]\n"
     ]
    }
   ],
   "source": [
    "print(fibonacci2(10))"
   ]
  },
  {
   "cell_type": "markdown",
   "metadata": {},
   "source": [
    "### Recursividad"
   ]
  },
  {
   "cell_type": "markdown",
   "metadata": {},
   "source": [
    "Ya hemos visto que una funcion recursiva puede llamarse a si misma. Este proceso seguiria hasta el infinito, a menos que existan condiciones de salida para terminar.\n",
    "\n",
    "Este mecanismo es especialmente indicado para calcular valores cuya definicion es tambien recursiva. Por ejemplo, el factorial de `n` es `n` multiplicado por el factorial de `n-1`."
   ]
  },
  {
   "cell_type": "markdown",
   "metadata": {},
   "source": [
    "**Ejercicio R1**\n",
    "\n",
    "Escribe una funcion recursiva para calcular el factorial de un numero entero. Sabemos que:\n",
    "* El factorial de `1` es `1`.\n",
    "* El factorial de `n` es el factorial de `n-1`."
   ]
  },
  {
   "cell_type": "code",
   "execution_count": 17,
   "metadata": {},
   "outputs": [],
   "source": [
    "\n",
    "\n",
    "\n",
    "\n"
   ]
  },
  {
   "cell_type": "code",
   "execution_count": 18,
   "metadata": {},
   "outputs": [
    {
     "name": "stdout",
     "output_type": "stream",
     "text": [
      "120\r\n"
     ]
    }
   ],
   "source": [
    "print(fact(5))"
   ]
  },
  {
   "cell_type": "markdown",
   "metadata": {},
   "source": [
    "**Ejercicio R2**\n",
    "\n",
    "Escribe una funcion recursiva para calcular el maximo comun divisor (`gcd`, por sus siglas en ingles) entre dos numeros, utilizando el Algoritmo de Euclides. Segun este algoritmo, restamos del mayor numero el menor, y seguimos haciendo esta operacion hasta que uno de los dos numeros es 0. En esta situacion, el otro numero es el maximo comun divisor que buscamos.\n",
    "\n",
    "Es decir:\n",
    "* Si uno de los dos numeros es 0, el `gcd` es el otro numero.\n",
    "* El `gcd` de dos numeros, es el `gcd` de:\n",
    "  - El mayor menos el menor.\n",
    "  - El menor."
   ]
  },
  {
   "cell_type": "code",
   "execution_count": 34,
   "metadata": {},
   "outputs": [],
   "source": [
    "\n",
    "\n",
    "\n",
    "\n",
    "\n"
   ]
  },
  {
   "cell_type": "code",
   "execution_count": 35,
   "metadata": {},
   "outputs": [
    {
     "name": "stdout",
     "output_type": "stream",
     "text": [
      "3\r\n"
     ]
    }
   ],
   "source": [
    "print(gcd(9, 6))"
   ]
  },
  {
   "cell_type": "code",
   "execution_count": 36,
   "metadata": {},
   "outputs": [
    {
     "name": "stdout",
     "output_type": "stream",
     "text": [
      "15\r\n"
     ]
    }
   ],
   "source": [
    "print(gcd(30, 75))"
   ]
  },
  {
   "cell_type": "markdown",
   "metadata": {},
   "source": [
    "-----"
   ]
  },
  {
   "cell_type": "markdown",
   "metadata": {},
   "source": [
    "## Clases"
   ]
  },
  {
   "cell_type": "markdown",
   "metadata": {},
   "source": [
    "Las clases, a simple vista, son muy similares a los `struct`s:"
   ]
  },
  {
   "cell_type": "code",
   "execution_count": 1,
   "metadata": {},
   "outputs": [
    {
     "ename": "",
     "evalue": "",
     "output_type": "error",
     "traceback": [
      "error: <Cell 1>:1:7: error: class 'Person' has no initializers\nclass Person {\n      ^\n\n<Cell 1>:2:9: note: stored property 'name' without initial value prevents synthesized initializers\n    var name: String\n        ^\n                     = \"\"\n\n<Cell 1>:3:9: note: stored property 'age' without initial value prevents synthesized initializers\n    var age: Int\n        ^\n                 = 0\n\n"
     ]
    }
   ],
   "source": [
    "class Person {\n",
    "    var name: String\n",
    "    var age: Int\n",
    "}"
   ]
  },
  {
   "cell_type": "markdown",
   "metadata": {},
   "source": [
    "En las clases es necesario proporcionar un procedimiento de inicialización, que es una función especial que se llama `init`, y que excepcionalmente no va precedido de `func`."
   ]
  },
  {
   "cell_type": "code",
   "execution_count": 1,
   "metadata": {},
   "outputs": [],
   "source": [
    "class Person {\n",
    "    var name: String\n",
    "    var age: Int\n",
    "    \n",
    "    init(name: String, age: Int) {\n",
    "        self.name = name\n",
    "        self.age = age\n",
    "    }\n",
    "}"
   ]
  },
  {
   "cell_type": "code",
   "execution_count": 2,
   "metadata": {},
   "outputs": [],
   "source": [
    "let pablo = Person(name: \"Pablo\", age: 25)"
   ]
  },
  {
   "cell_type": "markdown",
   "metadata": {},
   "source": [
    "En el caso de los `struct` también podemos emplear `init` si queremos, pero si no lo hacemos el compilador genera automáticamente una versión basada en los elementos que hemos declarado en el `struct`."
   ]
  },
  {
   "cell_type": "code",
   "execution_count": 3,
   "metadata": {},
   "outputs": [
    {
     "name": "stdout",
     "output_type": "stream",
     "text": [
      "__lldb_expr_9.Person\r\n"
     ]
    }
   ],
   "source": [
    "print(pablo)"
   ]
  },
  {
   "cell_type": "markdown",
   "metadata": {},
   "source": [
    "Eso no nos da mucha información. Para mostrar un mensaje apropiado para inspeccionar el objeto, tenemos que implementar la propiedad que figura en la siguiente celda. En el caso de los `struct`, esto es también automático."
   ]
  },
  {
   "cell_type": "code",
   "execution_count": 4,
   "metadata": {},
   "outputs": [],
   "source": [
    "extension Person: CustomStringConvertible {\n",
    "    public var description: String { name + \" \" + String(age) }\n",
    "}"
   ]
  },
  {
   "cell_type": "code",
   "execution_count": null,
   "metadata": {},
   "outputs": [],
   "source": [
    "protocol MyCSC {\n",
    "    public func description() -> String\n",
    "}"
   ]
  },
  {
   "cell_type": "code",
   "execution_count": 5,
   "metadata": {},
   "outputs": [
    {
     "name": "stdout",
     "output_type": "stream",
     "text": [
      "Pablo 25\r\n"
     ]
    }
   ],
   "source": [
    "let pablo = Person(name: \"Pablo\", age: 25)\n",
    "print(pablo)"
   ]
  },
  {
   "cell_type": "markdown",
   "metadata": {},
   "source": [
    "Además de implementar `description`, también tenemos que declarar que `Person` cumple los requisitos del **protocolo** `CustomStringConvertible`.\n",
    "\n",
    "Un protocolo es una _plantilla_ de funciones o propiedades que puede tener (o no) una instancia de un tipo. La función `print` aparentemente funciona con valores de cualquier tipo (hasta ahora la hemos utilizado para todos los ejemplos que hemos ido creando). ¿Cómo sabe lo que tiene que hacer con tipos diferentes? Es muy diferente mostrar el valor de un número entero que el contenido de un array, o el contenido de un `struct` que nos hemos inventado nosotros.\n",
    "\n",
    "La realidad es que `print` sólo sabe mostrar los valores que cumplen el protocolo `CustomStringConvertible`. Lo único que hace `print` es obtener el valor de la propiedad `description`, y eso es lo que muestra en pantalla.\n",
    "\n",
    "En los tipos internos (`Int`, `String`, `Array`), la propiedad `description` está implementada en la biblioteca estándar del lenguaje. En los `struct`, al igual que se sintetiza automáticamente una función de inicialización, se sintetiza también `description`. En las clases, hay que hacerlo expresamente."
   ]
  },
  {
   "cell_type": "code",
   "execution_count": 8,
   "metadata": {},
   "outputs": [
    {
     "name": "stdout",
     "output_type": "stream",
     "text": [
      "3\r\n"
     ]
    }
   ],
   "source": [
    "print(3.description)"
   ]
  },
  {
   "cell_type": "code",
   "execution_count": 10,
   "metadata": {},
   "outputs": [
    {
     "name": "stdout",
     "output_type": "stream",
     "text": [
      "String\r\n"
     ]
    }
   ],
   "source": [
    "print(type(of: 3.description))"
   ]
  },
  {
   "cell_type": "markdown",
   "metadata": {},
   "source": [
    "Nosotros podemos crear protocolos para nuestros propósitos, como veremos en otra clase."
   ]
  },
  {
   "cell_type": "markdown",
   "metadata": {},
   "source": [
    "### Herencia"
   ]
  },
  {
   "cell_type": "markdown",
   "metadata": {},
   "source": [
    "Esta es una de las diferencias básicas entre `struct`s y clases: una clase puede \"heredar\" de otra, incorporando automáticamente todas las definiciones de la \"superclase\"."
   ]
  },
  {
   "cell_type": "code",
   "execution_count": 6,
   "metadata": {},
   "outputs": [],
   "source": [
    "class Student: Person {\n",
    "    var carrera: String\n",
    "    \n",
    "    init(name: String, age: Int, carrera: String) {\n",
    "        self.carrera = carrera\n",
    "        super.init(name: name, age: age)\n",
    "    }\n",
    "}"
   ]
  },
  {
   "cell_type": "markdown",
   "metadata": {},
   "source": [
    "`Student` es una particularización de `Person`, que tiene una variable adicional. Hemos tenido que proporcionar otra versión de `init` apropiada para inicializar objetos de este tipo. Obsérvese cómo se utiliza `super.init` para invocar la versión antigua que reside en la **super**clase."
   ]
  },
  {
   "cell_type": "code",
   "execution_count": 7,
   "metadata": {},
   "outputs": [],
   "source": [
    "let student = Student(name: \"Javier\", age: 21, carrera: \"Filosofía\")"
   ]
  },
  {
   "cell_type": "code",
   "execution_count": 8,
   "metadata": {},
   "outputs": [
    {
     "name": "stdout",
     "output_type": "stream",
     "text": [
      "Filosofía\r\n"
     ]
    }
   ],
   "source": [
    "print(student.carrera)"
   ]
  },
  {
   "cell_type": "code",
   "execution_count": 9,
   "metadata": {},
   "outputs": [
    {
     "name": "stdout",
     "output_type": "stream",
     "text": [
      "Javier\r\n"
     ]
    }
   ],
   "source": [
    "print(student.name)"
   ]
  },
  {
   "cell_type": "markdown",
   "metadata": {},
   "source": [
    "Los objetos de tipo `Student` heredan todas las propiedades que estaban definidas en su superclase `Person`, además de incorporar las suyas propias.\n",
    "\n",
    "![person_inheritance](img/person.png)"
   ]
  },
  {
   "cell_type": "markdown",
   "metadata": {},
   "source": [
    "### Reference types"
   ]
  },
  {
   "cell_type": "markdown",
   "metadata": {},
   "source": [
    "Esta es la otra diferencia fundamental respecto a `struct`. En Swift, **las clases se pasan por referencia**. En este caso **NO** se realiza una copia del valor (ni siquiera conceptualmente), sino que se pasa la dirección de memoria (el puntero) donde están almacenados los datos.\n",
    "\n",
    "Veámoslo con un ejemplo."
   ]
  },
  {
   "cell_type": "code",
   "execution_count": 10,
   "metadata": {},
   "outputs": [],
   "source": [
    "let javier = Student(name: \"Javier\", age: 21, carrera: \"Filosofía\")"
   ]
  },
  {
   "cell_type": "code",
   "execution_count": 11,
   "metadata": {},
   "outputs": [
    {
     "name": "stdout",
     "output_type": "stream",
     "text": [
      "GISAM\r\n"
     ]
    }
   ],
   "source": [
    "var estudiante = javier\n",
    "estudiante.carrera = \"GISAM\"\n",
    "print(estudiante.carrera)        // Qué imprime?"
   ]
  },
  {
   "cell_type": "code",
   "execution_count": 12,
   "metadata": {},
   "outputs": [
    {
     "name": "stdout",
     "output_type": "stream",
     "text": [
      "GISAM\r\n"
     ]
    }
   ],
   "source": [
    "print(javier.carrera)            // Qué imprime?"
   ]
  },
  {
   "cell_type": "code",
   "execution_count": null,
   "metadata": {},
   "outputs": [],
   "source": []
  },
  {
   "cell_type": "code",
   "execution_count": null,
   "metadata": {},
   "outputs": [],
   "source": []
  },
  {
   "cell_type": "markdown",
   "metadata": {},
   "source": [
    "En este caso, las variables `estudiante` y `javier` hacen referencia al **mismo** objeto en memoria, por lo que modificando uno afectamos al otro. Y encima, `javier` era un `let`!"
   ]
  },
  {
   "cell_type": "markdown",
   "metadata": {},
   "source": [
    "### `override`"
   ]
  },
  {
   "cell_type": "markdown",
   "metadata": {},
   "source": [
    "Cuando queremos redefinir una propiedad o método que existe en una superclase, debemos usar el término `override`:"
   ]
  },
  {
   "cell_type": "code",
   "execution_count": 1,
   "metadata": {},
   "outputs": [],
   "source": [
    "struct Point {\n",
    "    var x: Double\n",
    "    var y: Double\n",
    "}"
   ]
  },
  {
   "cell_type": "code",
   "execution_count": 2,
   "metadata": {},
   "outputs": [],
   "source": [
    "class Shape: CustomStringConvertible {\n",
    "    var origin: Point\n",
    "    \n",
    "    init(origin: Point = Point(x: 0, y: 0)) {\n",
    "        self.origin = origin\n",
    "    }\n",
    "    \n",
    "    var description: String { \"Soy una forma abstracta situada en \\(origin)\"}\n",
    "}"
   ]
  },
  {
   "cell_type": "code",
   "execution_count": 15,
   "metadata": {},
   "outputs": [
    {
     "name": "stdout",
     "output_type": "stream",
     "text": [
      "Soy una forma abstracta situada en Point(x: 0.0, y: 0.0)\r\n"
     ]
    }
   ],
   "source": [
    "print(Shape())"
   ]
  },
  {
   "cell_type": "code",
   "execution_count": 3,
   "metadata": {},
   "outputs": [],
   "source": [
    "class Circle: Shape {\n",
    "    var radius: Double\n",
    "    \n",
    "    init(origin: Point, radius: Double) {\n",
    "        self.radius = radius\n",
    "        super.init(origin: origin)\n",
    "    }\n",
    "    \n",
    "    override var description: String { \"Soy un círculo centrado en \\(origin) con radio \\(radius)\"}\n",
    "}"
   ]
  },
  {
   "cell_type": "code",
   "execution_count": 20,
   "metadata": {},
   "outputs": [
    {
     "name": "stdout",
     "output_type": "stream",
     "text": [
      "Soy un círculo centrado en Point(x: 5.0, y: -1.0) con radio 4.0\r\n"
     ]
    }
   ],
   "source": [
    "let c = Circle(origin: Point(x: 5, y: -1), radius: 4)\n",
    "print(c)"
   ]
  },
  {
   "cell_type": "markdown",
   "metadata": {},
   "source": [
    "## ¿Cuándo usar clases y cuándo usar `struct`s?"
   ]
  },
  {
   "cell_type": "markdown",
   "metadata": {},
   "source": [
    "Tanto las clases como las estructuras tienen muchísima más funcionalidad que iremos viendo poco a poco, pero hemos visto ya las diferencias fundamentales. El uso de clases o `struct`s varía según las necesidades de nuestros programas. Generalizando, podemos ofrecer las siguientes indicaciones, muy simplificadas:\n",
    "\n",
    "* En caso de duda, usa `struct`. Son más ligeros y eficientes.\n",
    "* Si necesitas herencia, debes usar clases.\n",
    "* Si necesitas utilizar el paso por referencia, usa clases. Por ejemplo, para modelar recursos que no tiene sentido copiar (el acceso a una base de datos, la referencia a un _socket_ de comunicaciones) es frecuente utilizar clases."
   ]
  },
  {
   "cell_type": "markdown",
   "metadata": {},
   "source": [
    "------"
   ]
  },
  {
   "cell_type": "markdown",
   "metadata": {},
   "source": [
    "**Ejercicio Clases - 1**\n",
    "\n",
    "Basándote en las definiciones de `Point`, `Shape` y `Circle` dadas un poco más arriba, crea definiciones para los siguientes objetos:\n",
    "\n",
    "* `Rectangle`\n",
    "* `Square`, que debe ser un subtipo de `Rectangle`.\n",
    "\n",
    "Los dos nuevos objetos tienen que tener propiedades adecuadas a su forma, así como inicializadores y `description`."
   ]
  },
  {
   "cell_type": "markdown",
   "metadata": {},
   "source": [
    "![Shapes](img/shapes_1_300.png)"
   ]
  },
  {
   "cell_type": "code",
   "execution_count": 4,
   "metadata": {},
   "outputs": [],
   "source": [
    "class Rectangle : Shape {\n",
    "    var base: Double\n",
    "    var height: Double\n",
    "    \n",
    "    init(origin: Point, base: Double, height: Double) {\n",
    "        self.base = base\n",
    "        self.height = height\n",
    "        super.init(origin: origin)\n",
    "    }\n",
    "    \n",
    "    override var description: String {\n",
    "        \"Soy un rectángulo centrado en \\(origin) con base \\(base) y altura \\(height)\"\n",
    "    }\n",
    "}"
   ]
  },
  {
   "cell_type": "code",
   "execution_count": 27,
   "metadata": {},
   "outputs": [
    {
     "name": "stdout",
     "output_type": "stream",
     "text": [
      "Soy un rectángulo centrado en Point(x: -1.0, y: 2.0) con base 5.0 y altura 4.0\r\n"
     ]
    }
   ],
   "source": [
    "let r = Rectangle(origin: Point(x: -1, y: 2), base: 5,  height: 4)\n",
    "print(r)"
   ]
  },
  {
   "cell_type": "code",
   "execution_count": 34,
   "metadata": {},
   "outputs": [],
   "source": [
    "class Rectangle : Shape {\n",
    "    var point1: Point\n",
    "    \n",
    "    init(origin: Point, point1: Point) {\n",
    "        self.point1 = point1\n",
    "        super.init(origin: origin)\n",
    "    }\n",
    "    \n",
    "    var base: Double { abs(origin.x - point1.x) }\n",
    "    var height: Double { abs(origin.y - point1.y) }\n",
    "    \n",
    "    override var description: String {\n",
    "        \"Soy un rectángulo de base \\(base) y altura \\(height)\"\n",
    "    }\n",
    "}"
   ]
  },
  {
   "cell_type": "code",
   "execution_count": 35,
   "metadata": {},
   "outputs": [
    {
     "name": "stdout",
     "output_type": "stream",
     "text": [
      "Soy un rectángulo de base 1.0 y altura 2.0\r\n"
     ]
    }
   ],
   "source": [
    "let r = Rectangle(origin: Point(x: -1, y: 2), point1: Point(x: 0, y: 4))\n",
    "print(r)"
   ]
  },
  {
   "cell_type": "code",
   "execution_count": 5,
   "metadata": {},
   "outputs": [
    {
     "ename": "",
     "evalue": "",
     "output_type": "error",
     "traceback": [
      "error: <Cell 5>:8:14: error: value of type 'Rectangle' has no member 'size'\n        self.size = size\n        ~~~~ ^~~~\n\nerror: <Cell 5>:13:62: error: cannot find 'width' in scope\n        \"Soy un rectángulo centrado en \\(origin) con base \\(width) y altura \\(height)\"\n\nerror: <Cell 5>:13:80: error: cannot find 'height' in scope\n        \"Soy un rectángulo centrado en \\(origin) con base \\(width) y altura \\(height)\"\n\n"
     ]
    }
   ],
   "source": [
    "struct Size {\n",
    "    var width: Double\n",
    "    var height: Double\n",
    "}\n",
    "\n",
    "class Rectangle : Shape {    \n",
    "    init(origin: Point, size: Size) {\n",
    "        self.size = size\n",
    "        super.init(origin: origin)\n",
    "    }\n",
    "    \n",
    "    override var description: String {\n",
    "        \"Soy un rectángulo centrado en \\(origin) con base \\(width) y altura \\(height)\"\n",
    "    }\n",
    "}"
   ]
  },
  {
   "cell_type": "code",
   "execution_count": 6,
   "metadata": {},
   "outputs": [],
   "source": [
    "class Square: Rectangle {\n",
    "    var side: Double\n",
    "    \n",
    "    init(origin: Point, side: Double) {\n",
    "        self.side = side\n",
    "        super.init(origin: origin, base: side, height: side)\n",
    "    }    \n",
    "    \n",
    "    override var description: String { \"Soy un cuadrado de lado \\(side)\"}\n",
    "}"
   ]
  },
  {
   "cell_type": "code",
   "execution_count": 52,
   "metadata": {},
   "outputs": [],
   "source": [
    "class Square: Rectangle {    \n",
    "    init(origin: Point, lado: Double) {\n",
    "        super.init(origin: origin, base: lado, height: lado)\n",
    "    }\n",
    "    \n",
    "    var side: Double { base }\n",
    "    \n",
    "    override var description: String { \"Soy un cuadrado de lado \\(side)\"}\n",
    "}"
   ]
  },
  {
   "cell_type": "code",
   "execution_count": 54,
   "metadata": {},
   "outputs": [
    {
     "name": "stdout",
     "output_type": "stream",
     "text": [
      "Soy un cuadrado de lado 8.0\r\n"
     ]
    }
   ],
   "source": [
    "let cuadrado = Square(origin: Point(x: 0, y: 0), lado: 8)\n",
    "print(cuadrado)"
   ]
  },
  {
   "cell_type": "code",
   "execution_count": 55,
   "metadata": {},
   "outputs": [
    {
     "name": "stdout",
     "output_type": "stream",
     "text": [
      "8.0\r\n"
     ]
    }
   ],
   "source": [
    "print(cuadrado.base)"
   ]
  },
  {
   "cell_type": "markdown",
   "metadata": {},
   "source": [
    "**Ejercicio Clases - 2**\n",
    "\n",
    "* Añade a `Shape` un procedimiento `move` que cambie el origen a otro punto. Comprueba si funciona en tus subclases.\n",
    "* Añade a `Shape` una propiedad `area`. En el caso de `Shape`, devolverá el valor especial `-1` para indicar error (no sabemos cuál es el área de una forma abstracta). En el caso de las otras formas, deben devolver su área correctamente.\n",
    "\n",
    "Posteriormente veremos cómo tratar errores de mejor manera que simplemente devolviendo un dato especial."
   ]
  },
  {
   "cell_type": "code",
   "execution_count": 10,
   "metadata": {},
   "outputs": [],
   "source": [
    "extension Shape {\n",
    "    func move(to point: Point) {\n",
    "        origin = point\n",
    "    }\n",
    "}"
   ]
  },
  {
   "cell_type": "code",
   "execution_count": 11,
   "metadata": {},
   "outputs": [
    {
     "name": "stdout",
     "output_type": "stream",
     "text": [
      "Soy un círculo centrado en Point(x: 5.0, y: -1.0) con radio 4.0\r\n"
     ]
    }
   ],
   "source": [
    "let c = Circle(origin: Point(x: 5, y: -1), radius: 4)\n",
    "print(c)"
   ]
  },
  {
   "cell_type": "code",
   "execution_count": 12,
   "metadata": {},
   "outputs": [
    {
     "name": "stdout",
     "output_type": "stream",
     "text": [
      "Soy un círculo centrado en Point(x: 0.0, y: 3.0) con radio 4.0\r\n"
     ]
    }
   ],
   "source": [
    "c.move(to: Point(x: 0, y: 3))\n",
    "print(c)"
   ]
  },
  {
   "cell_type": "markdown",
   "metadata": {},
   "source": [
    "**Observación**: ¿Por qué no es necesario poner `mutating` en la función `move`?"
   ]
  },
  {
   "cell_type": "code",
   "execution_count": null,
   "metadata": {},
   "outputs": [],
   "source": []
  },
  {
   "cell_type": "markdown",
   "metadata": {},
   "source": [
    "## `enum`s"
   ]
  },
  {
   "cell_type": "markdown",
   "metadata": {},
   "source": [
    "`enum` nos permite definir nuevos tipos cuyos valores se expresan por enumeración. Es decir, indicamos de forma explícita cuáles son los posibles valores que puede tomar una variable del tipo."
   ]
  },
  {
   "cell_type": "markdown",
   "metadata": {},
   "source": [
    "Supongamos que queremos ampliar nuestra definición de `Shape` para indicar de qué color es cada una de las instancias de `Shape` con las que trabajamos. El número de colores es limitado, puede ser uno de los siguientes colores básicos: rojo, azul, verde, amarillo, naranja, blanco, o negro.\n",
    "\n",
    "¿Cómo podemos modelar esto sin `enum`?"
   ]
  },
  {
   "cell_type": "code",
   "execution_count": null,
   "metadata": {},
   "outputs": [],
   "source": []
  },
  {
   "cell_type": "markdown",
   "metadata": {},
   "source": [
    "Inicialmente, podemos pensar en utilizar una variable de tipo `String` donde indicamos el color. Vamos a repetir la definición de las clases utilizando esta nueva variable:"
   ]
  },
  {
   "cell_type": "code",
   "execution_count": 13,
   "metadata": {},
   "outputs": [],
   "source": [
    "struct Point {\n",
    "    var x: Double\n",
    "    var y: Double\n",
    "}"
   ]
  },
  {
   "cell_type": "code",
   "execution_count": 14,
   "metadata": {},
   "outputs": [],
   "source": [
    "class Shape: CustomStringConvertible {\n",
    "    var origin: Point\n",
    "    var color: String = \"white\"  // Default\n",
    "    \n",
    "    init(origin: Point = Point(x: 0, y: 0)) {\n",
    "        self.origin = origin\n",
    "    }\n",
    "        \n",
    "    var description: String { \"Shape@(\\(origin.x),\\(origin.y))-[\\(color)]\"}\n",
    "}"
   ]
  },
  {
   "cell_type": "code",
   "execution_count": 15,
   "metadata": {},
   "outputs": [
    {
     "name": "stdout",
     "output_type": "stream",
     "text": [
      "white\r\n"
     ]
    }
   ],
   "source": [
    "let x = Shape()\n",
    "print(x.color)"
   ]
  },
  {
   "cell_type": "code",
   "execution_count": 16,
   "metadata": {},
   "outputs": [
    {
     "name": "stdout",
     "output_type": "stream",
     "text": [
      "Shape@(0.0,0.0)-[white]\r\n"
     ]
    }
   ],
   "source": [
    "print(x)"
   ]
  },
  {
   "cell_type": "code",
   "execution_count": 17,
   "metadata": {},
   "outputs": [
    {
     "name": "stdout",
     "output_type": "stream",
     "text": [
      "Shape@(0.0,0.0)-[red]\r\n"
     ]
    }
   ],
   "source": [
    "x.color = \"red\"\n",
    "print(x)"
   ]
  },
  {
   "cell_type": "markdown",
   "metadata": {},
   "source": [
    "(Hemos utilizado un mensaje más compacto en `description` por concisión a la hora de mostrar resultados posteriormente)."
   ]
  },
  {
   "cell_type": "code",
   "execution_count": 18,
   "metadata": {},
   "outputs": [],
   "source": [
    "class Circle: Shape {\n",
    "    var radius: Double\n",
    "    \n",
    "    init(origin: Point, radius: Double) {\n",
    "        self.radius = radius\n",
    "        super.init(origin: origin)\n",
    "    }\n",
    "    \n",
    "    override var description: String { \"Soy un círculo centrado en \\(origin) con radio \\(radius)\"}\n",
    "}"
   ]
  },
  {
   "cell_type": "code",
   "execution_count": 19,
   "metadata": {},
   "outputs": [],
   "source": [
    "struct Size {\n",
    "    var width: Double\n",
    "    var height: Double\n",
    "}\n",
    "\n",
    "class Rectangle: Shape {\n",
    "    var size: Size\n",
    "    \n",
    "    init(origin: Point, size: Size) {\n",
    "        self.size = size\n",
    "        super.init(origin: origin)\n",
    "    }\n",
    "}\n",
    "\n",
    "class Square: Rectangle {    \n",
    "    init(origin: Point, side: Double) {\n",
    "        super.init(origin: origin, size: Size(width: side, height: side))\n",
    "    }\n",
    "}"
   ]
  },
  {
   "cell_type": "markdown",
   "metadata": {},
   "source": [
    "Supongamos también que estamos utilizando este modelo (el árbol de clases que descienden de `Shape`) para implementar un programa de dibujo. Nuestro programa podría tener almacenadas en un array las figuras que hemos añadido en la aplicación, con sus posiciones, tamaños y colores.\n",
    "\n",
    "Este array estaría definido en nuestro programa principal:"
   ]
  },
  {
   "cell_type": "code",
   "execution_count": 26,
   "metadata": {},
   "outputs": [],
   "source": [
    "var shapes: [Shape] = []"
   ]
  },
  {
   "cell_type": "markdown",
   "metadata": {},
   "source": [
    "Al que le añadimos unas cuantas figuras:"
   ]
  },
  {
   "cell_type": "code",
   "execution_count": 27,
   "metadata": {},
   "outputs": [
    {
     "name": "stdout",
     "output_type": "stream",
     "text": [
      "[Soy un círculo centrado en Point(x: 0.0, y: 0.0) con radio 3.0, Shape@(10.0,0.0)-[green], Shape@(2.5,2.5)-[bleu]]\r\n"
     ]
    }
   ],
   "source": [
    "var circle = Circle(origin: Point(x: 0, y: 0), radius: 3)\n",
    "circle.color = \"blue\"\n",
    "\n",
    "var rect = Rectangle(origin: Point(x: 10, y: 0), size: Size(width: 6, height: 2))\n",
    "rect.color = \"green\"\n",
    "\n",
    "var square = Square(origin: Point(x: 2.5, y: 2.5), side: 5)\n",
    "square.color = \"bleu\"\n",
    "\n",
    "shapes = shapes + [circle, rect, square]\n",
    "print(shapes)"
   ]
  },
  {
   "cell_type": "markdown",
   "metadata": {},
   "source": [
    "Ahora vamos a hacer una función para seleccionar únicamente las formas de un determinado color."
   ]
  },
  {
   "cell_type": "code",
   "execution_count": 28,
   "metadata": {},
   "outputs": [],
   "source": [
    "func selectShapes(_ shapes: [Shape], color: String) -> [Shape] {\n",
    "    return shapes.filter { $0.color == color }\n",
    "}"
   ]
  },
  {
   "cell_type": "code",
   "execution_count": 29,
   "metadata": {},
   "outputs": [
    {
     "name": "stdout",
     "output_type": "stream",
     "text": [
      "[Soy un círculo centrado en Point(x: 0.0, y: 0.0) con radio 3.0]\r\n"
     ]
    }
   ],
   "source": [
    "let blueShapes = selectShapes(shapes, color: \"blue\")\n",
    "print(blueShapes)"
   ]
  },
  {
   "cell_type": "markdown",
   "metadata": {},
   "source": [
    "¿Qué ha pasado? Obviamente, hemos cometido un error al crear el cuadrado azul, y hemos puesto mal el color. Podemos intentar arreglarlo, comprobando si los colores son válidos o no. De paso, demostraremos alguna característica adicional del lenguaje.\n",
    "\n",
    "Vamos a ello.\n",
    "Esta era nuestra implementación, la copiamos aquí como referencia:\n",
    "\n",
    "```Swift\n",
    "class Shape: CustomStringConvertible {\n",
    "    var origin: Point\n",
    "    var color: String = \"white\"  // Default\n",
    "    \n",
    "    init(origin: Point = Point(x: 0, y: 0)) {\n",
    "        self.origin = origin\n",
    "    }\n",
    "        \n",
    "    var description: String { \"Shape@(\\(origin.x),\\(origin.y))-[\\(color)]\"}\n",
    "}\n",
    "```"
   ]
  },
  {
   "cell_type": "code",
   "execution_count": 30,
   "metadata": {},
   "outputs": [],
   "source": [
    "class Shape: CustomStringConvertible {\n",
    "    let supportedColors = [\"red\", \"blue\", \"green\", \"yellow\", \"orange\", \"white\", \"black\"]\n",
    "    \n",
    "    var origin: Point\n",
    "    \n",
    "    private var _color = \"white\"\n",
    "    \n",
    "    var color: String {\n",
    "        get { return _color }\n",
    "        set {\n",
    "            if supportedColors.contains(newValue) {\n",
    "                _color = newValue\n",
    "            } else {\n",
    "                // What to do here?\n",
    "                print(\"Color no soportado\")\n",
    "                _color = \"unknown\"\n",
    "            }\n",
    "        }\n",
    "    }\n",
    "    \n",
    "    init(origin: Point = Point(x: 0, y: 0)) {\n",
    "        self.origin = origin\n",
    "    }\n",
    "        \n",
    "    var description: String { \"Shape@(\\(origin.x),\\(origin.y))-[\\(color)]\"}\n",
    "}"
   ]
  },
  {
   "cell_type": "code",
   "execution_count": 31,
   "metadata": {},
   "outputs": [
    {
     "name": "stdout",
     "output_type": "stream",
     "text": [
      "red\r\n"
     ]
    }
   ],
   "source": [
    "var anotherShape = Shape()\n",
    "anotherShape.color = \"red\"\n",
    "print(anotherShape.color)"
   ]
  },
  {
   "cell_type": "code",
   "execution_count": 32,
   "metadata": {},
   "outputs": [
    {
     "name": "stdout",
     "output_type": "stream",
     "text": [
      "Color no soportado\r\n",
      "unknown\r\n"
     ]
    }
   ],
   "source": [
    "anotherShape.color = \"ornage\"\n",
    "print(anotherShape.color)"
   ]
  },
  {
   "cell_type": "markdown",
   "metadata": {},
   "source": [
    "El código anterior trata de comprobar si el color que intentamos escribir en la propiedad es válido o no, comparando con un array que tiene todas las posibilidades permitidas. Si es válido, lo acepta; pero en caso de no serlo lo rechazamos utilizando un color especial que hemos llamado `unknown`.\n",
    "\n",
    "Hemos cambiado la propiedad `color`. Ahora es una propiedad que tiene asignados dos fragmentos de código:\n",
    "- El fragmento que aparece después de `get` se ejecuta cuando queremos leer el valor de la propiedad. Es lo que se denomina el \"getter\" de la propiedad.\n",
    "- El fragmento que aparece después de `set` se ejecuta cuando queremos asignar un nuevo valor a la propiedad. Se denomina \"setter\". `newValue` es una variable especial del setter que contiene el nuevo valor que estamos intentando asignar.\n",
    "\n",
    "El dato en sí se guarda esta vez en _otra_ variable llamada `_color`, que hemos definido como privada `private` para asegurarnos de que nadie pueda modificarla. Tan sólo el _getter_ y el _setter_ de `color` son los que acceden a esa propiedad."
   ]
  },
  {
   "cell_type": "markdown",
   "metadata": {},
   "source": [
    "A pesar de nuestros esfuerzos, cuando nos equivocamos de color no hay solución sencilla:\n",
    "- ¿Utilizamos un valor especial, como hemos hecho? ¿Cómo hacemos saber a los usuarios de este código que ha habido un error?\n",
    "- ¿Ponemos el valor por defecto (blanco), e ignoramos el cambio?\n",
    "- ¿Hacemos `_color` opcional para que pueda ser `nil` en este caso?\n",
    "\n",
    "Como podemos ver, **el código se empieza a complicar rápidamente, y empezamos a tener estados inconsistentes en nuestro programa**."
   ]
  },
  {
   "cell_type": "markdown",
   "metadata": {},
   "source": [
    "Nota: si en lugar de un `String` para codificar el color hubiéramos utilizado un número, estaríamos más o menos en la misma situación, y además el código sería más difícil de leer (tendríamos que recordar la correspondencia entre número y color)."
   ]
  },
  {
   "cell_type": "markdown",
   "metadata": {},
   "source": [
    "-----"
   ]
  },
  {
   "cell_type": "markdown",
   "metadata": {},
   "source": [
    "**Solución con `enum`**"
   ]
  },
  {
   "cell_type": "code",
   "execution_count": 33,
   "metadata": {},
   "outputs": [],
   "source": [
    "enum Color {\n",
    "    case red\n",
    "    case blue\n",
    "    case green\n",
    "    case yellow\n",
    "    case orange\n",
    "    case white\n",
    "    case black\n",
    "}"
   ]
  },
  {
   "cell_type": "code",
   "execution_count": 34,
   "metadata": {},
   "outputs": [],
   "source": [
    "let blue = Color.blue"
   ]
  },
  {
   "cell_type": "code",
   "execution_count": 35,
   "metadata": {},
   "outputs": [
    {
     "ename": "",
     "evalue": "",
     "output_type": "error",
     "traceback": [
      "error: <Cell 35>:1:23: error: type 'Color' has no member 'bleu'\nlet otroColor = Color.bleu\n                ~~~~~ ^~~~\n\n"
     ]
    }
   ],
   "source": [
    "let otroColor = Color.bleu"
   ]
  },
  {
   "cell_type": "markdown",
   "metadata": {},
   "source": [
    "Recordemos la explicación inicial: el tipo `Color` es un enumerado que contiene de forma explícita los valores que pueden tomar las variables de ese tipo.\n",
    "\n",
    "Los diferentes \"casos\" que puede tomar la variable **no** son `String`s. Son identificadores, igual que las variables o los nombres de las funciones. Esto es bueno, porque permite al compilador avisarnos de que hay errores."
   ]
  },
  {
   "cell_type": "code",
   "execution_count": 36,
   "metadata": {},
   "outputs": [],
   "source": [
    "class Shape: CustomStringConvertible {\n",
    "    var origin: Point\n",
    "    var color: Color = Color.white\n",
    "    \n",
    "    init(origin: Point = Point(x: 0, y: 0)) {\n",
    "        self.origin = origin\n",
    "    }\n",
    "        \n",
    "    var description: String { \"Shape@(\\(origin.x),\\(origin.y))-[\\(color)]\"}\n",
    "}"
   ]
  },
  {
   "cell_type": "markdown",
   "metadata": {},
   "source": [
    "Los casos se especifican con el nombre del tipo y después el nombre del caso, separados por `.`: `Color.white`.\n",
    "Si no existe ambigüedad, podemos omitir el nombre del tipo (pero no el punto):"
   ]
  },
  {
   "cell_type": "code",
   "execution_count": 37,
   "metadata": {},
   "outputs": [],
   "source": [
    "var anotherShape = Shape()\n",
    "anotherShape.color = Color.red\n",
    "anotherShape.color = .blue      // Omitimos nombre del tipo"
   ]
  },
  {
   "cell_type": "code",
   "execution_count": 38,
   "metadata": {},
   "outputs": [
    {
     "ename": "",
     "evalue": "",
     "output_type": "error",
     "traceback": [
      "error: <Cell 38>:1:23: error: type 'Color' has no member 'bleu'\nanotherShape.color = .bleu\n                     ~^~~~\n\n"
     ]
    }
   ],
   "source": [
    "anotherShape.color = .bleu"
   ]
  },
  {
   "cell_type": "markdown",
   "metadata": {},
   "source": [
    "Es **imposible** introducir un valor no contemplado, el compilador nos avisa antes de intentar ejecutar el código. El programa nunca estará en un estado inconsistente por este motivo."
   ]
  },
  {
   "cell_type": "code",
   "execution_count": 39,
   "metadata": {},
   "outputs": [
    {
     "name": "stdout",
     "output_type": "stream",
     "text": [
      "Color\r\n"
     ]
    }
   ],
   "source": [
    "print(type(of: anotherShape.color))"
   ]
  },
  {
   "cell_type": "markdown",
   "metadata": {},
   "source": [
    "### `switch`"
   ]
  },
  {
   "cell_type": "markdown",
   "metadata": {},
   "source": [
    "Supongamos ahora que nuestro programa está destinado a hispanohablantes y queremos mostrar el nombre de los diferentes colores en español, independientemente del nombre simbólico que le hemos dado en el código. Podemos hacer una función o una propiedad para obtener el `String` correspondiente.\n",
    "\n",
    "Podríamos hacer la conversión dentro de `Shape`. Pero, al igual que hemos visto en otros casos, en Swift se pueden añadir propiedades a cualquier tipo. Esto es válido también para `enum`s."
   ]
  },
  {
   "cell_type": "code",
   "execution_count": 40,
   "metadata": {},
   "outputs": [],
   "source": [
    "extension Color {\n",
    "    var spanishName: String {\n",
    "        switch self {\n",
    "            case .red    : return \"rojo\"\n",
    "            case .blue   : return \"azul\"\n",
    "            case .green  : return \"verde\"\n",
    "            case .yellow : return \"amarillo\"\n",
    "            case .orange : return \"naranja\"\n",
    "            case .white  : return \"blanco\"\n",
    "            case .black  : return \"negro\"\n",
    "        }\n",
    "    }\n",
    "}"
   ]
  },
  {
   "cell_type": "code",
   "execution_count": 41,
   "metadata": {},
   "outputs": [
    {
     "name": "stdout",
     "output_type": "stream",
     "text": [
      "blue\r\n"
     ]
    }
   ],
   "source": [
    "let blue = Color.blue\n",
    "print(blue)"
   ]
  },
  {
   "cell_type": "code",
   "execution_count": 42,
   "metadata": {},
   "outputs": [
    {
     "name": "stdout",
     "output_type": "stream",
     "text": [
      "azul\r\n"
     ]
    }
   ],
   "source": [
    "print(blue.spanishName)"
   ]
  },
  {
   "cell_type": "code",
   "execution_count": 43,
   "metadata": {},
   "outputs": [
    {
     "name": "stdout",
     "output_type": "stream",
     "text": [
      "azul\r\n"
     ]
    }
   ],
   "source": [
    "print(anotherShape.color.spanishName)"
   ]
  },
  {
   "cell_type": "markdown",
   "metadata": {},
   "source": [
    "`switch` funciona examinando el valor de la expresión que se le indica, y comparando dicho valor con las expresiones que aparecen en cada uno de los casos que figuran a continuación. Cuando las dos expresiones coinciden, se ejecuta el código que aparece después del `case` correspondiente.\n",
    "\n",
    "En este ejemplo, `self` hace referencia a la variable de tipo `Color` donde está definida la propiedad `spanishName`, que es donde hemos puesto el `switch`."
   ]
  },
  {
   "cell_type": "markdown",
   "metadata": {},
   "source": [
    "`switch` no sólo sirve para comparar tipos enumerados. Puede utilizarse con otros tipos, y admite patrones mucho más complejos. Por ejemplo:"
   ]
  },
  {
   "cell_type": "code",
   "execution_count": 47,
   "metadata": {},
   "outputs": [
    {
     "name": "stdout",
     "output_type": "stream",
     "text": [
      "sobresaliente\r\n"
     ]
    }
   ],
   "source": [
    "var nota = 8.9\n",
    "switch nota {\n",
    "    case 0..<5: print(\"suspenso\")\n",
    "    case 5..<7: print(\"aprobado\")\n",
    "    case 7..<8.5: print(\"notable\")\n",
    "    case 8.5..<10: print(\"sobresaliente\")\n",
    "    case 10: print(\"matrícula de honor\")\n",
    "    default: print(\"np\")\n",
    "}"
   ]
  },
  {
   "cell_type": "markdown",
   "metadata": {},
   "source": [
    "Obsérvese cómo podemos comparar si la variable `nota` está comprendida dentro de un cierto rango, o es exactamente igual a un valor concreto.\n",
    "\n",
    "Cuando usamos `switch` es obligatorio contemplar _todos_ los casos posibles. Por eso hemos introducido el caso `default`, que se verifica cuando no se cumple ninguno de los otros. Esto es así porque nuestra variable `nota` es un `Double`, y por tanto puede tomar cualquier valor real, no sólo los comprendidos entre 0 y 10. "
   ]
  },
  {
   "cell_type": "markdown",
   "metadata": {},
   "source": [
    "**Ejercicio**"
   ]
  },
  {
   "cell_type": "markdown",
   "metadata": {},
   "source": [
    "Queremos programar un juego en el que un personaje se mueve por un tablero. La posición del personaje se especifica mediante una componente `x` (horizontal) y una componente `y` (vertical). El personaje puede moverse hacia arriba, abajo, izquierda y derecha. Un movimiento hacia la derecha incrementa el valor de `x`, y un movimiento hacia arriba incrementa el valor de `y`; los movimientos en sentido contrario restan `1` a la componente correspondiente."
   ]
  },
  {
   "cell_type": "markdown",
   "metadata": {},
   "source": [
    "Hemos decidido modelar la posición y el movimiento con los siguientes tipos:"
   ]
  },
  {
   "cell_type": "code",
   "execution_count": 44,
   "metadata": {},
   "outputs": [],
   "source": [
    "struct Location {\n",
    "    var x = 0\n",
    "    var y = 0\n",
    "}\n",
    "\n",
    "enum Direction {\n",
    "    case up\n",
    "    case down\n",
    "    case left\n",
    "    case right\n",
    "}"
   ]
  },
  {
   "cell_type": "markdown",
   "metadata": {},
   "source": [
    "Se pide:\n",
    "\n",
    "Escribe una función llamada `move` a la que se le indique la dirección de movimiento, y actualice la posición según las reglas dadas. Dicha función debe implementarse como parte de la estructura `Location`."
   ]
  },
  {
   "cell_type": "code",
   "execution_count": 46,
   "metadata": {},
   "outputs": [],
   "source": [
    "extension Location {\n",
    "    mutating func move(_ direction: Direction) {\n",
    "        switch direction {\n",
    "            case .up   : self.y = self.y + 1\n",
    "            case .down : self.y = self.y - 1\n",
    "            case .right: self.x = self.x + 1\n",
    "            case .left : self.x = self.x - 1\n",
    "        }\n",
    "    }\n",
    "}"
   ]
  },
  {
   "cell_type": "code",
   "execution_count": 47,
   "metadata": {},
   "outputs": [
    {
     "name": "stdout",
     "output_type": "stream",
     "text": [
      "Location(x: 0, y: 1)\r\n",
      "Location(x: -1, y: 1)\r\n",
      "Location(x: -1, y: 2)\r\n",
      "Location(x: -1, y: 3)\r\n",
      "Location(x: 0, y: 3)\r\n",
      "Location(x: 1, y: 3)\r\n",
      "Location(x: 1, y: 2)\r\n"
     ]
    }
   ],
   "source": [
    "var characterPosition = Location()\n",
    "var steps: [Direction] = [.up, .left, .up, .up, .right, .right, .down]\n",
    "for direction in steps {\n",
    "    characterPosition.move(direction)\n",
    "    print(characterPosition)\n",
    "}"
   ]
  },
  {
   "cell_type": "code",
   "execution_count": 49,
   "metadata": {},
   "outputs": [],
   "source": [
    "extension Location {\n",
    "    func move(_ direction: Direction) -> Location {\n",
    "        switch direction {\n",
    "            case .up   : return Location(x: x, y: y + 1)\n",
    "            case .down : return Location(x: x, y: y - 1)\n",
    "            case .right: return Location(x: x + 1, y: y)\n",
    "            case .left : return Location(x: x - 1, y: y)\n",
    "        }\n",
    "    }\n",
    "}"
   ]
  },
  {
   "cell_type": "code",
   "execution_count": 51,
   "metadata": {},
   "outputs": [
    {
     "name": "stdout",
     "output_type": "stream",
     "text": [
      "Location(x: 0, y: 1)\r\n",
      "Location(x: -1, y: 1)\r\n",
      "Location(x: -1, y: 2)\r\n",
      "Location(x: -1, y: 3)\r\n",
      "Location(x: 0, y: 3)\r\n",
      "Location(x: 1, y: 3)\r\n",
      "Location(x: 1, y: 2)\r\n"
     ]
    }
   ],
   "source": [
    "var characterPosition = Location()\n",
    "var steps: [Direction] = [.up, .left, .up, .up, .right, .right, .down]\n",
    "for direction in steps {\n",
    "    characterPosition = characterPosition.move(direction)\n",
    "    print(characterPosition)\n",
    "}"
   ]
  },
  {
   "cell_type": "markdown",
   "metadata": {},
   "source": [
    "Puedes utilizar el siguiente fragmento para probar tu código. Comenzando en la posición `(0, 0)`, el personaje debe acabar en la posición `(1, 2)` después de la secuencia indicada."
   ]
  },
  {
   "cell_type": "markdown",
   "metadata": {},
   "source": [
    "### Valores asociados a `enum`s (_associated values_)"
   ]
  },
  {
   "cell_type": "markdown",
   "metadata": {},
   "source": [
    "Supongamos que queremos hacer una aplicación tipo agenda, en la que vamos apuntando distintas actividades. Un tipo de actividades son las de ocio, que podemos modelar con un tipo enumerado. Por ejemplo, podemos tener un tipo para entrenar, otro para ver una serie de televisión, otro diferente para jugar al ordenador o consola, etc.\n",
    "\n",
    "La forma simple de definir un enumerado con distintas actividades sería la siguiente:"
   ]
  },
  {
   "cell_type": "code",
   "execution_count": 52,
   "metadata": {},
   "outputs": [],
   "source": [
    "enum Activity {\n",
    "    case workout\n",
    "    case tvshow\n",
    "    case gaming\n",
    "}"
   ]
  },
  {
   "cell_type": "markdown",
   "metadata": {},
   "source": [
    "Sin embargo, los `enum`s tienen riqueza suficiente para asociar a cada uno de los casos del tipo detalles adicionales, que pueden ser diferentes según la actividad. Por ejemplo:"
   ]
  },
  {
   "cell_type": "code",
   "execution_count": 53,
   "metadata": {},
   "outputs": [],
   "source": [
    "enum Activity {\n",
    "    case workout(exercise: String, minutes: Int)\n",
    "    case tvshow(title: String, season: Int, episode: Int)\n",
    "    case gaming(game: String, character: String)\n",
    "}"
   ]
  },
  {
   "cell_type": "markdown",
   "metadata": {},
   "source": [
    "Podemos definir variables de este tipo, pero cada una con detalles diferentes:"
   ]
  },
  {
   "cell_type": "code",
   "execution_count": 54,
   "metadata": {},
   "outputs": [],
   "source": [
    "var mondayActivity = Activity.workout(exercise: \"running\", minutes: 60)\n",
    "var tuesdayActivity = Activity.tvshow(title: \"JoJo's Bizarre Adventure\", season: 2, episode: 47)\n",
    "var wednesdayActivity = Activity.gaming(game: \"League of Legends\", character: \"Lulu\")\n",
    "var thursdayActivity = Activity.workout(exercise: \"hiit\", minutes: 30)"
   ]
  },
  {
   "cell_type": "code",
   "execution_count": 55,
   "metadata": {},
   "outputs": [
    {
     "name": "stdout",
     "output_type": "stream",
     "text": [
      "workout(exercise: \"running\", minutes: 60)\r\n"
     ]
    }
   ],
   "source": [
    "print(mondayActivity)"
   ]
  },
  {
   "cell_type": "code",
   "execution_count": 56,
   "metadata": {},
   "outputs": [
    {
     "name": "stdout",
     "output_type": "stream",
     "text": [
      "gaming(game: \"League of Legends\", character: \"Lulu\")\r\n"
     ]
    }
   ],
   "source": [
    "print(wednesdayActivity)"
   ]
  },
  {
   "cell_type": "markdown",
   "metadata": {},
   "source": [
    "Si quisiéramos mostrar en nuestra aplicación un mensaje apropiado según el tipo de actividad, podríamos componer el mensaje utilizando un `switch`. En este caso podemos acceder a los detalles asociados de la siguiente manera:"
   ]
  },
  {
   "cell_type": "code",
   "execution_count": 57,
   "metadata": {},
   "outputs": [],
   "source": [
    "extension Activity {\n",
    "    var message: String {\n",
    "        switch self {\n",
    "            case .workout(let exercise, let minutes):\n",
    "                return \"Ponte el chandal, vamos a entrenar \\(minutes) minutillos de nada!\"\n",
    "            case .tvshow(let title, let season, let episode):\n",
    "                return \"Es hora de ver qué pasa en \\(title) S\\(season)E\\(episode)!\"\n",
    "            case .gaming(let game, let character):\n",
    "                return \"Tus amigos no creen que puedas ganar con \\(character). Abre el \\(game) y demuéstrales lo contrario!\"\n",
    "        }\n",
    "    }\n",
    "}"
   ]
  },
  {
   "cell_type": "markdown",
   "metadata": {},
   "source": [
    "El mensaje, así pues, sería diferente para cada actividad, incluyendo los detalles de la misma:"
   ]
  },
  {
   "cell_type": "code",
   "execution_count": 58,
   "metadata": {},
   "outputs": [
    {
     "name": "stdout",
     "output_type": "stream",
     "text": [
      "Ponte el chandal, vamos a entrenar 60 minutillos de nada!\r\n"
     ]
    }
   ],
   "source": [
    "print(mondayActivity.message)"
   ]
  },
  {
   "cell_type": "code",
   "execution_count": 59,
   "metadata": {},
   "outputs": [
    {
     "name": "stdout",
     "output_type": "stream",
     "text": [
      "Es hora de ver qué pasa en JoJo's Bizarre Adventure S2E47!\r\n",
      "Tus amigos no creen que puedas ganar con Lulu. Abre el League of Legends y demuéstrales lo contrario!\r\n"
     ]
    }
   ],
   "source": [
    "print(tuesdayActivity.message)\n",
    "print(wednesdayActivity.message)"
   ]
  },
  {
   "cell_type": "markdown",
   "metadata": {},
   "source": [
    "## Excepciones"
   ]
  },
  {
   "cell_type": "markdown",
   "metadata": {},
   "source": [
    "Las excepciones son el mecanismo que tiene Swift para indicar la presencia de errores en el código. Los errores pueden producirse por diversos motivos:\n",
    "* Se ha enviado un dato inesperado o que se sale del rango aceptado por una función, que no sabe qué hacer con él. Es, por ejemplo, el caso de las comprobaciones que hicimos en el cálculo de la raíz cuadrada de un número.\n",
    "* Se ha producido una condición inesperada o errónea en la aplicación. Por ejemplo, tratamos de conectar a un servidor y es imposible establecer la comunicación. O intentamos leer un fichero y el sistema operativo nos dice que ha habido un error de lectura."
   ]
  },
  {
   "cell_type": "markdown",
   "metadata": {},
   "source": [
    "Para poder utilizar excepciones, primero hemos de definir los errores que nuestro código puede generar. Esto se hace con un `enum`. Este `enum` es especial, en el sentido que debe adoptar el protocolo `Error` (que es estándar del sistema)."
   ]
  },
  {
   "cell_type": "markdown",
   "metadata": {},
   "source": [
    "Por ejemplo, supongamos que estamos escribiendo un juego multijugador en el que el usuario tiene que conectarse al servidor para poder jugar. Podemos crear un `enum` con los distintos tipos de error que se pueden dar en esta situación:"
   ]
  },
  {
   "cell_type": "code",
   "execution_count": 53,
   "metadata": {},
   "outputs": [],
   "source": [
    "enum ConnectionError: Error {\n",
    "    case noNetwork      // El ordenador no está conectado a Internet\n",
    "    case noConnection   // No podemos establecer conexión con el servidor\n",
    "    case badPassword    // Las credenciales introducidas no son correctas\n",
    "    // etc\n",
    "}"
   ]
  },
  {
   "cell_type": "markdown",
   "metadata": {},
   "source": [
    "La función (o funciones) que establecen la conexión y hacen el login pueden \"lanzar\" los distintos errores representados por el `enum` que acabamos de describir. Se utiliza para ello la palabra **`throws`** en la declaración de la función."
   ]
  },
  {
   "cell_type": "code",
   "execution_count": 61,
   "metadata": {},
   "outputs": [],
   "source": [
    "func connect(server: String) throws -> Bool {\n",
    "    if server == \"siempre_caido.com\" {\n",
    "        throw ConnectionError.noConnection\n",
    "    }\n",
    "    \n",
    "    return true\n",
    "}"
   ]
  },
  {
   "cell_type": "markdown",
   "metadata": {},
   "source": [
    "Observa que, en el caso de producirse una excepción, utilizamos `throw` para lanzar el error correspondiente. En este caso no es necesario utilizar `return` para salir de la función: el flujo de ejecución se interrumpe y termina la ejecución de la función."
   ]
  },
  {
   "cell_type": "markdown",
   "metadata": {},
   "source": [
    "Para invocar una función que lanza excepciones, hemos de hacerlo del siguiente modo:"
   ]
  },
  {
   "cell_type": "code",
   "execution_count": 63,
   "metadata": {},
   "outputs": [
    {
     "name": "stdout",
     "output_type": "stream",
     "text": [
      "Error de conexión: noConnection\r\n"
     ]
    }
   ],
   "source": [
    "let server = \"siempre_caido.com\"\n",
    "do {\n",
    "    let connected = try connect(server: server)\n",
    "    print(\"Estamos conectados\")\n",
    "} catch {\n",
    "    print(\"Error de conexión: \\(error)\")\n",
    "}"
   ]
  },
  {
   "cell_type": "markdown",
   "metadata": {},
   "source": [
    "Prueba: cambia el nombre del servidor por `siempre_caido.com`."
   ]
  },
  {
   "cell_type": "code",
   "execution_count": null,
   "metadata": {},
   "outputs": [],
   "source": [
    "let server = \"good-server.com\"\n",
    "do {\n",
    "    let connected = try connect(server: server)\n",
    "    print(\"Estamos conectados\")\n",
    "} catch {\n",
    "    print(\"Error de conexión: \\(error)\")\n",
    "}"
   ]
  },
  {
   "cell_type": "markdown",
   "metadata": {},
   "source": [
    "Si la función `connect` funciona correctamente, el programa sigue por la línea siguiente a la invocación, como siempre. En nuestro caso, lo único que hacemos en este ejemplo es imprimir un mensaje.\n",
    "\n",
    "Si, por el contrario, se lanza una excepción, el programa continúa por el bloque `catch`. En este bloque tenemos acceso a una variable llamada `error` que contiene el error que se ha capturado."
   ]
  },
  {
   "cell_type": "markdown",
   "metadata": {},
   "source": [
    "Podemos gestionar los diferentes errores de manera independiente. En algunos casos nuestro programa podrá continuar aplicando soluciones alternativas (por ejemplo, conectando a otro servidor), y en otros podremos al menos mostrar un error \"decente\" al usuario."
   ]
  },
  {
   "cell_type": "code",
   "execution_count": 67,
   "metadata": {},
   "outputs": [
    {
     "name": "stdout",
     "output_type": "stream",
     "text": [
      "Estamos conectados\r\n"
     ]
    }
   ],
   "source": [
    "let server = \"good_server.com\"\n",
    "do {\n",
    "    let connected = try connect(server: server)\n",
    "    print(\"Estamos conectados\")\n",
    "} catch ConnectionError.noNetwork {\n",
    "    print(\"Parece que tu ordenador no está conectado a Internet.\")\n",
    "} catch ConnectionError.badPassword {\n",
    "    print(\"Contraseña incorrecta, por favor introdúcela de nuevo.\")\n",
    "} catch {\n",
    "    print(\"Error de conexión: \\(error)\")\n",
    "}"
   ]
  },
  {
   "cell_type": "code",
   "execution_count": 66,
   "metadata": {},
   "outputs": [
    {
     "name": "stdout",
     "output_type": "stream",
     "text": [
      "Error de conexión: noConnection\r\n"
     ]
    }
   ],
   "source": [
    "let server = \"siempre_caido.com\"\n",
    "do {\n",
    "    let connected = try connect(server: server)\n",
    "    print(\"Estamos conectados\")\n",
    "} catch (let laExcepcion) {\n",
    "    print(\"Error de conexión: \\(laExcepcion)\")\n",
    "}"
   ]
  },
  {
   "cell_type": "markdown",
   "metadata": {},
   "source": [
    "En este ejemplo tratamos de forma específica los errores `.noNetwork` y `.badPassword`. Cualquier otro tipo de error lo capturamos en el último `catch` que no tiene parámetros."
   ]
  },
  {
   "cell_type": "markdown",
   "metadata": {},
   "source": [
    "**Ejercicio**\n",
    "\n",
    "En el juego que esbozamos en el ejercicio anterior, consideramos que nuestro mapa tiene unas dimensiones de 10x8. El jugador comienza a moverse en la celda (0, 0), que es la que está en la esquina inferior izquierda. Amplía el código para detectar si el jugador se saldría por uno de los lados del tablero. La función `move` debe lanzar una excepción indicando el lado en el que se ha llegado al extremo.\n",
    "\n",
    "Te damos a continuación un esqueleto del código que puedes comenzar a utilizar."
   ]
  },
  {
   "cell_type": "markdown",
   "metadata": {},
   "source": [
    "Repetimos por comodidad las definiciones de `Location` y `Direction` que estaban en una celda anterior."
   ]
  },
  {
   "cell_type": "code",
   "execution_count": 1,
   "metadata": {},
   "outputs": [],
   "source": [
    "struct Location {\n",
    "    var x = 0\n",
    "    var y = 0\n",
    "}\n",
    "\n",
    "enum Direction {\n",
    "    case up\n",
    "    case down\n",
    "    case left\n",
    "    case right\n",
    "}"
   ]
  },
  {
   "cell_type": "markdown",
   "metadata": {},
   "source": [
    "El tablero lo vamos a modelar con un `struct` en el que se indican sus dimensiones."
   ]
  },
  {
   "cell_type": "code",
   "execution_count": 2,
   "metadata": {},
   "outputs": [],
   "source": [
    "struct Board {\n",
    "    var width = 10\n",
    "    var height = 8\n",
    "}"
   ]
  },
  {
   "cell_type": "code",
   "execution_count": null,
   "metadata": {},
   "outputs": [],
   "source": [
    "let b = Board(width: 200, height: 100)"
   ]
  },
  {
   "cell_type": "code",
   "execution_count": 34,
   "metadata": {},
   "outputs": [],
   "source": [
    "extension Location {\n",
    "    enum MoveError: Error {\n",
    "        // Your code here\n",
    "        case ladoDerecho\n",
    "        case ladoIzquierdo\n",
    "        case ladoSuperior\n",
    "        case ladoInferior\n",
    "    }\n",
    "    \n",
    "    mutating func move(_ direction: Direction, within board: Board) throws {\n",
    "        // Your code here\n",
    "        switch direction {\n",
    "            case .up   :\n",
    "                if y == board.height - 1 { throw MoveError.ladoSuperior }\n",
    "                y = y + 1\n",
    "            case .down :\n",
    "                if y == 0 { throw MoveError.ladoInferior }\n",
    "                self.y = self.y - 1\n",
    "            case .right:\n",
    "                if x == board.width - 1 { throw MoveError.ladoDerecho }\n",
    "                self.x = self.x + 1\n",
    "            case .left :\n",
    "                if x == 0 { throw MoveError.ladoIzquierdo }\n",
    "                self.x = self.x - 1\n",
    "        }\n",
    "    }\n",
    "}"
   ]
  },
  {
   "cell_type": "code",
   "execution_count": 35,
   "metadata": {},
   "outputs": [],
   "source": [
    "var character = Location()\n",
    "var board = Board()"
   ]
  },
  {
   "cell_type": "code",
   "execution_count": 36,
   "metadata": {},
   "outputs": [],
   "source": [
    "func moveCharacter(_ direction: Direction) {\n",
    "    do {\n",
    "        try character.move(direction, within: board)\n",
    "        print(character)\n",
    "    } catch {\n",
    "        print(\"No puedo avanzar! Extremo alcanzado: \\(error)\")\n",
    "        print(\"Posición actual: \\(character)\")\n",
    "    }\n",
    "}"
   ]
  },
  {
   "cell_type": "markdown",
   "metadata": {},
   "source": [
    "Si repites varias veces la ejecución de la siguiente celda, eventualmente debería salir un mensaje de error."
   ]
  },
  {
   "cell_type": "code",
   "execution_count": 37,
   "metadata": {},
   "outputs": [
    {
     "name": "stdout",
     "output_type": "stream",
     "text": [
      "Location(x: 0, y: 0)\r\n"
     ]
    }
   ],
   "source": [
    "print(character)"
   ]
  },
  {
   "cell_type": "code",
   "execution_count": 46,
   "metadata": {},
   "outputs": [
    {
     "name": "stdout",
     "output_type": "stream",
     "text": [
      "No puedo avanzar! Extremo alcanzado: ladoSuperior\r\n",
      "Posición actual: Location(x: 0, y: 7)\r\n"
     ]
    }
   ],
   "source": [
    "moveCharacter(.up)"
   ]
  },
  {
   "cell_type": "code",
   "execution_count": 26,
   "metadata": {},
   "outputs": [
    {
     "name": "stdout",
     "output_type": "stream",
     "text": [
      "Location(x: -1, y: 0)\r\n"
     ]
    }
   ],
   "source": [
    "print(character)"
   ]
  },
  {
   "cell_type": "markdown",
   "metadata": {},
   "source": [
    "------"
   ]
  },
  {
   "cell_type": "markdown",
   "metadata": {},
   "source": [
    "Los enumerados que usamos en las excepciones pueden también llevar valores asociados. Esto nos permite dar detalles adicionales sobre el error que se ha producido.\n",
    "\n",
    "En el último ejemplo, en realidad la condición de error es siempre la misma (se ha alcanzado uno de los extremos del tablero). En lugar de modelarlo como 4 errores diferentes, podemos hacerlo con uno solo, del siguiente modo:"
   ]
  },
  {
   "cell_type": "code",
   "execution_count": 47,
   "metadata": {},
   "outputs": [],
   "source": [
    "extension Location {\n",
    "    enum BoardError: Error {\n",
    "        // Your code here\n",
    "        case outOfBoard(Direction)\n",
    "    }\n",
    "    \n",
    "    /// Esta funcion lanza la excepcion BoardError si el movimiento se sale del tablero\n",
    "    mutating func move(_ direction: Direction, within board: Board) throws {\n",
    "        // Your code here\n",
    "        switch direction {\n",
    "            case .up   :\n",
    "                if y == board.height - 1 { throw BoardError.outOfBoard(.up) }\n",
    "                y = y + 1\n",
    "            case .down :\n",
    "                if y == 0 { throw BoardError.outOfBoard(.down) }\n",
    "                self.y = self.y - 1\n",
    "            case .right:\n",
    "                if x == board.width - 1 { throw BoardError.outOfBoard(.right) }\n",
    "                self.x = self.x + 1\n",
    "            case .left :\n",
    "                if x == 0 { throw BoardError.outOfBoard(.left) }\n",
    "                self.x = self.x - 1\n",
    "        }\n",
    "    }\n",
    "}"
   ]
  },
  {
   "cell_type": "code",
   "execution_count": 48,
   "metadata": {},
   "outputs": [],
   "source": [
    "func moveCharacter(_ direction: Direction) {\n",
    "    do {\n",
    "        try character.move(direction, within: board)\n",
    "        print(character)\n",
    "    } catch Location.BoardError.outOfBoard(let direction) {\n",
    "        print(\"No puedo avanzar en la dirección '\\(direction)'!\")\n",
    "        print(\"Posición actual: \\(character)\")\n",
    "    } catch {\n",
    "        print(\"Error inesperado: \\(error)\")\n",
    "    }\n",
    "}"
   ]
  },
  {
   "cell_type": "code",
   "execution_count": 49,
   "metadata": {},
   "outputs": [
    {
     "name": "stdout",
     "output_type": "stream",
     "text": [
      "No puedo avanzar en la dirección 'up'!\r\n",
      "Posición actual: Location(x: 0, y: 7)\r\n"
     ]
    }
   ],
   "source": [
    "moveCharacter(.up)"
   ]
  },
  {
   "cell_type": "markdown",
   "metadata": {},
   "source": [
    "### Propagación de excepciones"
   ]
  },
  {
   "cell_type": "markdown",
   "metadata": {},
   "source": [
    "Si llamamos a una función que lanza excepciones (`throws`) desde otra función -que es lo más habitual-, tenemos dos opciones:\n",
    "1. La función desde la que llamamos tienen que tener un bloque `do {} catch {}` para capturar la excepción.\n",
    "2. La función desde la que llamamos tiene, a su vez, que lanzar.\n",
    "\n",
    "En todo caso, cualquier invocación a una función que lanza excepciones debe hacerse con `try` (o alguna de sus variantes, como veremos)."
   ]
  },
  {
   "cell_type": "markdown",
   "metadata": {},
   "source": [
    "En el ejemplo anterior, hemos visto el primero de los casos descritos. Lo repetimos a continuación:"
   ]
  },
  {
   "cell_type": "code",
   "execution_count": 30,
   "metadata": {},
   "outputs": [],
   "source": [
    "func moveCharacter(_ direction: Direction) {\n",
    "    do {\n",
    "        try character.move(direction, within: board)\n",
    "        print(character)\n",
    "    } catch Location.BoardError.outOfBoard(let direction) {\n",
    "        print(\"No puedo avanzar en la dirección '\\(direction)'!\")\n",
    "        print(\"Posición actual: \\(character)\")\n",
    "    } catch {\n",
    "        print(\"Error inesperado: \\(error)\")\n",
    "    }\n",
    "}"
   ]
  },
  {
   "cell_type": "markdown",
   "metadata": {},
   "source": [
    "La alternativa `2` es que la función `moveCharacter` no tenga `catch`, y que delegue la gestión de la excepción en la función que haya llamado a `moveCharacter`:"
   ]
  },
  {
   "cell_type": "code",
   "execution_count": 50,
   "metadata": {},
   "outputs": [
    {
     "ename": "",
     "evalue": "",
     "output_type": "error",
     "traceback": [
      "error: <Cell 50>:2:5: error: errors thrown from here are not handled\n    try character.move(direction, within: board)\n    ^\n\n"
     ]
    }
   ],
   "source": [
    "func moveCharacter2(_ direction: Direction) {\n",
    "    try character.move(direction, within: board)\n",
    "    print(character)\n",
    "}"
   ]
  },
  {
   "cell_type": "code",
   "execution_count": 51,
   "metadata": {},
   "outputs": [],
   "source": [
    "func moveCharacter2(_ direction: Direction) throws {\n",
    "    try character.move(direction, within: board)\n",
    "    print(character)\n",
    "}"
   ]
  },
  {
   "cell_type": "markdown",
   "metadata": {},
   "source": [
    "En este caso, sería la función que llama a `moveCharacter2` (o una superior) la que tendría que hacer el `catch` de la excepción.\n",
    "\n",
    "Si la excepción va recorriendo todo el camino de llamadas y ninguna función hace `catch`, el programa muere de forma incontrolada."
   ]
  },
  {
   "cell_type": "code",
   "execution_count": null,
   "metadata": {},
   "outputs": [],
   "source": []
  },
  {
   "cell_type": "markdown",
   "metadata": {},
   "source": [
    "### `try?` y `try!`"
   ]
  },
  {
   "cell_type": "markdown",
   "metadata": {},
   "source": [
    "Estas dos alternativas a `try` se introducen para simplificar el código.\n",
    "\n",
    "`try?` es una forma de gestionar una excepción (y hacer así que desaparezca y no se propague más) convirtiéndola en un opcional. Su funcionamiento es el siguiente:\n",
    "* Si la función que aparece detrás de `try?` no lanza excepción en esa ejecución, `try?` devuelve el valor que devuelva la función.\n",
    "* Si, por el contrario, la función a la que llamamos lanza una excepción, entonces `try?` convierte la expresión en `nil`."
   ]
  },
  {
   "cell_type": "markdown",
   "metadata": {},
   "source": [
    "Veámoslo con uno de los ejemplos anteriores, ligeramente modificado. Supongamos que nuestra función `connect`, que conecta con un servidor, devuelve un tipo `Connection` que representa las características de la conexión: dirección IP, puerto, protocolo a utilizar, etc. Dejamos el tipo vacío porque ahora sólo nos interesa la definición de `connect`:"
   ]
  },
  {
   "cell_type": "code",
   "execution_count": 54,
   "metadata": {},
   "outputs": [],
   "source": [
    "struct Connection {\n",
    "    // IP, puerto, protocolo y otros parámetros de conexión\n",
    "}\n",
    "\n",
    "func connect(server: String) throws -> Connection {\n",
    "    if server == \"siempre_caido.com\" {\n",
    "        throw ConnectionError.noConnection\n",
    "    }\n",
    "    \n",
    "    return Connection()\n",
    "}"
   ]
  },
  {
   "cell_type": "markdown",
   "metadata": {},
   "source": [
    "Queremos saber si ha conectado o no, pero queremos también guardar el resultado (la conexión) en una variable para hacer después algo con ella. Si hacemos lo siguiente:"
   ]
  },
  {
   "cell_type": "code",
   "execution_count": 55,
   "metadata": {},
   "outputs": [
    {
     "ename": "",
     "evalue": "",
     "output_type": "error",
     "traceback": [
      "warning: <Cell 55>:2:9: warning: initialization of immutable value 'connection' was never used; consider replacing with assignment to '_' or removing it\n    let connection = try connect(server: \"google.com\")\n    ~~~~^~~~~~~~~~\n    _\n\nerror: <Cell 55>:6:7: error: cannot find 'connection' in scope\nprint(connection)\n      ^~~~~~~~~~\n\n"
     ]
    }
   ],
   "source": [
    "do {\n",
    "    let connection = try connect(server: \"google.com\")\n",
    "} catch {\n",
    "    // Ignoramos error\n",
    "}\n",
    "print(connection)"
   ]
  },
  {
   "cell_type": "markdown",
   "metadata": {},
   "source": [
    "¿Por qué ocurre esto? Porque hemos definido `let connection` dentro de `do {`. Cuando definimos una variable dentro de un bloque de código, **sólo es visible dentro de ese bloque**.\n",
    "\n",
    "¿Cómo podemos solucionarlo?"
   ]
  },
  {
   "cell_type": "code",
   "execution_count": 56,
   "metadata": {},
   "outputs": [
    {
     "ename": "",
     "evalue": "",
     "output_type": "error",
     "traceback": [
      "error: <Cell 56>:9:21: error: constant 'connection' used before being initialized\nif let connection = connection {\n                    ^\n\n<Cell 56>:1:5: note: constant defined here\nlet connection: Connection?\n    ^\n\n"
     ]
    }
   ],
   "source": [
    "let connection: Connection?\n",
    "do {\n",
    "    connection = try connect(server: \"google.com\")\n",
    "} catch {\n",
    "    // Ignoramos error\n",
    "}\n",
    "\n",
    "// Comprobamos si es nil para poder utilizarla\n",
    "if let connection = connection {\n",
    "    print(connection)\n",
    "}"
   ]
  },
  {
   "cell_type": "markdown",
   "metadata": {},
   "source": [
    "En la línea 9 estamos usando la variable `connection`. Si `try connect` ha funcionado bien, `connection` se inicializará correctamente. Pero si ha habido una excepción, entonces `connection` **no tendrá asignado ningún valor** (ni siquiera `nil`). ¿Cómo lo solucionamos?"
   ]
  },
  {
   "cell_type": "code",
   "execution_count": 57,
   "metadata": {},
   "outputs": [
    {
     "name": "stdout",
     "output_type": "stream",
     "text": [
      "Connection()\r\n"
     ]
    }
   ],
   "source": [
    "let connection: Connection?\n",
    "do {\n",
    "    connection = try connect(server: \"google.com\")\n",
    "} catch {\n",
    "    connection = nil\n",
    "}\n",
    "\n",
    "// Comprobamos si es nil para poder utilizarla\n",
    "if let connection = connection {\n",
    "    print(connection)\n",
    "}"
   ]
  },
  {
   "cell_type": "markdown",
   "metadata": {},
   "source": [
    "`try?` es simplemente una manera de simplificar todo este mecanismo, que aparece muy frecuentemente cuando trabajamos con excepciones:"
   ]
  },
  {
   "cell_type": "code",
   "execution_count": 62,
   "metadata": {},
   "outputs": [
    {
     "name": "stdout",
     "output_type": "stream",
     "text": [
      "Connection()\r\n"
     ]
    }
   ],
   "source": [
    "let connection = try? connect(server: \"otro.com\")\n",
    "\n",
    "if let connection = connection {\n",
    "    print(connection)\n",
    "} else {\n",
    "    print(\"Sin conexion\")\n",
    "}"
   ]
  },
  {
   "cell_type": "code",
   "execution_count": 63,
   "metadata": {},
   "outputs": [
    {
     "name": "stdout",
     "output_type": "stream",
     "text": [
      "Optional<Connection>\r\n"
     ]
    }
   ],
   "source": [
    "print(type(of: connection))"
   ]
  },
  {
   "cell_type": "markdown",
   "metadata": {},
   "source": [
    "Como vemos, `try?` genera automáticamente una variable del tipo `Optional` que corresponda al valor que devuelve la función. Si la función lanza una excepción, entonces asigna `nil` automáticamente."
   ]
  },
  {
   "cell_type": "code",
   "execution_count": 64,
   "metadata": {},
   "outputs": [
    {
     "name": "stdout",
     "output_type": "stream",
     "text": [
      "no hay conexion\r\n"
     ]
    }
   ],
   "source": [
    "let connection = try? connect(server: \"siempre_caido.com\")\n",
    "print(connection ?? \"no hay conexion\")"
   ]
  },
  {
   "cell_type": "markdown",
   "metadata": {},
   "source": [
    "------"
   ]
  },
  {
   "cell_type": "markdown",
   "metadata": {},
   "source": [
    "#### try!"
   ]
  },
  {
   "cell_type": "markdown",
   "metadata": {},
   "source": [
    "`try!` hace exactamente lo mismo que `try?`, pero a continuación fuerza a desempaquetar el valor del opcional. Sólo podemos usarlo cuando tengamos la absoluta certeza (porque lo hayamos comprobado antes) de que la operación va a funcionar. Si hacemos `try!` y el valor resulta ser `nil`, nuestro programa morirá."
   ]
  },
  {
   "cell_type": "markdown",
   "metadata": {},
   "source": [
    "**Se desaconseja** usar `try!` a menos que tengamos la **absoluta certeza** (porque lo hayamos comprobado en el código, no en nuestra cabeza) de que la operación va a funcionar."
   ]
  },
  {
   "cell_type": "code",
   "execution_count": null,
   "metadata": {},
   "outputs": [],
   "source": []
  },
  {
   "cell_type": "markdown",
   "metadata": {},
   "source": [
    "------"
   ]
  }
 ],
 "metadata": {
  "celltoolbar": "Raw Cell Format",
  "kernelspec": {
   "display_name": "Python 3 (ipykernel)",
   "language": "python",
   "name": "python3"
  },
  "language_info": {
   "codemirror_mode": {
    "name": "ipython",
    "version": 3
   },
   "file_extension": ".py",
   "mimetype": "text/x-python",
   "name": "python",
   "nbconvert_exporter": "python",
   "pygments_lexer": "ipython3",
   "version": "3.9.12"
  }
 },
 "nbformat": 4,
 "nbformat_minor": 4
}
