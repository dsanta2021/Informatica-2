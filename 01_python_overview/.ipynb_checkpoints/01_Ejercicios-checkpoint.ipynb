{
 "cells": [
  {
   "cell_type": "markdown",
   "id": "2d85bca8",
   "metadata": {
    "pycharm": {
     "name": "#%% md\n"
    }
   },
   "source": [
    "### Ejercicio F1\n",
    "\n",
    "Escribe una función que calcule el cuadrado de un número entero. \n",
    "\n",
    "La que vamos a escribir función debe cumplir la siguiente especificación:\n",
    "* Su nombre debe ser `square`.\n",
    "* Debe aceptar un único argumento llamado `number`, de tipo `Int`.\n",
    "* Debe devolver un `Int`, que será el cuadrado del número suministrado."
   ]
  },
  {
   "cell_type": "code",
   "execution_count": 1,
   "id": "ac8d30f8",
   "metadata": {
    "pycharm": {
     "name": "#%%\n"
    }
   },
   "outputs": [
    {
     "name": "stdout",
     "output_type": "stream",
     "text": [
      "4\n",
      "144\n",
      "1\n"
     ]
    }
   ],
   "source": [
    "# Escribe aquí tu código\n",
    "def square(number:int) -> int:\n",
    "    return number ** 2\n",
    "\n",
    "print(square(2))\n",
    "print(square(12))\n",
    "print(square(1))\n"
   ]
  },
  {
   "cell_type": "markdown",
   "id": "16fb88e4",
   "metadata": {
    "pycharm": {
     "name": "#%% md\n"
    }
   },
   "source": [
    "Puedes utilizar la siguiente celda para comprabar si tu implementación es correcta:"
   ]
  },
  {
   "cell_type": "code",
   "execution_count": 2,
   "id": "de97ed20",
   "metadata": {
    "pycharm": {
     "name": "#%%\n"
    }
   },
   "outputs": [
    {
     "name": "stdout",
     "output_type": "stream",
     "text": [
      "4\n",
      "144\n",
      "1\n"
     ]
    }
   ],
   "source": [
    "print((2**2))  # 4\n",
    "print((12**2)) # 144\n",
    "print((1**2))  # 1"
   ]
  },
  {
   "cell_type": "markdown",
   "id": "f60c3358",
   "metadata": {
    "pycharm": {
     "name": "#%% md\n"
    }
   },
   "source": [
    "### Ejercicio F2\n",
    "\n",
    "Escribe una función para calcular si un año es bisiesto, es decir tiene un día más 366 (29 de Febrero). \n",
    "\n",
    "La que vamos a escribir función debe cumplir la siguiente especificación:\n",
    "* Si el año es uniformemente divisible por 4.\n",
    "* Si el año es uniformemente divisible por 100.\n",
    "* Si el año es uniformemente divisible por 400.\n",
    "* El año es un año bisiesto (tiene 366 días).\n",
    "* El año no es un año bisiesto (tiene 365 días)."
   ]
  },
  {
   "cell_type": "code",
   "execution_count": 22,
   "id": "a4252264",
   "metadata": {},
   "outputs": [
    {
     "name": "stdout",
     "output_type": "stream",
     "text": [
      "400 Sí es bisiesto 400%4: 0\n",
      "1000 No es bisiesto 1000%100: 0\n",
      "1000 Sí es bisiesto 4000%400: 0\n"
     ]
    }
   ],
   "source": [
    "# Pistas\n",
    "print(f\"400 Sí es bisiesto 400%4: {400%4}\")\n",
    "print(f\"1000 No es bisiesto 1000%100: {1000%100}\")\n",
    "print(f\"1000 Sí es bisiesto 4000%400: {4000%400}\")"
   ]
  },
  {
   "cell_type": "code",
   "execution_count": 20,
   "id": "a26d371a",
   "metadata": {},
   "outputs": [],
   "source": [
    "# Escribe aquí tu código\n",
    "def esBisiesto(year): return year % 4 == 0 and year % 100 != 0 or year % 400 == 0\n",
    "\n"
   ]
  },
  {
   "cell_type": "code",
   "execution_count": 23,
   "id": "f7be71e6",
   "metadata": {
    "scrolled": true
   },
   "outputs": [
    {
     "name": "stdout",
     "output_type": "stream",
     "text": [
      "False\n",
      "False\n",
      "True\n",
      "False\n",
      "True\n",
      "False\n",
      "True\n"
     ]
    }
   ],
   "source": [
    "# Prueba tu código\n",
    "print(esBisiesto(2022)) #False\n",
    "print(esBisiesto(2021)) #False\n",
    "print(esBisiesto(2020)) #True\n",
    "print(esBisiesto(2019)) #False\n",
    "print(esBisiesto(400))  #True\n",
    "print(esBisiesto(1000)) #False\n",
    "print(esBisiesto(4000)) #True"
   ]
  },
  {
   "cell_type": "markdown",
   "id": "b4a21258",
   "metadata": {
    "pycharm": {
     "name": "#%% md\n"
    }
   },
   "source": [
    "### Ejercicio A1\n",
    "\n",
    "Escribe una función que reciba como parámetro un array de números enteros, y devuelva la suma de los mismos."
   ]
  },
  {
   "cell_type": "code",
   "execution_count": 97,
   "id": "175fea2b",
   "metadata": {
    "pycharm": {
     "name": "#%%\n"
    }
   },
   "outputs": [],
   "source": [
    "# Escribe aquí tu código\n",
    "def sumaEnteros(numeros):\n",
    "    suma = 0\n",
    "    for n in numeros:\n",
    "        suma = suma + n\n",
    "    return suma\n",
    "    "
   ]
  },
  {
   "cell_type": "markdown",
   "id": "00053985",
   "metadata": {
    "pycharm": {
     "name": "#%% md\n"
    }
   },
   "source": [
    "Si tu función está bien, las siguientes celdas darán el resultado esperado:"
   ]
  },
  {
   "cell_type": "code",
   "execution_count": 98,
   "id": "355f0fa8",
   "metadata": {
    "pycharm": {
     "name": "#%%\n"
    }
   },
   "outputs": [
    {
     "name": "stdout",
     "output_type": "stream",
     "text": [
      "6\n"
     ]
    }
   ],
   "source": [
    "print(sumaEnteros([1, 2, 3]))   # 6"
   ]
  },
  {
   "cell_type": "code",
   "execution_count": 99,
   "id": "0f56bd6e",
   "metadata": {
    "pycharm": {
     "name": "#%%\n"
    },
    "scrolled": true
   },
   "outputs": [
    {
     "name": "stdout",
     "output_type": "stream",
     "text": [
      "0\n"
     ]
    }
   ],
   "source": [
    "print(sumaEnteros([-1, 0, 1]))  # 0"
   ]
  },
  {
   "cell_type": "markdown",
   "id": "8cc411cc",
   "metadata": {
    "pycharm": {
     "name": "#%% md\n"
    }
   },
   "source": [
    "### Ejercicio A2\n",
    "\n",
    "Escribe una función que reciba como parámetro un array de números enteros, y devuelva su media como un `float`."
   ]
  },
  {
   "cell_type": "code",
   "execution_count": 34,
   "id": "3de3a354",
   "metadata": {
    "pycharm": {
     "name": "#%%\n"
    }
   },
   "outputs": [],
   "source": [
    "# Escribe aquí tu código\n",
    "def mediaEnteros(numeros):\n",
    "    suma = 0\n",
    "    x = len(numeros)\n",
    "    for n in numeros:\n",
    "        suma = suma + n\n",
    "    return suma / x    \n",
    "    \n",
    "\n"
   ]
  },
  {
   "cell_type": "code",
   "execution_count": 35,
   "id": "267f7369",
   "metadata": {
    "pycharm": {
     "name": "#%%\n"
    },
    "scrolled": true
   },
   "outputs": [
    {
     "name": "stdout",
     "output_type": "stream",
     "text": [
      "2.0\n"
     ]
    }
   ],
   "source": [
    "print(mediaEnteros([1, 2, 3]))   # 2.0"
   ]
  },
  {
   "cell_type": "code",
   "execution_count": 36,
   "id": "7152dd08",
   "metadata": {
    "pycharm": {
     "name": "#%%\n"
    }
   },
   "outputs": [
    {
     "name": "stdout",
     "output_type": "stream",
     "text": [
      "3.5\n"
     ]
    }
   ],
   "source": [
    "print(mediaEnteros([1, 2, 3, 4, 5, 6]))   # 3.5"
   ]
  },
  {
   "cell_type": "markdown",
   "id": "71ef201e",
   "metadata": {
    "pycharm": {
     "name": "#%% md\n"
    }
   },
   "source": [
    "### Ejercicio A3\n",
    "\n",
    "Escribe una función que reciba como parámetro un array de números enteros, y devuelva el elemento que tiene el valor máximo.\n",
    "\n",
    "_Nota_: posiblemente tengas que usar `if` para comparar valores. \n",
    "\n",
    "Su funcionamiento es muy parecido al de otros lenguajes de programación.\n",
    "\n",
    "_Nota_: llama a la función `myMax`, porque `max` ya está definido en Python."
   ]
  },
  {
   "cell_type": "code",
   "execution_count": 102,
   "id": "84b4d15b",
   "metadata": {
    "pycharm": {
     "name": "#%%\n"
    }
   },
   "outputs": [
    {
     "name": "stdout",
     "output_type": "stream",
     "text": [
      "2\n"
     ]
    }
   ],
   "source": [
    "print(max(1,2))"
   ]
  },
  {
   "cell_type": "code",
   "execution_count": 39,
   "id": "93065b81",
   "metadata": {
    "pycharm": {
     "name": "#%%\n"
    }
   },
   "outputs": [],
   "source": [
    "# Escribe aquí tu código\n",
    "def myMax(numeros):\n",
    "    nmax = numeros[0]\n",
    "    for n in numeros:\n",
    "        if n > nmax:\n",
    "            nmax = n\n",
    "    return nmax\n",
    "\n",
    "\n"
   ]
  },
  {
   "cell_type": "code",
   "execution_count": 38,
   "id": "f3196885",
   "metadata": {
    "pycharm": {
     "name": "#%%\n"
    },
    "scrolled": true
   },
   "outputs": [
    {
     "name": "stdout",
     "output_type": "stream",
     "text": [
      "9\n"
     ]
    }
   ],
   "source": [
    "print(myMax([6, 0, -7, 1, 9, 2]))   # 9"
   ]
  },
  {
   "cell_type": "markdown",
   "id": "5050dc13",
   "metadata": {
    "pycharm": {
     "name": "#%% md\n"
    }
   },
   "source": [
    "### Ejercicio A4\n",
    "Ahora que ya sabes como calcular el valor máximo de un array de números enteros.\n",
    "\n",
    "Escribe una función que reciba como parámetro un array de números enteros, y devuelva el elemento que tiene el valor mínimo.\n"
   ]
  },
  {
   "cell_type": "code",
   "execution_count": null,
   "id": "7786831c",
   "metadata": {},
   "outputs": [],
   "source": [
    "# Escribe aquí tu código\n",
    "def myMin(numeros):\n",
    "    nmin = numeros[0]\n",
    "    for n in numeros:\n",
    "        if n < nmin:\n",
    "            nmin = n\n",
    "    return nmin"
   ]
  },
  {
   "cell_type": "code",
   "execution_count": 40,
   "id": "fc5911db",
   "metadata": {
    "scrolled": true
   },
   "outputs": [
    {
     "name": "stdout",
     "output_type": "stream",
     "text": [
      "-7\n"
     ]
    }
   ],
   "source": [
    "print(myMin([6, 0, -7, 1, 9, 2]))   # -7"
   ]
  },
  {
   "cell_type": "markdown",
   "id": "94d2bbd8",
   "metadata": {
    "pycharm": {
     "name": "#%% md\n"
    }
   },
   "source": [
    "### Ejercicio F3\n",
    "\n",
    "Escribe una función que obtenga los números cuadrados pares de los primeros N números positivos. \n",
    "\n",
    "Para N = 10, el resultado debe ser `[4, 16, 36, 64]`."
   ]
  },
  {
   "cell_type": "code",
   "execution_count": 4,
   "id": "20f13d0e",
   "metadata": {
    "pycharm": {
     "name": "#%%\n"
    }
   },
   "outputs": [
    {
     "name": "stdout",
     "output_type": "stream",
     "text": [
      "[4, 16, 36, 64]\n"
     ]
    }
   ],
   "source": [
    "# Escribe aquí tu código\n",
    "def evenSquares(numbers):\n",
    "    even = list(filter(lambda x: x % 2 == 0, numbers))\n",
    "    squares = list (map(lambda n: n*n, even))\n",
    "    return squares\n",
    "\n",
    "\n",
    "print(evenSquares(range (1,10)))"
   ]
  },
  {
   "cell_type": "markdown",
   "id": "5c18c9eb",
   "metadata": {
    "pycharm": {
     "name": "#%% md\n"
    }
   },
   "source": [
    "### Ejercicio F4\n",
    "\n",
    "Calcula la suma de los cuadrados de los numeros pares que contiene una lista de enteros. \n",
    "\n",
    "Debes combinar `map`, `filter` y `reduce` adecuadamente para conseguirlo."
   ]
  },
  {
   "cell_type": "code",
   "execution_count": 36,
   "id": "7634601a",
   "metadata": {
    "pycharm": {
     "name": "#%%\n"
    }
   },
   "outputs": [
    {
     "name": "stdout",
     "output_type": "stream",
     "text": [
      "120\n"
     ]
    }
   ],
   "source": [
    "# Escribe aquí tu código\n",
    "def evenSquaresSum(numbers):\n",
    "    even = list(filter(lambda x: x % 2 == 0, numbers))\n",
    "    squares = list(map(lambda n: n*n, even))\n",
    "    sumsquares = reduce((lambda x, y: x+y), squares)\n",
    "    return sumsquares\n",
    "\n",
    "\n"
   ]
  },
  {
   "cell_type": "code",
   "execution_count": null,
   "id": "ba4ace8a",
   "metadata": {},
   "outputs": [],
   "source": [
    "print(evenSquaresSum(range (1,10))) # 120\n"
   ]
  },
  {
   "cell_type": "markdown",
   "id": "5fd330a0",
   "metadata": {
    "pycharm": {
     "name": "#%% md\n"
    }
   },
   "source": [
    "### Ejercicio R1\n",
    "\n",
    "Escribe una funcion recursiva para calcular el factorial de un numero entero. Sabemos que:\n",
    "* El factorial de `1` es `1`.\n",
    "* El factorial de `n` es el factorial de `n-1`."
   ]
  },
  {
   "cell_type": "code",
   "execution_count": 6,
   "id": "a37cef8a",
   "metadata": {
    "pycharm": {
     "name": "#%%\n"
    }
   },
   "outputs": [],
   "source": [
    "# Escribe aquí tu código\n",
    "def fact(number):\n",
    "    \n",
    "    if number <= 0:\n",
    "        return 0\n",
    "    if number == 1:\n",
    "        return 1    \n",
    "    \n",
    "    return number * fact(number - 1)\n"
   ]
  },
  {
   "cell_type": "code",
   "execution_count": 7,
   "id": "c2499087",
   "metadata": {
    "pycharm": {
     "name": "#%%\n"
    }
   },
   "outputs": [
    {
     "name": "stdout",
     "output_type": "stream",
     "text": [
      "0\n",
      "1\n",
      "2\n",
      "6\n",
      "24\n",
      "120\n"
     ]
    }
   ],
   "source": [
    "print(fact(0)) # 0\n",
    "print(fact(1)) # 1\n",
    "print(fact(2)) # 2\n",
    "print(fact(3)) # 6\n",
    "print(fact(4)) # 24\n",
    "print(fact(5)) # 120"
   ]
  },
  {
   "cell_type": "markdown",
   "id": "7847acd6",
   "metadata": {
    "pycharm": {
     "name": "#%% md\n"
    }
   },
   "source": [
    "### Ejercicio R2\n",
    "\n",
    "Escribe una funcion recursiva para calcular el maximo comun divisor (`gcd`, por sus siglas en ingles) entre dos numeros, utilizando el Algoritmo de Euclides. \n",
    "\n",
    "Segun este algoritmo, restamos del mayor numero el menor, y seguimos haciendo esta operacion hasta que uno de los dos numeros es 0. \n",
    "\n",
    "En esta situacion, el otro numero es el maximo comun divisor que buscamos.\n",
    "\n",
    "Es decir:\n",
    "* Si uno de los dos numeros es 0, el `gcd` es el otro numero.\n",
    "* El `gcd` de dos numeros, es el `gcd` de:\n",
    "  - El mayor menos el menor.\n",
    "  - El menor."
   ]
  },
  {
   "cell_type": "code",
   "execution_count": 10,
   "id": "d97f7524",
   "metadata": {
    "pycharm": {
     "name": "#%%\n"
    }
   },
   "outputs": [],
   "source": [
    "# Escribe aquí tu código\n",
    "def gcd (x, y):\n",
    "    \n",
    "    if y == 0:\n",
    "        return x;\n",
    "        \n",
    "    return gcd(y , x%y)\n"
   ]
  },
  {
   "cell_type": "code",
   "execution_count": 11,
   "id": "ea094350",
   "metadata": {
    "scrolled": true
   },
   "outputs": [
    {
     "name": "stdout",
     "output_type": "stream",
     "text": [
      "6\n"
     ]
    }
   ],
   "source": [
    "print(gcd(270,192)) # 6"
   ]
  },
  {
   "cell_type": "code",
   "execution_count": 12,
   "id": "fe2af84a",
   "metadata": {
    "pycharm": {
     "name": "#%%\n"
    },
    "scrolled": true
   },
   "outputs": [
    {
     "name": "stdout",
     "output_type": "stream",
     "text": [
      "3\n"
     ]
    }
   ],
   "source": [
    "print(gcd(9, 6)) # 3"
   ]
  },
  {
   "cell_type": "code",
   "execution_count": 13,
   "id": "9935bc29",
   "metadata": {
    "pycharm": {
     "name": "#%%\n"
    }
   },
   "outputs": [
    {
     "name": "stdout",
     "output_type": "stream",
     "text": [
      "15\n"
     ]
    }
   ],
   "source": [
    "print(gcd(30, 75)) # 15"
   ]
  },
  {
   "cell_type": "markdown",
   "id": "396fff70",
   "metadata": {},
   "source": [
    "### Ejercicio F1"
   ]
  },
  {
   "cell_type": "markdown",
   "id": "0174f021",
   "metadata": {},
   "source": [
    "Crea un fichero `demofilex.txt`.\n",
    "\n",
    "Escribe la siguiente frase \"Lorem Ipsum is simply dummy text of the printing and typesetting industry.\"\n",
    "\n",
    "Y lee los primeros 5 caracteres.\n",
    "\n",
    "No olvides cerrar el fichero al terminar."
   ]
  },
  {
   "cell_type": "code",
   "execution_count": 21,
   "id": "a29584d4",
   "metadata": {},
   "outputs": [],
   "source": [
    "# Escribe aquí tu código.\n",
    "\n",
    "xfile = open(\"demofilex.txt\", \"a\")\n",
    "\n",
    "xfile.write(\"Lorem Ipsum is simply dummy text of the printing and typesetting industry.\")\n",
    "\n",
    "xfile.close()\n"
   ]
  },
  {
   "cell_type": "code",
   "execution_count": 22,
   "id": "48e00819",
   "metadata": {},
   "outputs": [
    {
     "name": "stdout",
     "output_type": "stream",
     "text": [
      "Lorem\n"
     ]
    }
   ],
   "source": [
    "\n",
    "xfile = open(\"demofilex.txt\", \"r\")\n",
    "print(xfile.read(5)) #Lorem"
   ]
  },
  {
   "cell_type": "code",
   "execution_count": 23,
   "id": "c9a6a787",
   "metadata": {},
   "outputs": [],
   "source": [
    "import os\n",
    "os.remove(\"demofilex.txt\")"
   ]
  },
  {
   "cell_type": "code",
   "execution_count": null,
   "id": "432cd943",
   "metadata": {},
   "outputs": [],
   "source": []
  }
 ],
 "metadata": {
  "kernelspec": {
   "display_name": "Python 3 (ipykernel)",
   "language": "python",
   "name": "python3"
  },
  "language_info": {
   "codemirror_mode": {
    "name": "ipython",
    "version": 3
   },
   "file_extension": ".py",
   "mimetype": "text/x-python",
   "name": "python",
   "nbconvert_exporter": "python",
   "pygments_lexer": "ipython3",
   "version": "3.9.12"
  }
 },
 "nbformat": 4,
 "nbformat_minor": 5
}
