{
 "cells": [
  {
   "cell_type": "markdown",
   "id": "a64bdaa7",
   "metadata": {},
   "source": [
    "# MasterMind - Pruebas Jesús"
   ]
  },
  {
   "cell_type": "markdown",
   "id": "b0f46901",
   "metadata": {},
   "source": [
    "https://docs.python.org/3/howto/unicode.html"
   ]
  },
  {
   "cell_type": "code",
   "execution_count": 1,
   "id": "a693fcc9",
   "metadata": {},
   "outputs": [],
   "source": [
    "class MasterMindGame:\n",
    "            \n",
    "    maxTurns = 10 #máximo número de turnos para acertar la clave\n",
    "    currentTurn = 0 #turno actual\n",
    "    \n",
    "    def randomCode(self): #genera un código aleatorio\n",
    "        return 0\n",
    "        \n",
    "        \n",
    "    def MasterMindColor(self): #convertir cadenas en colores\n",
    "        return 0"
   ]
  },
  {
   "cell_type": "code",
   "execution_count": 10,
   "id": "48a8e18e",
   "metadata": {},
   "outputs": [
    {
     "name": "stdout",
     "output_type": "stream",
     "text": [
      "probando\n"
     ]
    }
   ],
   "source": [
    "import random\n",
    "\n",
    "testArray = [\"one\", \"two\", \"three\", \"probando\", \"probando\"]\n",
    "\n",
    "print(random.choice(testArray))"
   ]
  },
  {
   "cell_type": "code",
   "execution_count": 36,
   "id": "eb14906f",
   "metadata": {},
   "outputs": [
    {
     "name": "stdout",
     "output_type": "stream",
     "text": [
      "['r', 'g', 'y', 'b', 'k', 'w']\n",
      "['w', 'r', 'b', 'k']\n",
      "['⚪', '🔴', '🔵', '⚫']\n"
     ]
    }
   ],
   "source": [
    "import random\n",
    "\n",
    "validColors = \"rgybkw\"\n",
    "\n",
    "colorsList = list(validColors)\n",
    "\n",
    "print(colorsList)\n",
    "\n",
    "passCode = random.choices(colorsList,k=4)\n",
    "\n",
    "print(passCode)\n",
    "\n",
    "try:\n",
    "    print(toMasterMindColorCombination(passCode))\n",
    "except:\n",
    "    print(\"Error\")\n"
   ]
  },
  {
   "cell_type": "code",
   "execution_count": 20,
   "id": "c707cc21",
   "metadata": {},
   "outputs": [],
   "source": [
    "def MasterMindColor (color:str):\n",
    "    \n",
    "    rcolor = \"Color no encontrado.\"\n",
    "    \n",
    "    MMC = {}\n",
    "\n",
    "    MMC[\"red\"] = \"🔴\"\n",
    "    MMC[\"green\"] = \"🟢\"\n",
    "    MMC[\"yellow\"] = \"🟡\"\n",
    "    MMC[\"blue\"] = \"🔵\"\n",
    "    MMC[\"black\"] = \"⚫\"\n",
    "    MMC[\"white\"] = \"⚪\"\n",
    "    \n",
    "    if color == \"r\" or color == \"R\" or color == \"🔴\":\n",
    "        rcolor = MMC[\"red\"]\n",
    "    elif color == \"g\" or color == \"G\" or color == \"🟢\":\n",
    "        rcolor = MMC[\"green\"]\n",
    "    elif color == \"y\" or color == \"Y\" or color == \"🟡\":\n",
    "        rcolor = MMC[\"yellow\"]\n",
    "    elif color == \"b\" or color == \"B\" or color == \"🔵\":\n",
    "        rcolor = MMC[\"blue\"]\n",
    "    elif color == \"k\" or color == \"K\" or color == \"⚫\":\n",
    "        rcolor = MMC[\"black\"]\n",
    "    elif color == \"w\" or color == \"W\" or color == \"⚪\":\n",
    "        rcolor = MMC[\"white\"]\n",
    "    else:\n",
    "        raise KeyError(rcolor)\n",
    "    \n",
    "    return rcolor"
   ]
  },
  {
   "cell_type": "code",
   "execution_count": 34,
   "id": "3d58a193",
   "metadata": {},
   "outputs": [],
   "source": [
    "def toMasterMindColorCombination (combi:list) -> list:    \n",
    "    return list(map(lambda n: MasterMindColor(n), combi))"
   ]
  },
  {
   "cell_type": "code",
   "execution_count": 52,
   "id": "a566a72a",
   "metadata": {},
   "outputs": [],
   "source": [
    "import random\n",
    "\n",
    "def randomCode(n) -> list:\n",
    "    \n",
    "    validColors = \"rgybkw\"\n",
    "\n",
    "    colorsList = list(validColors)\n",
    "\n",
    "    passCode = random.choices(colorsList,k=n)\n",
    "        \n",
    "    return toMasterMindColorCombination(passCode)        \n",
    "        \n",
    "    "
   ]
  },
  {
   "cell_type": "code",
   "execution_count": 54,
   "id": "6247fc95",
   "metadata": {},
   "outputs": [
    {
     "name": "stdout",
     "output_type": "stream",
     "text": [
      "['🟡', '🟡', '⚪', '🟢']\n"
     ]
    }
   ],
   "source": [
    "print(randomCode(4))"
   ]
  },
  {
   "cell_type": "code",
   "execution_count": 55,
   "id": "9957d9a4",
   "metadata": {},
   "outputs": [
    {
     "name": "stdout",
     "output_type": "stream",
     "text": [
      "['🔴', '⚫']\n"
     ]
    }
   ],
   "source": [
    "print(randomCode(2))"
   ]
  },
  {
   "cell_type": "code",
   "execution_count": 64,
   "id": "8fe69478",
   "metadata": {},
   "outputs": [
    {
     "name": "stdout",
     "output_type": "stream",
     "text": [
      "['🔵', '🔵', '🟢', '⚫', '🟡', '🔴', '🔵', '⚪', '⚪']\n"
     ]
    }
   ],
   "source": [
    "print(randomCode(9))"
   ]
  },
  {
   "cell_type": "code",
   "execution_count": null,
   "id": "1cbeab63",
   "metadata": {},
   "outputs": [],
   "source": [
    "def init():\n",
    "    "
   ]
  }
 ],
 "metadata": {
  "kernelspec": {
   "display_name": "Python 3 (ipykernel)",
   "language": "python",
   "name": "python3"
  },
  "language_info": {
   "codemirror_mode": {
    "name": "ipython",
    "version": 3
   },
   "file_extension": ".py",
   "mimetype": "text/x-python",
   "name": "python",
   "nbconvert_exporter": "python",
   "pygments_lexer": "ipython3",
   "version": "3.9.12"
  }
 },
 "nbformat": 4,
 "nbformat_minor": 5
}
